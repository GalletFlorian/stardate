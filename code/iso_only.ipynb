{
 "cells": [
  {
   "cell_type": "code",
   "execution_count": 2,
   "metadata": {},
   "outputs": [
    {
     "name": "stderr",
     "output_type": "stream",
     "text": [
      "WARNING:root:PyMultiNest not imported.  MultiNest fits will not work.\n"
     ]
    }
   ],
   "source": [
    "import numpy as np\n",
    "import matplotlib.pyplot as plt\n",
    "%matplotlib inline\n",
    "import pandas as pd\n",
    "import h5py\n",
    "import tqdm\n",
    "from chronology import setup, run_mcmc, make_plots\n",
    "\n",
    "plotpar = {'axes.labelsize': 25,\n",
    "           'font.size': 25,\n",
    "           'legend.fontsize': 25,\n",
    "           'xtick.labelsize': 25,\n",
    "           'ytick.labelsize': 25,\n",
    "           'text.usetex': True}\n",
    "plt.rcParams.update(plotpar)"
   ]
  },
  {
   "cell_type": "code",
   "execution_count": 3,
   "metadata": {},
   "outputs": [],
   "source": [
    "df = pd.read_csv(\"simulated_data.csv\")"
   ]
  },
  {
   "cell_type": "code",
   "execution_count": 5,
   "metadata": {},
   "outputs": [],
   "source": [
    "teff_err = 50  # Kelvin\n",
    "logg_err = .1  # dex\n",
    "feh_err = .01  # dex\n",
    "jmag_err = .01 # mags\n",
    "hmag_err = .01  # mags\n",
    "kmag_err = .01  # mags\n",
    "parallax_err = .01  # milliarcseconds\n",
    "prot_err = 1  # Days\n",
    "BV_err = .01  # mags"
   ]
  },
  {
   "cell_type": "code",
   "execution_count": 6,
   "metadata": {},
   "outputs": [],
   "source": [
    "obs = pd.DataFrame(dict({\"teff\": df.teff, \"teff_err\": teff_err,\n",
    "                         \"logg\": df.logg, \"logg_err\": logg_err,\n",
    "                         \"feh\": df.feh, \"feh_err\": feh_err, \n",
    "                         \"jmag\": df.jmag, \"jmag_err\": jmag_err,\n",
    "                         \"hmag\": df.hmag, \"hmag_err\": hmag_err,\n",
    "                         \"kmag\": df.kmag, \"kmag_err\": kmag_err,\n",
    "                         \"parallax\": df.parallax, \"parallax_err\": parallax_err, \n",
    "                         \"prot\": df.prot, \"prot_err\": prot_err,\n",
    "                         \"BV\": df.BV, \"BV_err\": BV_err}))"
   ]
  },
  {
   "cell_type": "code",
   "execution_count": null,
   "metadata": {},
   "outputs": [
    {
     "name": "stderr",
     "output_type": "stream",
     "text": [
      "\n",
      "  0%|          | 0/649 [00:00<?, ?it/s]\u001b[A"
     ]
    },
    {
     "name": "stdout",
     "output_type": "stream",
     "text": [
      "0 of 649\n",
      "Burning in...\n"
     ]
    },
    {
     "name": "stderr",
     "output_type": "stream",
     "text": [
      "/Users/ruthangus/projects/habitablezoning/code/chronology.py:104: RuntimeWarning: divide by zero encountered in log\n",
      "  age_prior = np.log(priors.age_prior(params[1]))\n",
      "\n"
     ]
    },
    {
     "name": "stdout",
     "output_type": "stream",
     "text": [
      "Production run...\n",
      "truths =  [-0.4467604118897715, 9.752624233921939, -0.08267824402612095, -2.148468326213699, 0.17821956613160206]\n",
      "Plotting age posterior\n",
      "Plotting production chains...\n",
      "Making corner plot...\n",
      "Making linear corner plot...\n"
     ]
    },
    {
     "name": "stderr",
     "output_type": "stream",
     "text": [
      "\r",
      "  0%|          | 1/649 [06:18<68:03:14, 378.08s/it]"
     ]
    },
    {
     "name": "stdout",
     "output_type": "stream",
     "text": [
      "Saving samples...\n",
      "1 of 649\n",
      "Burning in...\n"
     ]
    },
    {
     "name": "stderr",
     "output_type": "stream",
     "text": [
      "/Users/ruthangus/projects/habitablezoning/code/chronology.py:106: RuntimeWarning: overflow encountered in exp\n",
      "  distance_prior = np.log(priors.distance_prior(np.exp(params[3])))\n",
      "/Users/ruthangus/projects/habitablezoning/code/priors.py:34: RuntimeWarning: overflow encountered in double_scalars\n",
      "  return 3/max_distance**3 * distance**2\n"
     ]
    },
    {
     "name": "stdout",
     "output_type": "stream",
     "text": [
      "Production run...\n",
      "truths =  [-0.5860550971670604, 9.47761436478077, 0.1594897794024978, -1.0650310434531505, 0.15903600388142913]\n",
      "Plotting age posterior\n",
      "Plotting production chains...\n",
      "Making corner plot...\n",
      "Making linear corner plot...\n"
     ]
    },
    {
     "name": "stderr",
     "output_type": "stream",
     "text": [
      "\r",
      "  0%|          | 2/649 [12:22<67:11:38, 373.88s/it]"
     ]
    },
    {
     "name": "stdout",
     "output_type": "stream",
     "text": [
      "Saving samples...\n",
      "2 of 649\n",
      "Burning in...\n",
      "Production run...\n",
      "truths =  [-0.4863637971520793, 9.769846506449994, -0.02129672009895261, -0.46517634047232015, 0.5056141198284714]\n",
      "Plotting age posterior\n",
      "Plotting production chains...\n",
      "Making corner plot...\n",
      "Making linear corner plot...\n"
     ]
    },
    {
     "name": "stderr",
     "output_type": "stream",
     "text": [
      "\r",
      "  0%|          | 3/649 [18:28<66:42:30, 371.75s/it]"
     ]
    },
    {
     "name": "stdout",
     "output_type": "stream",
     "text": [
      "Saving samples...\n",
      "3 of 649\n",
      "Burning in...\n",
      "Production run...\n",
      "truths =  [-0.6482970290786929, 9.132769801618592, 0.18509518195266014, -0.3272855451934451, 0.3792206670156171]\n",
      "Plotting age posterior\n",
      "Plotting production chains...\n",
      "Making corner plot...\n",
      "Making linear corner plot...\n"
     ]
    },
    {
     "name": "stderr",
     "output_type": "stream",
     "text": [
      "\r",
      "  1%|          | 4/649 [24:42<66:43:15, 372.40s/it]"
     ]
    },
    {
     "name": "stdout",
     "output_type": "stream",
     "text": [
      "Saving samples...\n",
      "4 of 649\n",
      "Burning in...\n",
      "Production run...\n",
      "truths =  [-0.3007500839260305, 9.706508699109156, 0.05323828050539536, -0.07112547500501873, 0.0595858267237227]\n",
      "Plotting age posterior\n",
      "Plotting production chains...\n",
      "Making corner plot...\n",
      "Making linear corner plot...\n"
     ]
    },
    {
     "name": "stderr",
     "output_type": "stream",
     "text": [
      "\r",
      "  1%|          | 5/649 [30:26<65:04:39, 363.79s/it]"
     ]
    },
    {
     "name": "stdout",
     "output_type": "stream",
     "text": [
      "Saving samples...\n",
      "5 of 649\n",
      "Burning in...\n",
      "Production run...\n",
      "truths =  [-0.6109206497753745, 10.024023873120044, 0.031261541078583484, -0.11459004525392437, 0.7348164395309852]\n",
      "Plotting age posterior\n",
      "Plotting production chains...\n",
      "Making corner plot...\n",
      "Making linear corner plot...\n"
     ]
    },
    {
     "name": "stderr",
     "output_type": "stream",
     "text": [
      "\r",
      "  1%|          | 6/649 [36:02<63:29:17, 355.46s/it]"
     ]
    },
    {
     "name": "stdout",
     "output_type": "stream",
     "text": [
      "Saving samples...\n",
      "6 of 649\n",
      "Burning in...\n",
      "Production run...\n",
      "truths =  [-0.3619661132084392, 10.057302013700175, 0.09299959828819282, -0.38494131826922046, 0.3369159392561387]\n",
      "Plotting age posterior\n",
      "Plotting production chains...\n",
      "Making corner plot...\n",
      "Making linear corner plot...\n"
     ]
    },
    {
     "name": "stderr",
     "output_type": "stream",
     "text": [
      "\r",
      "  1%|          | 7/649 [41:32<62:00:10, 347.68s/it]"
     ]
    },
    {
     "name": "stdout",
     "output_type": "stream",
     "text": [
      "Saving samples...\n",
      "7 of 649\n",
      "Burning in...\n"
     ]
    },
    {
     "name": "stderr",
     "output_type": "stream",
     "text": [
      "/Users/ruthangus/projects/habitablezoning/code/chronology.py:104: RuntimeWarning: divide by zero encountered in log\n",
      "  age_prior = np.log(priors.age_prior(params[1]))\n",
      "/Users/ruthangus/projects/habitablezoning/code/chronology.py:106: RuntimeWarning: overflow encountered in exp\n",
      "  distance_prior = np.log(priors.distance_prior(np.exp(params[3])))\n",
      "/Users/ruthangus/projects/habitablezoning/code/priors.py:34: RuntimeWarning: overflow encountered in double_scalars\n",
      "  return 3/max_distance**3 * distance**2\n"
     ]
    },
    {
     "name": "stdout",
     "output_type": "stream",
     "text": [
      "Production run...\n",
      "truths =  [-0.664379962464888, 10.096062839734435, -0.06872738904671896, -0.11465024208673906, 0.0781926037415821]\n",
      "Plotting age posterior\n",
      "Plotting production chains...\n",
      "Making corner plot...\n",
      "Making linear corner plot...\n"
     ]
    },
    {
     "name": "stderr",
     "output_type": "stream",
     "text": [
      "\r",
      "  1%|          | 8/649 [47:39<62:56:19, 353.48s/it]"
     ]
    },
    {
     "name": "stdout",
     "output_type": "stream",
     "text": [
      "Saving samples...\n",
      "8 of 649\n",
      "Burning in...\n"
     ]
    },
    {
     "name": "stderr",
     "output_type": "stream",
     "text": [
      "/Users/ruthangus/projects/habitablezoning/code/chronology.py:104: RuntimeWarning: divide by zero encountered in log\n",
      "  age_prior = np.log(priors.age_prior(params[1]))\n",
      "/Users/ruthangus/projects/habitablezoning/code/chronology.py:106: RuntimeWarning: overflow encountered in exp\n",
      "  distance_prior = np.log(priors.distance_prior(np.exp(params[3])))\n",
      "/Users/ruthangus/projects/habitablezoning/code/priors.py:34: RuntimeWarning: overflow encountered in double_scalars\n",
      "  return 3/max_distance**3 * distance**2\n"
     ]
    },
    {
     "name": "stdout",
     "output_type": "stream",
     "text": [
      "Production run...\n",
      "truths =  [-0.41935259920306345, 9.336500703211804, -0.054403832148802594, -1.033545421272206, 0.723738540268103]\n",
      "Plotting age posterior\n",
      "Plotting production chains...\n",
      "Making corner plot...\n",
      "Making linear corner plot...\n"
     ]
    },
    {
     "name": "stderr",
     "output_type": "stream",
     "text": [
      "\r",
      "  1%|▏         | 9/649 [3:30:18<564:29:37, 3175.28s/it]"
     ]
    },
    {
     "name": "stdout",
     "output_type": "stream",
     "text": [
      "Saving samples...\n",
      "9 of 649\n",
      "Burning in...\n",
      "Production run...\n",
      "truths =  [-0.4067630822080706, 9.02669966892684, -0.16221347772145178, -3.533241709618087, 0.4077936403998201]\n",
      "Plotting age posterior\n",
      "Plotting production chains...\n",
      "Making corner plot...\n",
      "Making linear corner plot...\n"
     ]
    },
    {
     "name": "stderr",
     "output_type": "stream",
     "text": [
      "\r",
      "  2%|▏         | 10/649 [16:33:15<2896:01:55, 16315.67s/it]"
     ]
    },
    {
     "name": "stdout",
     "output_type": "stream",
     "text": [
      "Saving samples...\n",
      "10 of 649\n",
      "Burning in...\n"
     ]
    },
    {
     "name": "stderr",
     "output_type": "stream",
     "text": [
      "/Users/ruthangus/projects/habitablezoning/code/chronology.py:104: RuntimeWarning: divide by zero encountered in log\n",
      "  age_prior = np.log(priors.age_prior(params[1]))\n",
      "/Users/ruthangus/projects/habitablezoning/code/priors.py:34: RuntimeWarning: overflow encountered in double_scalars\n",
      "  return 3/max_distance**3 * distance**2\n",
      "/Users/ruthangus/projects/habitablezoning/code/chronology.py:106: RuntimeWarning: overflow encountered in exp\n",
      "  distance_prior = np.log(priors.distance_prior(np.exp(params[3])))\n"
     ]
    },
    {
     "name": "stdout",
     "output_type": "stream",
     "text": [
      "Production run...\n",
      "truths =  [-0.25226745616962054, 10.111276974618383, -0.01604116341661843, -0.8565130312221187, 0.901201483632856]\n",
      "Plotting age posterior\n",
      "Plotting production chains...\n",
      "Making corner plot...\n",
      "Making linear corner plot...\n"
     ]
    },
    {
     "name": "stderr",
     "output_type": "stream",
     "text": [
      "\r",
      "  2%|▏         | 11/649 [17:12:18<2148:37:36, 12123.91s/it]"
     ]
    },
    {
     "name": "stdout",
     "output_type": "stream",
     "text": [
      "Saving samples...\n",
      "11 of 649\n",
      "Burning in...\n",
      "Production run...\n",
      "truths =  [-0.3742333544513608, 9.916891805998484, 0.1221037049232907, -0.4847667283795025, 0.013276610368066377]\n",
      "Plotting age posterior\n",
      "Plotting production chains...\n",
      "Making corner plot...\n",
      "Making linear corner plot...\n"
     ]
    },
    {
     "name": "stderr",
     "output_type": "stream",
     "text": [
      "\r",
      "  2%|▏         | 12/649 [17:17:57<1519:40:31, 8588.43s/it] "
     ]
    },
    {
     "name": "stdout",
     "output_type": "stream",
     "text": [
      "Saving samples...\n",
      "12 of 649\n",
      "Burning in...\n",
      "Production run...\n",
      "truths =  [-0.0881132341236219, 9.597046702091003, 0.1647861677569986, -0.8825621618394279, 0.7364928270846776]\n",
      "Plotting age posterior\n",
      "Plotting production chains...\n",
      "Making corner plot...\n",
      "Making linear corner plot...\n"
     ]
    },
    {
     "name": "stderr",
     "output_type": "stream",
     "text": [
      "\r",
      "  2%|▏         | 13/649 [17:23:49<1080:46:44, 6117.62s/it]"
     ]
    },
    {
     "name": "stdout",
     "output_type": "stream",
     "text": [
      "Saving samples...\n",
      "13 of 649\n",
      "Burning in...\n"
     ]
    },
    {
     "name": "stderr",
     "output_type": "stream",
     "text": [
      "/Users/ruthangus/projects/habitablezoning/code/chronology.py:104: RuntimeWarning: divide by zero encountered in log\n",
      "  age_prior = np.log(priors.age_prior(params[1]))\n",
      "/Users/ruthangus/projects/habitablezoning/code/priors.py:34: RuntimeWarning: overflow encountered in double_scalars\n",
      "  return 3/max_distance**3 * distance**2\n",
      "/Users/ruthangus/projects/habitablezoning/code/chronology.py:106: RuntimeWarning: overflow encountered in exp\n",
      "  distance_prior = np.log(priors.distance_prior(np.exp(params[3])))\n"
     ]
    },
    {
     "name": "stdout",
     "output_type": "stream",
     "text": [
      "Production run...\n",
      "truths =  [-0.05187693371158192, 9.541841545318949, 0.09539081081490897, -0.03088503603629014, 0.8498993417065163]\n",
      "Plotting age posterior\n",
      "Plotting production chains...\n",
      "Making corner plot...\n",
      "Making linear corner plot...\n"
     ]
    },
    {
     "name": "stderr",
     "output_type": "stream",
     "text": [
      "\r",
      "  2%|▏         | 14/649 [17:29:30<773:22:54, 4384.53s/it] "
     ]
    },
    {
     "name": "stdout",
     "output_type": "stream",
     "text": [
      "Saving samples...\n",
      "14 of 649\n",
      "Burning in...\n",
      "Production run...\n",
      "truths =  [-0.08453495850397717, 8.935906195931732, 0.054974169846325686, -1.0613920736220128, 0.6576967624990326]\n",
      "Plotting age posterior\n",
      "Plotting production chains...\n",
      "Making corner plot...\n",
      "Making linear corner plot...\n"
     ]
    },
    {
     "name": "stderr",
     "output_type": "stream",
     "text": [
      "\r",
      "  2%|▏         | 15/649 [17:35:23<559:11:22, 3175.21s/it]"
     ]
    },
    {
     "name": "stdout",
     "output_type": "stream",
     "text": [
      "Saving samples...\n",
      "15 of 649\n",
      "Burning in...\n",
      "Production run...\n",
      "truths =  [-0.3987746410844095, 10.061308936368238, 0.17557781740151013, -1.617209442268505, 0.914832822479442]\n",
      "Plotting age posterior\n",
      "Plotting production chains...\n",
      "Making corner plot...\n",
      "Making linear corner plot...\n"
     ]
    },
    {
     "name": "stderr",
     "output_type": "stream",
     "text": [
      "\r",
      "  2%|▏         | 16/649 [17:41:12<409:11:20, 2327.14s/it]"
     ]
    },
    {
     "name": "stdout",
     "output_type": "stream",
     "text": [
      "Saving samples...\n",
      "16 of 649\n",
      "Burning in...\n",
      "Production run...\n",
      "truths =  [-0.24182992938365946, 9.532150920886467, -0.15696549893207534, -0.11259300727068833, 0.33821589759209625]\n",
      "Plotting age posterior\n",
      "Plotting production chains...\n",
      "Making corner plot...\n",
      "Making linear corner plot...\n"
     ]
    },
    {
     "name": "stderr",
     "output_type": "stream",
     "text": [
      "\r",
      "  3%|▎         | 17/649 [17:46:55<304:04:21, 1732.06s/it]"
     ]
    },
    {
     "name": "stdout",
     "output_type": "stream",
     "text": [
      "Saving samples...\n",
      "17 of 649\n",
      "Burning in...\n",
      "Production run...\n",
      "truths =  [-0.20618649035414413, 10.087065319554505, -0.17618169371171066, -0.558454380385528, 0.8804182005143313]\n",
      "Plotting age posterior\n",
      "Plotting production chains...\n",
      "Making corner plot...\n",
      "Making linear corner plot...\n"
     ]
    },
    {
     "name": "stderr",
     "output_type": "stream",
     "text": [
      "WARNING:root:Too few points to create valid contours\n",
      "WARNING:root:Too few points to create valid contours\n",
      "WARNING:root:Too few points to create valid contours\n",
      "  3%|▎         | 18/649 [17:52:27<229:59:12, 1312.13s/it]"
     ]
    },
    {
     "name": "stdout",
     "output_type": "stream",
     "text": [
      "Saving samples...\n",
      "18 of 649\n",
      "Burning in...\n",
      "Production run...\n",
      "truths =  [-0.6197240913137082, 10.13879834413947, -0.1512599656974267, -1.6790762823872685, 0.9103194936928792]\n",
      "Plotting age posterior\n",
      "Plotting production chains...\n",
      "Making corner plot...\n",
      "Making linear corner plot...\n"
     ]
    },
    {
     "name": "stderr",
     "output_type": "stream",
     "text": [
      "\r",
      "  3%|▎         | 19/649 [17:58:29<179:42:58, 1026.95s/it]"
     ]
    },
    {
     "name": "stdout",
     "output_type": "stream",
     "text": [
      "Saving samples...\n",
      "19 of 649\n",
      "Burning in...\n",
      "Production run...\n",
      "truths =  [-0.3747111648693413, 9.984098451817337, 0.14382080702138314, -0.939954047027251, 0.3601845657823891]\n",
      "Plotting age posterior\n",
      "Plotting production chains...\n",
      "Making corner plot...\n",
      "Making linear corner plot...\n"
     ]
    },
    {
     "name": "stderr",
     "output_type": "stream",
     "text": [
      "\r",
      "  3%|▎         | 20/649 [18:04:04<143:09:16, 819.33s/it] "
     ]
    },
    {
     "name": "stdout",
     "output_type": "stream",
     "text": [
      "Saving samples...\n",
      "20 of 649\n",
      "Burning in...\n",
      "Production run...\n",
      "truths =  [-0.36023907527224847, 9.933840444979397, 0.1946346379909984, -0.0165560374091402, 0.24086474886557274]\n",
      "Plotting age posterior\n",
      "Plotting production chains...\n",
      "Making corner plot...\n",
      "Making linear corner plot...\n"
     ]
    },
    {
     "name": "stderr",
     "output_type": "stream",
     "text": [
      "\r",
      "  3%|▎         | 21/649 [18:09:09<116:01:39, 665.13s/it]"
     ]
    },
    {
     "name": "stdout",
     "output_type": "stream",
     "text": [
      "Saving samples...\n",
      "21 of 649\n",
      "Burning in...\n",
      "Production run...\n",
      "truths =  [-0.5033632982322142, 9.828587313397668, 0.1143559101401826, -0.819841366857946, 0.6810636967542391]\n",
      "Plotting age posterior\n",
      "Plotting production chains...\n",
      "Making corner plot...\n",
      "Making linear corner plot...\n"
     ]
    },
    {
     "name": "stderr",
     "output_type": "stream",
     "text": [
      "\r",
      "  3%|▎         | 22/649 [18:14:57<99:15:20, 569.89s/it] "
     ]
    },
    {
     "name": "stdout",
     "output_type": "stream",
     "text": [
      "Saving samples...\n",
      "22 of 649\n",
      "Burning in...\n",
      "Production run...\n",
      "truths =  [-0.1899672575629729, 9.881806610842382, 0.002383649650378905, -2.9697226963454204, 0.2708621848531608]\n",
      "Plotting age posterior\n",
      "Plotting production chains...\n",
      "Making corner plot...\n",
      "Making linear corner plot...\n"
     ]
    },
    {
     "name": "stderr",
     "output_type": "stream",
     "text": [
      "\r",
      "  4%|▎         | 23/649 [18:21:24<89:34:17, 515.11s/it]"
     ]
    },
    {
     "name": "stdout",
     "output_type": "stream",
     "text": [
      "Saving samples...\n",
      "23 of 649\n",
      "Burning in...\n",
      "Production run...\n",
      "truths =  [0.015824673903215007, 9.546754414860024, 0.14112771911639488, -0.9159203122777944, 0.19529862210816384]\n",
      "Plotting age posterior\n",
      "Plotting production chains...\n",
      "Making corner plot...\n",
      "Making linear corner plot...\n"
     ]
    },
    {
     "name": "stderr",
     "output_type": "stream",
     "text": [
      "\r",
      "  4%|▎         | 24/649 [18:27:54<82:54:55, 477.59s/it]"
     ]
    },
    {
     "name": "stdout",
     "output_type": "stream",
     "text": [
      "Saving samples...\n",
      "24 of 649\n",
      "Burning in...\n"
     ]
    },
    {
     "name": "stderr",
     "output_type": "stream",
     "text": [
      "/Users/ruthangus/projects/habitablezoning/code/chronology.py:104: RuntimeWarning: divide by zero encountered in log\n",
      "  age_prior = np.log(priors.age_prior(params[1]))\n"
     ]
    },
    {
     "name": "stdout",
     "output_type": "stream",
     "text": [
      "Production run...\n",
      "truths =  [0.13009231216391165, 8.791603268655738, 0.006082525627879948, -1.9319742562557933, 0.8864953361029485]\n",
      "Plotting age posterior\n",
      "Plotting production chains...\n",
      "Making corner plot...\n",
      "Making linear corner plot...\n"
     ]
    },
    {
     "name": "stderr",
     "output_type": "stream",
     "text": [
      "\r",
      "  4%|▍         | 25/649 [18:34:41<79:06:44, 456.42s/it]"
     ]
    },
    {
     "name": "stdout",
     "output_type": "stream",
     "text": [
      "Saving samples...\n",
      "25 of 649\n",
      "Burning in...\n",
      "Production run...\n",
      "truths =  [-0.3817533722137009, 10.085351819181623, -0.01878946492894587, -2.938101417023797, 0.3952466066624959]\n",
      "Plotting age posterior\n",
      "Plotting production chains...\n",
      "Making corner plot...\n",
      "Making linear corner plot...\n"
     ]
    },
    {
     "name": "stderr",
     "output_type": "stream",
     "text": [
      "\r",
      "  4%|▍         | 26/649 [18:41:12<75:33:36, 436.62s/it]"
     ]
    },
    {
     "name": "stdout",
     "output_type": "stream",
     "text": [
      "Saving samples...\n",
      "26 of 649\n",
      "Burning in...\n"
     ]
    },
    {
     "name": "stderr",
     "output_type": "stream",
     "text": [
      "/Users/ruthangus/projects/habitablezoning/code/priors.py:34: RuntimeWarning: overflow encountered in double_scalars\n",
      "  return 3/max_distance**3 * distance**2\n",
      "/Users/ruthangus/projects/habitablezoning/code/chronology.py:106: RuntimeWarning: overflow encountered in exp\n",
      "  distance_prior = np.log(priors.distance_prior(np.exp(params[3])))\n"
     ]
    },
    {
     "name": "stdout",
     "output_type": "stream",
     "text": [
      "Production run...\n",
      "truths =  [-0.27958220876724205, 9.97219232817938, 0.1183582938784946, -2.1486460629433597, 0.296030420007226]\n",
      "Plotting age posterior\n",
      "Plotting production chains...\n",
      "Making corner plot...\n",
      "Making linear corner plot...\n"
     ]
    },
    {
     "name": "stderr",
     "output_type": "stream",
     "text": [
      "\r",
      "  4%|▍         | 27/649 [18:47:56<73:45:56, 426.94s/it]"
     ]
    },
    {
     "name": "stdout",
     "output_type": "stream",
     "text": [
      "Saving samples...\n",
      "27 of 649\n",
      "Burning in...\n",
      "Production run...\n",
      "truths =  [-0.22418672273543358, 10.040234969768338, 0.0944864249527278, -1.2584921944763057, 0.9679500645351484]\n",
      "Plotting age posterior\n",
      "Plotting production chains...\n",
      "Making corner plot...\n",
      "Making linear corner plot...\n"
     ]
    },
    {
     "name": "stderr",
     "output_type": "stream",
     "text": [
      "\r",
      "  4%|▍         | 28/649 [18:54:34<72:09:44, 418.33s/it]"
     ]
    },
    {
     "name": "stdout",
     "output_type": "stream",
     "text": [
      "Saving samples...\n",
      "28 of 649\n",
      "Burning in...\n",
      "Production run...\n",
      "truths =  [0.016103929986537712, 9.396945043975359, -0.1579148772716281, -0.34628248726092925, 0.702522341249909]\n",
      "Plotting age posterior\n",
      "Plotting production chains...\n",
      "Making corner plot...\n"
     ]
    },
    {
     "name": "stderr",
     "output_type": "stream",
     "text": [
      "WARNING:root:Too few points to create valid contours\n",
      "WARNING:root:Too few points to create valid contours\n"
     ]
    },
    {
     "name": "stdout",
     "output_type": "stream",
     "text": [
      "Making linear corner plot...\n"
     ]
    },
    {
     "name": "stderr",
     "output_type": "stream",
     "text": [
      "WARNING:root:Too few points to create valid contours\n",
      "WARNING:root:Too few points to create valid contours\n",
      "  4%|▍         | 29/649 [19:00:49<69:47:23, 405.23s/it]"
     ]
    },
    {
     "name": "stdout",
     "output_type": "stream",
     "text": [
      "Saving samples...\n",
      "29 of 649\n",
      "Burning in...\n"
     ]
    },
    {
     "name": "stderr",
     "output_type": "stream",
     "text": [
      "/Users/ruthangus/projects/habitablezoning/code/chronology.py:104: RuntimeWarning: divide by zero encountered in log\n",
      "  age_prior = np.log(priors.age_prior(params[1]))\n",
      "/Users/ruthangus/projects/habitablezoning/code/priors.py:34: RuntimeWarning: overflow encountered in double_scalars\n",
      "  return 3/max_distance**3 * distance**2\n",
      "/Users/ruthangus/projects/habitablezoning/code/chronology.py:106: RuntimeWarning: overflow encountered in exp\n",
      "  distance_prior = np.log(priors.distance_prior(np.exp(params[3])))\n"
     ]
    },
    {
     "name": "stdout",
     "output_type": "stream",
     "text": [
      "Production run...\n",
      "truths =  [-0.1768053214675371, 9.596405791462027, 0.15740165631914801, -0.6174878303029034, 0.33333303969471795]\n",
      "Plotting age posterior\n",
      "Plotting production chains...\n",
      "Making corner plot...\n",
      "Making linear corner plot...\n"
     ]
    },
    {
     "name": "stderr",
     "output_type": "stream",
     "text": [
      "WARNING:root:Too few points to create valid contours\n",
      "WARNING:root:Too few points to create valid contours\n",
      "  5%|▍         | 30/649 [19:06:49<67:22:27, 391.84s/it]"
     ]
    },
    {
     "name": "stdout",
     "output_type": "stream",
     "text": [
      "Saving samples...\n",
      "30 of 649\n",
      "Burning in...\n",
      "Production run...\n",
      "truths =  [-0.19011060845810263, 9.860966947805062, -0.003851800954354945, -0.30070474610220954, 0.3288811963070466]\n",
      "Plotting age posterior\n",
      "Plotting production chains...\n",
      "Making corner plot...\n",
      "Making linear corner plot...\n"
     ]
    },
    {
     "name": "stderr",
     "output_type": "stream",
     "text": [
      "WARNING:root:Too few points to create valid contours\n",
      "WARNING:root:Too few points to create valid contours\n",
      "  5%|▍         | 31/649 [19:12:38<65:03:39, 379.00s/it]"
     ]
    },
    {
     "name": "stdout",
     "output_type": "stream",
     "text": [
      "Saving samples...\n",
      "31 of 649\n",
      "Burning in...\n",
      "Production run...\n",
      "truths =  [-0.4232993417001439, 9.796004477419515, 0.14506583281621105, -1.6084586157201883, 0.8281709590651297]\n",
      "Plotting age posterior\n",
      "Plotting production chains...\n",
      "Making corner plot...\n",
      "Making linear corner plot...\n"
     ]
    },
    {
     "name": "stderr",
     "output_type": "stream",
     "text": [
      "\r",
      "  5%|▍         | 32/649 [19:19:12<65:42:16, 383.37s/it]"
     ]
    },
    {
     "name": "stdout",
     "output_type": "stream",
     "text": [
      "Saving samples...\n",
      "32 of 649\n",
      "Burning in...\n",
      "Production run...\n",
      "truths =  [0.000736850069933268, 8.937564861319366, 0.07385575235951719, -1.1680666187815092, 0.4812168949071453]\n",
      "Plotting age posterior\n",
      "Plotting production chains...\n",
      "Making corner plot...\n",
      "Making linear corner plot...\n"
     ]
    },
    {
     "name": "stderr",
     "output_type": "stream",
     "text": [
      "\r",
      "  5%|▌         | 33/649 [19:26:02<66:58:44, 391.44s/it]"
     ]
    },
    {
     "name": "stdout",
     "output_type": "stream",
     "text": [
      "Saving samples...\n",
      "33 of 649\n",
      "Burning in...\n",
      "Production run...\n",
      "truths =  [-0.304056214587396, 9.751856745745703, 0.1655163759154758, -0.06277533060091356, 0.7254124024277417]\n",
      "Plotting age posterior\n",
      "Plotting production chains...\n",
      "Making corner plot...\n",
      "Making linear corner plot...\n"
     ]
    },
    {
     "name": "stderr",
     "output_type": "stream",
     "text": [
      "\r",
      "  5%|▌         | 34/649 [19:32:05<65:25:09, 382.94s/it]"
     ]
    },
    {
     "name": "stdout",
     "output_type": "stream",
     "text": [
      "Saving samples...\n",
      "34 of 649\n",
      "Burning in...\n",
      "Production run...\n",
      "truths =  [-0.13635050934278856, 9.978063619137453, 0.17743868654983005, -0.04324091731470562, 0.4217686424136707]\n",
      "Plotting age posterior\n",
      "Plotting production chains...\n",
      "Making corner plot...\n",
      "Making linear corner plot...\n"
     ]
    },
    {
     "name": "stderr",
     "output_type": "stream",
     "text": [
      "\r",
      "  5%|▌         | 35/649 [19:38:32<65:31:03, 384.14s/it]"
     ]
    },
    {
     "name": "stdout",
     "output_type": "stream",
     "text": [
      "Saving samples...\n",
      "35 of 649\n",
      "Burning in...\n",
      "Production run...\n"
     ]
    }
   ],
   "source": [
    "savedir = \"simulation_results/iso_only\"\n",
    "gyro_only, iso_only = False, True\n",
    "\n",
    "N = len(df)\n",
    "for i in tqdm.tqdm(range(0, N)):\n",
    "    print(i, \"of\", N)\n",
    "    \n",
    "    # Set the initial values\n",
    "    mass_init = 1.\n",
    "    age_init = 9.\n",
    "    feh_init = 0.\n",
    "    distance_init = .5\n",
    "    Av_init = .01\n",
    "\n",
    "    # sample in ln(mass), log10(age) and ln(distance).\n",
    "    p_init = np.array([np.log(mass_init), age_init, feh_init, np.log(distance_init), Av_init])\n",
    "    \n",
    "    np.random.seed(42)\n",
    "    mod, param_dict, args = setup(obs.iloc[i], gyro_only=gyro_only, iso_only=iso_only)\n",
    "    sampler = run_mcmc(obs.iloc[i], args, p_init, burnin=15000, production=50000)\n",
    "        \n",
    "    # Make the plots\n",
    "    truths = [np.log(df.mass.values[i]), df.age.values[i], df.feh.values[i],\n",
    "              np.log(df.d_kpc.values[i]), df.Av.values[i]]\n",
    "    print(\"truths = \", truths)\n",
    "    make_plots(sampler, i, truths, savedir)\n",
    "    \n",
    "    # Save the samples\n",
    "    samples = sampler.flatchain\n",
    "    print(\"Saving samples...\")\n",
    "    with h5py.File(\"{0}/{1}.h5\".format(savedir, str(i).zfill(4)), \"w\") as f:\n",
    "        data = f.create_dataset(\"samples\", np.shape(samples))\n",
    "        data[:, :] = samples"
   ]
  },
  {
   "cell_type": "code",
   "execution_count": 7,
   "metadata": {},
   "outputs": [
    {
     "name": "stderr",
     "output_type": "stream",
     "text": [
      "\r",
      "  0%|          | 0/649 [00:00<?, ?it/s]"
     ]
    },
    {
     "name": "stdout",
     "output_type": "stream",
     "text": [
      "0 of 649\n",
      "Burning in...\n"
     ]
    },
    {
     "name": "stderr",
     "output_type": "stream",
     "text": [
      "/Users/ruthangus/projects/habitablezoning/code/chronology.py:104: RuntimeWarning: divide by zero encountered in log\n",
      "  age_prior = np.log(priors.age_prior(params[1]))\n"
     ]
    },
    {
     "name": "stdout",
     "output_type": "stream",
     "text": [
      "Production run...\n",
      "truths =  [-0.4467604118897715, 9.752624233921939, -0.08267824402612095, -2.148468326213699, 0.17821956613160206]\n",
      "Plotting age posterior\n",
      "Plotting production chains...\n",
      "Making corner plot...\n",
      "Making linear corner plot...\n",
      "Saving samples...\n"
     ]
    },
    {
     "ename": "TypeError",
     "evalue": "No conversion path for dtype: dtype('<U27')",
     "output_type": "error",
     "traceback": [
      "\u001b[0;31m---------------------------------------------------------------------------\u001b[0m",
      "\u001b[0;31mTypeError\u001b[0m                                 Traceback (most recent call last)",
      "\u001b[0;32m<ipython-input-7-4d5b06bd05c4>\u001b[0m in \u001b[0;36m<module>\u001b[0;34m()\u001b[0m\n\u001b[1;32m     31\u001b[0m     \u001b[0;32mwith\u001b[0m \u001b[0mh5py\u001b[0m\u001b[0;34m.\u001b[0m\u001b[0mFile\u001b[0m\u001b[0;34m(\u001b[0m\u001b[0;34m\"{0}/{1}.h5\"\u001b[0m\u001b[0;34m.\u001b[0m\u001b[0mformat\u001b[0m\u001b[0;34m(\u001b[0m\u001b[0msavedir\u001b[0m\u001b[0;34m,\u001b[0m \u001b[0mstr\u001b[0m\u001b[0;34m(\u001b[0m\u001b[0mi\u001b[0m\u001b[0;34m)\u001b[0m\u001b[0;34m.\u001b[0m\u001b[0mzfill\u001b[0m\u001b[0;34m(\u001b[0m\u001b[0;36m4\u001b[0m\u001b[0;34m)\u001b[0m\u001b[0;34m)\u001b[0m\u001b[0;34m,\u001b[0m \u001b[0;34m\"w\"\u001b[0m\u001b[0;34m)\u001b[0m \u001b[0;32mas\u001b[0m \u001b[0mf\u001b[0m\u001b[0;34m:\u001b[0m\u001b[0;34m\u001b[0m\u001b[0m\n\u001b[1;32m     32\u001b[0m         \u001b[0mdata\u001b[0m \u001b[0;34m=\u001b[0m \u001b[0mf\u001b[0m\u001b[0;34m.\u001b[0m\u001b[0mcreate_dataset\u001b[0m\u001b[0;34m(\u001b[0m\u001b[0;34m\"samples\"\u001b[0m\u001b[0;34m,\u001b[0m \u001b[0mnp\u001b[0m\u001b[0;34m.\u001b[0m\u001b[0mshape\u001b[0m\u001b[0;34m(\u001b[0m\u001b[0msamples\u001b[0m\u001b[0;34m)\u001b[0m\u001b[0;34m)\u001b[0m\u001b[0;34m\u001b[0m\u001b[0m\n\u001b[0;32m---> 33\u001b[0;31m         \u001b[0mdata\u001b[0m\u001b[0;34m[\u001b[0m\u001b[0;34m:\u001b[0m\u001b[0;34m,\u001b[0m \u001b[0;34m:\u001b[0m\u001b[0;34m]\u001b[0m \u001b[0;34m=\u001b[0m \u001b[0msamplessavedir\u001b[0m \u001b[0;34m=\u001b[0m \u001b[0;34m\"simulation_results/iso_only\"\u001b[0m\u001b[0;34m\u001b[0m\u001b[0m\n\u001b[0m\u001b[1;32m     34\u001b[0m \u001b[0mgyro_only\u001b[0m\u001b[0;34m,\u001b[0m \u001b[0miso_only\u001b[0m \u001b[0;34m=\u001b[0m \u001b[0;32mFalse\u001b[0m\u001b[0;34m,\u001b[0m \u001b[0;32mTrue\u001b[0m\u001b[0;34m\u001b[0m\u001b[0m\n\u001b[1;32m     35\u001b[0m \u001b[0;34m\u001b[0m\u001b[0m\n",
      "\u001b[0;32mh5py/_objects.pyx\u001b[0m in \u001b[0;36mh5py._objects.with_phil.wrapper (/Users/ilan/minonda/conda-bld/work/h5py/_objects.c:2696)\u001b[0;34m()\u001b[0m\n",
      "\u001b[0;32mh5py/_objects.pyx\u001b[0m in \u001b[0;36mh5py._objects.with_phil.wrapper (/Users/ilan/minonda/conda-bld/work/h5py/_objects.c:2654)\u001b[0;34m()\u001b[0m\n",
      "\u001b[0;32m/Users/ruthangus/anaconda/lib/python3.5/site-packages/h5py/_hl/dataset.py\u001b[0m in \u001b[0;36m__setitem__\u001b[0;34m(self, args, val)\u001b[0m\n\u001b[1;32m    616\u001b[0m         \u001b[0mmspace\u001b[0m \u001b[0;34m=\u001b[0m \u001b[0mh5s\u001b[0m\u001b[0;34m.\u001b[0m\u001b[0mcreate_simple\u001b[0m\u001b[0;34m(\u001b[0m\u001b[0mmshape_pad\u001b[0m\u001b[0;34m,\u001b[0m \u001b[0;34m(\u001b[0m\u001b[0mh5s\u001b[0m\u001b[0;34m.\u001b[0m\u001b[0mUNLIMITED\u001b[0m\u001b[0;34m,\u001b[0m\u001b[0;34m)\u001b[0m\u001b[0;34m*\u001b[0m\u001b[0mlen\u001b[0m\u001b[0;34m(\u001b[0m\u001b[0mmshape_pad\u001b[0m\u001b[0;34m)\u001b[0m\u001b[0;34m)\u001b[0m\u001b[0;34m\u001b[0m\u001b[0m\n\u001b[1;32m    617\u001b[0m         \u001b[0;32mfor\u001b[0m \u001b[0mfspace\u001b[0m \u001b[0;32min\u001b[0m \u001b[0mselection\u001b[0m\u001b[0;34m.\u001b[0m\u001b[0mbroadcast\u001b[0m\u001b[0;34m(\u001b[0m\u001b[0mmshape\u001b[0m\u001b[0;34m)\u001b[0m\u001b[0;34m:\u001b[0m\u001b[0;34m\u001b[0m\u001b[0m\n\u001b[0;32m--> 618\u001b[0;31m             \u001b[0mself\u001b[0m\u001b[0;34m.\u001b[0m\u001b[0mid\u001b[0m\u001b[0;34m.\u001b[0m\u001b[0mwrite\u001b[0m\u001b[0;34m(\u001b[0m\u001b[0mmspace\u001b[0m\u001b[0;34m,\u001b[0m \u001b[0mfspace\u001b[0m\u001b[0;34m,\u001b[0m \u001b[0mval\u001b[0m\u001b[0;34m,\u001b[0m \u001b[0mmtype\u001b[0m\u001b[0;34m,\u001b[0m \u001b[0mdxpl\u001b[0m\u001b[0;34m=\u001b[0m\u001b[0mself\u001b[0m\u001b[0;34m.\u001b[0m\u001b[0m_dxpl\u001b[0m\u001b[0;34m)\u001b[0m\u001b[0;34m\u001b[0m\u001b[0m\n\u001b[0m\u001b[1;32m    619\u001b[0m \u001b[0;34m\u001b[0m\u001b[0m\n\u001b[1;32m    620\u001b[0m     \u001b[0;32mdef\u001b[0m \u001b[0mread_direct\u001b[0m\u001b[0;34m(\u001b[0m\u001b[0mself\u001b[0m\u001b[0;34m,\u001b[0m \u001b[0mdest\u001b[0m\u001b[0;34m,\u001b[0m \u001b[0msource_sel\u001b[0m\u001b[0;34m=\u001b[0m\u001b[0;32mNone\u001b[0m\u001b[0;34m,\u001b[0m \u001b[0mdest_sel\u001b[0m\u001b[0;34m=\u001b[0m\u001b[0;32mNone\u001b[0m\u001b[0;34m)\u001b[0m\u001b[0;34m:\u001b[0m\u001b[0;34m\u001b[0m\u001b[0m\n",
      "\u001b[0;32mh5py/_objects.pyx\u001b[0m in \u001b[0;36mh5py._objects.with_phil.wrapper (/Users/ilan/minonda/conda-bld/work/h5py/_objects.c:2696)\u001b[0;34m()\u001b[0m\n",
      "\u001b[0;32mh5py/_objects.pyx\u001b[0m in \u001b[0;36mh5py._objects.with_phil.wrapper (/Users/ilan/minonda/conda-bld/work/h5py/_objects.c:2654)\u001b[0;34m()\u001b[0m\n",
      "\u001b[0;32mh5py/h5d.pyx\u001b[0m in \u001b[0;36mh5py.h5d.DatasetID.write (/Users/ilan/minonda/conda-bld/work/h5py/h5d.c:3436)\u001b[0;34m()\u001b[0m\n",
      "\u001b[0;32mh5py/h5t.pyx\u001b[0m in \u001b[0;36mh5py.h5t.py_create (/Users/ilan/minonda/conda-bld/work/h5py/h5t.c:15924)\u001b[0;34m()\u001b[0m\n",
      "\u001b[0;32mh5py/h5t.pyx\u001b[0m in \u001b[0;36mh5py.h5t.py_create (/Users/ilan/minonda/conda-bld/work/h5py/h5t.c:15883)\u001b[0;34m()\u001b[0m\n",
      "\u001b[0;31mTypeError\u001b[0m: No conversion path for dtype: dtype('<U27')"
     ]
    }
   ],
   "source": [
    "        \n",
    "savedir = \"simulation_results/iso_only\"\n",
    "gyro_only, iso_only = False, True\n",
    "\n",
    "N = len(df)\n",
    "for i in tqdm.tqdm(range(0, N)):\n",
    "    print(i, \"of\", N)\n",
    "    \n",
    "    # Set the initial values\n",
    "    mass_init = 1.\n",
    "    age_init = 9.\n",
    "    feh_init = 0.\n",
    "    distance_init = .5\n",
    "    Av_init = .01\n",
    "\n",
    "    # sample in ln(mass), log10(age) and ln(distance).\n",
    "    p_init = np.array([np.log(mass_init), age_init, feh_init, np.log(distance_init), Av_init])\n",
    "    \n",
    "    np.random.seed(42)\n",
    "    mod, param_dict, args = setup(obs.iloc[i], gyro_only=gyro_only, iso_only=iso_only)\n",
    "    sampler = run_mcmc(obs.iloc[i], args, p_init, burnin=25000, production=50000)\n",
    "        \n",
    "    # Make the plots\n",
    "    truths = [np.log(df.mass.values[i]), df.age.values[i], df.feh.values[i],\n",
    "              np.log(df.d_kpc.values[i]), df.Av.values[i]]\n",
    "    print(\"truths = \", truths)\n",
    "    make_plots(sampler, i, truths, savedir)\n",
    "    \n",
    "    # Save the samples\n",
    "    samples = sampler.flatchain\n",
    "    print(\"Saving samples...\")\n",
    "    with h5py.File(\"{0}/{1}.h5\".format(savedir, str(i).zfill(4)), \"w\") as f:\n",
    "        data = f.create_dataset(\"samples\", np.shape(samples))\n",
    "        data[:, :] = samples"
   ]
  },
  {
   "cell_type": "code",
   "execution_count": null,
   "metadata": {},
   "outputs": [],
   "source": []
  }
 ],
 "metadata": {
  "anaconda-cloud": {},
  "kernelspec": {
   "display_name": "Python [conda root]",
   "language": "python",
   "name": "conda-root-py"
  },
  "language_info": {
   "codemirror_mode": {
    "name": "ipython",
    "version": 3
   },
   "file_extension": ".py",
   "mimetype": "text/x-python",
   "name": "python",
   "nbconvert_exporter": "python",
   "pygments_lexer": "ipython3",
   "version": "3.5.2"
  }
 },
 "nbformat": 4,
 "nbformat_minor": 1
}
