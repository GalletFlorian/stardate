{
 "cells": [
  {
   "cell_type": "markdown",
   "metadata": {},
   "source": [
    "# Testing code on simulated data."
   ]
  },
  {
   "cell_type": "code",
   "execution_count": 54,
   "metadata": {},
   "outputs": [],
   "source": [
    "import numpy as np\n",
    "import matplotlib.pyplot as plt\n",
    "%matplotlib inline\n",
    "import pandas as pd\n",
    "from astropy.io import fits\n",
    "from astropy.table import Table\n",
    "from isochrones.mist import MIST_Isochrone\n",
    "from isochrones import StarModel\n",
    "import emcee\n",
    "import priors\n",
    "import corner\n",
    "import h5py\n",
    "import tqdm"
   ]
  },
  {
   "cell_type": "markdown",
   "metadata": {},
   "source": [
    "Combine isochrones.py with a gyro model to get ages."
   ]
  },
  {
   "cell_type": "code",
   "execution_count": 43,
   "metadata": {},
   "outputs": [],
   "source": [
    "# Set up the stuff needed by isochrones.py\n",
    "\n",
    "mist = MIST_Isochrone()\n",
    "\n",
    "def setup(obs, gyro_only=False, iso_only=False):\n",
    "    \n",
    "    # Set the initial values\n",
    "    mass_init = 1\n",
    "    age_init = 2e9\n",
    "    feh_init = 0\n",
    "    distance_init = .3\n",
    "    Av_init = .1\n",
    "\n",
    "    # sample in ln(mass), log10(age) and ln(distance).\n",
    "    p_init = np.array([np.log(mass_init), np.log10(age_init), feh_init, np.log(distance_init), Av_init])\n",
    "\n",
    "    # Set up the StarModel object needed to calculate the likelihood. \n",
    "    param_dict = {\"J\": (obs.jmag, obs.jmag_err),\n",
    "                  \"H\": (obs.hmag, obs.hmag_err),\n",
    "                  \"K\": (obs.kmag, obs.kmag_err),\n",
    "                  \"teff\": (obs.teff, obs.teff_err),\n",
    "                  \"logg\": (obs.logg, obs.logg_err),\n",
    "                  \"feh\": (obs.feh, obs.feh_err),\n",
    "                  \"parallax\": (obs.parallax, obs.parallax_err)\n",
    "                 }  # Isochrones.py takes milliarcseconds\n",
    "\n",
    "    mod = StarModel(mist, **param_dict)\n",
    "    \n",
    "    args = [mod, obs.prot, obs.prot_err, obs.BV, gyro_only, iso_only]\n",
    "    \n",
    "    return mod, param_dict, p_init, args"
   ]
  },
  {
   "cell_type": "markdown",
   "metadata": {},
   "source": [
    "Define the gyrochronology model. I'm using the Barnes (2003) functional form with my (2015) parameters."
   ]
  },
  {
   "cell_type": "code",
   "execution_count": 57,
   "metadata": {},
   "outputs": [],
   "source": [
    "def gyro_model(log10_age, bv):\n",
    "    \"\"\"\n",
    "    Given a B-V colour and an age, predict a rotation period.\n",
    "    Returns log(age) in Myr.\n",
    "    parameters:\n",
    "    ----------\n",
    "    logage: (array)\n",
    "        The log age of a star: log10(age) in years.\n",
    "    bv: (array)\n",
    "        The B-V colour of a star.\n",
    "    \"\"\"\n",
    "    age_myr = (10**log10_age)*1e-6\n",
    "    \n",
    "    a, b, c, n = [.4, .31, .45, .55]\n",
    "    \n",
    "    log_P = n*np.log10(age_myr) + np.log10(a) + b*np.log10(bv-c)\n",
    "    return 10**log_P"
   ]
  },
  {
   "cell_type": "markdown",
   "metadata": {},
   "source": [
    "Define the log prior and the log posterior functions."
   ]
  },
  {
   "cell_type": "code",
   "execution_count": 19,
   "metadata": {},
   "outputs": [],
   "source": [
    "def lnprior(params):\n",
    "    \"\"\"\n",
    "    lnprior on all parameters.\n",
    "    params need to be linear except age which is log10(age [yr]).\n",
    "    \"\"\"\n",
    "    \n",
    "    # log Priors over age, metallicity and distance. (The priors in priors.py are not in log)\n",
    "    age_prior = np.log(priors.age_prior(params[1]))\n",
    "    feh_prior = np.log(priors.feh_prior(params[2]))\n",
    "    distance_prior = np.log(priors.distance_prior(np.exp(params[3])))\n",
    "\n",
    "    # Uniform prior on extinction.\n",
    "    mAv = (0 <= params[4]) * (params[4] < 1)  # Prior on A_v\n",
    "    mAv = mAv == 1\n",
    "    \n",
    "    # Uniform prior on mass\n",
    "    m = (-20 < params[0]) * (params[0]) < 20  # Broad bounds on mass.\n",
    "            \n",
    "    if mAv and m and np.isfinite(age_prior) and np.isfinite(distance_prior):\n",
    "        return age_prior + feh_prior + distance_prior\n",
    "    \n",
    "    else:\n",
    "        return -np.inf\n",
    "\n",
    "    \n",
    "def lnprob(lnparams, *args):\n",
    "    # Transform mass and distance back to linear.\n",
    "    params = lnparams*1\n",
    "    params[0] = np.exp(lnparams[0])\n",
    "    params[3] = np.exp(lnparams[3])\n",
    "    \n",
    "    mod, period, period_err, bv_est, gyro_only, iso_only = args\n",
    "    \n",
    "    B = mist.mag[\"B\"](*params)\n",
    "    V = mist.mag[\"V\"](*params)\n",
    "    bv = B-V\n",
    "    \n",
    "    # If the prior is -inf, don't even try to calculate the isochronal likelihood.\n",
    "    lnpr = lnprior(params)\n",
    "    if lnpr == -np.inf:\n",
    "        return lnpr\n",
    "    \n",
    "    else:\n",
    "    \n",
    "        if iso_only:\n",
    "            return mod.lnlike(params) + lnpr\n",
    "        \n",
    "        else:\n",
    "            if bv > .45:\n",
    "                gyro_lnlike = -.5*((period - gyro_model(params[1], bv)) /period_err)**2\n",
    "            else:\n",
    "                gyro_lnlike = 0\n",
    "    \n",
    "        # B-V is estimated from mass, etc, so you need to use a different B-V estimate if gyro_only.\n",
    "        if gyro_only:\n",
    "            return -.5*((period - gyro_model(params[1], bv_est)) /period_err)**2 + lnpr\n",
    "    \n",
    "        else:\n",
    "            return mod.lnlike(params) + gyro_lnlike + lnpr"
   ]
  },
  {
   "cell_type": "markdown",
   "metadata": {},
   "source": [
    "Run the MCMC."
   ]
  },
  {
   "cell_type": "code",
   "execution_count": 73,
   "metadata": {},
   "outputs": [],
   "source": [
    "def run_mcmc(obs, args, p_init, ndim=5, nwalkers=24):\n",
    "    \n",
    "    p0 = [p_init + np.random.randn(ndim)*1e-4 for k in range(nwalkers)]\n",
    "\n",
    "    print(\"Burning in...\")\n",
    "    sampler = emcee.EnsembleSampler(nwalkers, ndim, lnprob, args=args)\n",
    "#     for p0, lnp, state in tqdm.tqdm(sampler.sample(p0, iterations=5000)):\n",
    "#         pass\n",
    "    p0, lnp, state = sampler.run_mcmc(p0, 5000)\n",
    "        \n",
    "    print(\"Production run...\")\n",
    "    sampler.reset()\n",
    "    p0, lnp, state = sampler.run_mcmc(p0, 10000)\n",
    "\n",
    "#     for p, lnp, state in tqdm.tqdm(sampler.sample(p0, iterations=10000)):\n",
    "#         pass\n",
    "    \n",
    "    return sampler\n",
    "\n",
    "\n",
    "def make_plots(sampler, i, savedir):\n",
    "    ndim = 5\n",
    "    \n",
    "    print(\"Plotting production chains...\")\n",
    "    for j in range(ndim):\n",
    "        plt.subplot(ndim, 1, j+1)\n",
    "        plt.plot(sampler.chain[:, :, j].T, \"k\", alpha=.1)\n",
    "        plt.savefig(\"{0}/{1}_chains\".format(savedir, i))\n",
    "        plt.close()\n",
    "    \n",
    "    print(\"Making corner plot...\")\n",
    "    samples = sampler.flatchain\n",
    "    samples[:, 0] = np.exp(samples[:, 0])\n",
    "    samples[:, 3] = np.exp(samples[:, 3])\n",
    "    samples[:, 1] = (10**samples[:, 1])*1e-9\n",
    "    \n",
    "    labels = [\"mass [M_sun]\", \"log10(age [yr])\", \"[Fe/H]\", \"distance [pc]\", \"A_v\"]\n",
    "    corner.corner(samples, labels=labels);\n",
    "    plt.savefig(\"{0}/{1}_corner\".format(savedir, i))\n",
    "    plt.close()\n",
    "    \n",
    "    print(\"Plotting age posterior\")\n",
    "    age_gyr = samples[:, 1]\n",
    "    plt.hist(age_gyr)\n",
    "    plt.xlabel(\"Age [Gyr]\")\n",
    "    med, std = np.median(age_gyr), np.std(age_gyr)\n",
    "    print(\"age = \", med, \"+/-\", std)\n",
    "    plt.axvline(med, color=\"k\")\n",
    "    plt.axvline(med - std, color=\"k\", linestyle=\"--\")\n",
    "    plt.axvline(med + std, color=\"k\", linestyle=\"--\")\n",
    "    plt.savefig(\"{0}/{1}_marginal_age\".format(savedir, i))\n",
    "    plt.close()\n",
    "    print(\"age = \", med)"
   ]
  },
  {
   "cell_type": "markdown",
   "metadata": {},
   "source": [
    "Load the simulated data file."
   ]
  },
  {
   "cell_type": "code",
   "execution_count": 20,
   "metadata": {},
   "outputs": [],
   "source": [
    "df = pd.read_csv(\"simulated_data.csv\")"
   ]
  },
  {
   "cell_type": "code",
   "execution_count": 21,
   "metadata": {},
   "outputs": [
    {
     "data": {
      "text/plain": [
       "<matplotlib.colorbar.Colorbar at 0x10f439470>"
      ]
     },
     "execution_count": 21,
     "metadata": {},
     "output_type": "execute_result"
    },
    {
     "data": {
      "image/png": "[encoded data removed]",
      "text/plain": [
       "<matplotlib.figure.Figure at 0x10f2c5ba8>"
      ]
     },
     "metadata": {},
     "output_type": "display_data"
    }
   ],
   "source": [
    "plt.scatter(df.teff, df.logg, c=df.prot)\n",
    "plt.ylim(4.9, 4.3)\n",
    "plt.xlim(6800, 3000)\n",
    "plt.colorbar(label=\"Period [Days]\")"
   ]
  },
  {
   "cell_type": "markdown",
   "metadata": {},
   "source": [
    "Perturb the true parameters with some amount of noise."
   ]
  },
  {
   "cell_type": "code",
   "execution_count": 28,
   "metadata": {},
   "outputs": [],
   "source": [
    "teff_err = 1  # Kelvin\n",
    "logg_err = .001  # dex\n",
    "feh_err = .001  # dex\n",
    "jmag_err = .001 # mags\n",
    "hmag_err = .001  # mags\n",
    "kmag_err = .001  # mags\n",
    "parallax_err = .00001  # milliarcseconds\n",
    "prot_err = .01  # Days\n",
    "BV_err = .001  # mags\n",
    "\n",
    "teff = df.teff.values + np.random.randn()*teff_err\n",
    "logg = df.logg.values + np.random.randn()*logg_err\n",
    "feh = df.feh.values + np.random.randn()*feh_err\n",
    "jmag = df.J.values + np.random.randn()*jmag_err\n",
    "hmag = df.H.values + np.random.randn()*hmag_err\n",
    "kmag = df.K.values + np.random.randn()*kmag_err\n",
    "parallax = df.parallax.values + np.random.randn()*parallax_err\n",
    "prot = df.prot.values + np.random.randn()*prot_err\n",
    "BV = df.B_V.values + np.random.randn()*BV_err"
   ]
  },
  {
   "cell_type": "markdown",
   "metadata": {},
   "source": [
    "Create a dataframe from the observed data."
   ]
  },
  {
   "cell_type": "code",
   "execution_count": 36,
   "metadata": {},
   "outputs": [],
   "source": [
    "obs = pd.DataFrame(dict({\"teff\": teff, \"teff_err\": teff_err,\n",
    "                         \"logg\": logg, \"logg_err\": logg_err,\n",
    "                         \"feh\": feh, \"feh_err\": feh_err, \n",
    "                         \"jmag\": jmag, \"jmag_err\": jmag_err,\n",
    "                         \"hmag\": hmag, \"hmag_err\": hmag_err,\n",
    "                         \"kmag\": kmag, \"kmag_err\": kmag_err,\n",
    "                         \"parallax\": parallax, \"parallax_err\": parallax_err, \n",
    "                         \"prot\": prot, \"prot_err\": prot_err,\n",
    "                         \"BV\": BV, \"BV_err\": BV_err}))"
   ]
  },
  {
   "cell_type": "code",
   "execution_count": 44,
   "metadata": {},
   "outputs": [],
   "source": [
    "mod, param_dict, p_init, args = setup(obs.iloc[0], gyro_only=False, iso_only=False)"
   ]
  },
  {
   "cell_type": "markdown",
   "metadata": {},
   "source": [
    "Loop over stars."
   ]
  },
  {
   "cell_type": "code",
   "execution_count": null,
   "metadata": {},
   "outputs": [
    {
     "name": "stderr",
     "output_type": "stream",
     "text": [
      "\n",
      "\n",
      "\n",
      "  0%|          | 0/456 [00:00<?, ?it/s]\u001b[A\u001b[A\u001b[A"
     ]
    },
    {
     "name": "stdout",
     "output_type": "stream",
     "text": [
      "0 of 456\n",
      "Burning in...\n"
     ]
    },
    {
     "name": "stderr",
     "output_type": "stream",
     "text": [
      "/Users/ruthangus/anaconda/lib/python3.5/site-packages/ipykernel/__main__.py:8: RuntimeWarning: divide by zero encountered in log\n",
      "/Users/ruthangus/anaconda/lib/python3.5/site-packages/ipykernel/__main__.py:10: RuntimeWarning: overflow encountered in exp\n",
      "/Users/ruthangus/projects/habitablezoning/code/priors.py:34: RuntimeWarning: overflow encountered in double_scalars\n",
      "  return 3/max_distance**3 * distance**2\n",
      "\n",
      "\n",
      "\u001b[A\u001b[A"
     ]
    },
    {
     "name": "stdout",
     "output_type": "stream",
     "text": [
      "Production run...\n",
      "Plotting production chains...\n",
      "Making corner plot...\n"
     ]
    },
    {
     "name": "stderr",
     "output_type": "stream",
     "text": [
      "WARNING:root:Too few points to create valid contours\n",
      "WARNING:root:Too few points to create valid contours\n",
      "WARNING:root:Too few points to create valid contours\n",
      "WARNING:root:Too few points to create valid contours\n",
      "\n",
      "\n",
      "  0%|          | 1/456 [01:08<8:38:08, 68.33s/it]"
     ]
    },
    {
     "name": "stdout",
     "output_type": "stream",
     "text": [
      "Plotting age posterior\n",
      "age =  0.35481347100754723 +/- 2.7458520352430846\n",
      "age =  0.35481347100754723\n",
      "Saving samples...\n",
      "1 of 456\n",
      "Burning in...\n"
     ]
    },
    {
     "name": "stderr",
     "output_type": "stream",
     "text": [
      "\u001b[A\u001b[A"
     ]
    },
    {
     "name": "stdout",
     "output_type": "stream",
     "text": [
      "Production run...\n",
      "Plotting production chains...\n",
      "Making corner plot...\n"
     ]
    },
    {
     "name": "stderr",
     "output_type": "stream",
     "text": [
      "WARNING:root:Too few points to create valid contours\n",
      "WARNING:root:Too few points to create valid contours\n",
      "WARNING:root:Too few points to create valid contours\n",
      "WARNING:root:Too few points to create valid contours\n",
      "WARNING:root:Too few points to create valid contours\n",
      "WARNING:root:Too few points to create valid contours\n",
      "\n",
      "\n",
      "  0%|          | 2/456 [02:29<9:05:19, 72.07s/it]"
     ]
    },
    {
     "name": "stdout",
     "output_type": "stream",
     "text": [
      "Plotting age posterior\n",
      "age =  1.775451946805943 +/- 0.40454963207982186\n",
      "age =  1.775451946805943\n",
      "Saving samples...\n",
      "2 of 456\n",
      "Burning in...\n"
     ]
    },
    {
     "name": "stderr",
     "output_type": "stream",
     "text": [
      "\u001b[A\u001b[A"
     ]
    },
    {
     "name": "stdout",
     "output_type": "stream",
     "text": [
      "Production run...\n",
      "Plotting production chains...\n",
      "Making corner plot...\n"
     ]
    },
    {
     "name": "stderr",
     "output_type": "stream",
     "text": [
      "\n",
      "\n",
      "\r",
      "  1%|          | 3/456 [03:45<9:14:59, 73.51s/it]"
     ]
    },
    {
     "name": "stdout",
     "output_type": "stream",
     "text": [
      "Plotting age posterior\n",
      "age =  0.31372478941495824 +/- 0.27592909088856066\n",
      "age =  0.31372478941495824\n",
      "Saving samples...\n",
      "3 of 456\n",
      "Burning in...\n"
     ]
    },
    {
     "name": "stderr",
     "output_type": "stream",
     "text": [
      "\u001b[A\u001b[A"
     ]
    },
    {
     "name": "stdout",
     "output_type": "stream",
     "text": [
      "Production run...\n",
      "Plotting production chains...\n",
      "Making corner plot...\n"
     ]
    },
    {
     "name": "stderr",
     "output_type": "stream",
     "text": [
      "WARNING:root:Too few points to create valid contours\n",
      "WARNING:root:Too few points to create valid contours\n",
      "WARNING:root:Too few points to create valid contours\n",
      "WARNING:root:Too few points to create valid contours\n",
      "WARNING:root:Too few points to create valid contours\n",
      "WARNING:root:Too few points to create valid contours\n",
      "WARNING:root:Too few points to create valid contours\n",
      "WARNING:root:Too few points to create valid contours\n",
      "WARNING:root:Too few points to create valid contours\n",
      "WARNING:root:Too few points to create valid contours\n",
      "\n",
      "\n",
      "  1%|          | 4/456 [05:04<9:24:07, 74.88s/it]"
     ]
    },
    {
     "name": "stdout",
     "output_type": "stream",
     "text": [
      "Plotting age posterior\n",
      "age =  0.12586759694220195 +/- 0.013217655928698304\n",
      "age =  0.12586759694220195\n",
      "Saving samples...\n",
      "4 of 456\n",
      "Burning in...\n"
     ]
    },
    {
     "name": "stderr",
     "output_type": "stream",
     "text": [
      "\u001b[A\u001b[A"
     ]
    },
    {
     "name": "stdout",
     "output_type": "stream",
     "text": [
      "Production run...\n",
      "Plotting production chains...\n",
      "Making corner plot...\n"
     ]
    },
    {
     "name": "stderr",
     "output_type": "stream",
     "text": [
      "WARNING:root:Too few points to create valid contours\n",
      "WARNING:root:Too few points to create valid contours\n",
      "WARNING:root:Too few points to create valid contours\n",
      "\n",
      "\n",
      "  1%|          | 5/456 [06:40<10:11:05, 81.30s/it]"
     ]
    },
    {
     "name": "stdout",
     "output_type": "stream",
     "text": [
      "Plotting age posterior\n",
      "age =  0.1985715453987517 +/- 0.6930440225667623\n",
      "age =  0.1985715453987517\n",
      "Saving samples...\n",
      "5 of 456\n",
      "Burning in...\n"
     ]
    },
    {
     "name": "stderr",
     "output_type": "stream",
     "text": [
      "\u001b[A\u001b[A"
     ]
    },
    {
     "name": "stdout",
     "output_type": "stream",
     "text": [
      "Production run...\n",
      "Plotting production chains...\n",
      "Making corner plot...\n"
     ]
    },
    {
     "name": "stderr",
     "output_type": "stream",
     "text": [
      "\n",
      "\n",
      "\r",
      "  1%|▏         | 6/456 [07:53<9:50:42, 78.76s/it] "
     ]
    },
    {
     "name": "stdout",
     "output_type": "stream",
     "text": [
      "Plotting age posterior\n",
      "age =  3.431529116471007 +/- 1.6641087894226514\n",
      "age =  3.431529116471007\n",
      "Saving samples...\n",
      "6 of 456\n",
      "Burning in...\n"
     ]
    },
    {
     "name": "stderr",
     "output_type": "stream",
     "text": [
      "\u001b[A\u001b[A"
     ]
    },
    {
     "name": "stdout",
     "output_type": "stream",
     "text": [
      "Production run...\n",
      "Plotting production chains...\n",
      "Making corner plot...\n"
     ]
    },
    {
     "name": "stderr",
     "output_type": "stream",
     "text": [
      "WARNING:root:Too few points to create valid contours\n",
      "\n",
      "\n",
      "  2%|▏         | 7/456 [09:10<9:46:22, 78.36s/it]"
     ]
    },
    {
     "name": "stdout",
     "output_type": "stream",
     "text": [
      "Plotting age posterior\n",
      "age =  0.1656282446048369 +/- 0.3099664836617341\n",
      "age =  0.1656282446048369\n",
      "Saving samples...\n",
      "7 of 456\n",
      "Burning in...\n"
     ]
    },
    {
     "name": "stderr",
     "output_type": "stream",
     "text": [
      "\u001b[A\u001b[A"
     ]
    },
    {
     "name": "stdout",
     "output_type": "stream",
     "text": [
      "Production run...\n",
      "Plotting production chains...\n",
      "Making corner plot...\n"
     ]
    },
    {
     "name": "stderr",
     "output_type": "stream",
     "text": [
      "WARNING:root:Too few points to create valid contours\n",
      "WARNING:root:Too few points to create valid contours\n",
      "WARNING:root:Too few points to create valid contours\n",
      "WARNING:root:Too few points to create valid contours\n",
      "WARNING:root:Too few points to create valid contours\n",
      "WARNING:root:Too few points to create valid contours\n",
      "WARNING:root:Too few points to create valid contours\n",
      "WARNING:root:Too few points to create valid contours\n",
      "WARNING:root:Too few points to create valid contours\n",
      "WARNING:root:Too few points to create valid contours\n",
      "\n",
      "\n",
      "  2%|▏         | 8/456 [10:32<9:53:15, 79.45s/it]"
     ]
    },
    {
     "name": "stdout",
     "output_type": "stream",
     "text": [
      "Plotting age posterior\n",
      "age =  0.12666948090779293 +/- 0.36895921636053164\n",
      "age =  0.12666948090779293\n",
      "Saving samples...\n",
      "8 of 456\n",
      "Burning in...\n"
     ]
    },
    {
     "name": "stderr",
     "output_type": "stream",
     "text": [
      "\u001b[A\u001b[A"
     ]
    },
    {
     "name": "stdout",
     "output_type": "stream",
     "text": [
      "Production run...\n",
      "Plotting production chains...\n",
      "Making corner plot...\n"
     ]
    },
    {
     "name": "stderr",
     "output_type": "stream",
     "text": [
      "WARNING:root:Too few points to create valid contours\n",
      "WARNING:root:Too few points to create valid contours\n",
      "WARNING:root:Too few points to create valid contours\n",
      "WARNING:root:Too few points to create valid contours\n",
      "WARNING:root:Too few points to create valid contours\n",
      "WARNING:root:Too few points to create valid contours\n",
      "WARNING:root:Too few points to create valid contours\n",
      "WARNING:root:Too few points to create valid contours\n",
      "WARNING:root:Too few points to create valid contours\n",
      "WARNING:root:Too few points to create valid contours\n",
      "\n",
      "\n",
      "  2%|▏         | 9/456 [11:51<9:50:42, 79.29s/it]"
     ]
    },
    {
     "name": "stdout",
     "output_type": "stream",
     "text": [
      "Plotting age posterior\n",
      "age =  0.9461016207029286 +/- 1.0438000965517096\n",
      "age =  0.9461016207029286\n",
      "Saving samples...\n",
      "9 of 456\n",
      "Burning in...\n"
     ]
    },
    {
     "name": "stderr",
     "output_type": "stream",
     "text": [
      "\u001b[A\u001b[A"
     ]
    },
    {
     "name": "stdout",
     "output_type": "stream",
     "text": [
      "Production run...\n",
      "Plotting production chains...\n",
      "Making corner plot...\n"
     ]
    },
    {
     "name": "stderr",
     "output_type": "stream",
     "text": [
      "WARNING:root:Too few points to create valid contours\n",
      "WARNING:root:Too few points to create valid contours\n",
      "WARNING:root:Too few points to create valid contours\n",
      "\n",
      "\n",
      "  2%|▏         | 10/456 [13:11<9:50:43, 79.47s/it]"
     ]
    },
    {
     "name": "stdout",
     "output_type": "stream",
     "text": [
      "Plotting age posterior\n",
      "age =  3.1148729344539454 +/- 2.504986432355513\n",
      "age =  3.1148729344539454\n",
      "Saving samples...\n",
      "10 of 456\n",
      "Burning in...\n"
     ]
    },
    {
     "name": "stderr",
     "output_type": "stream",
     "text": [
      "\u001b[A\u001b[A"
     ]
    },
    {
     "name": "stdout",
     "output_type": "stream",
     "text": [
      "Production run...\n",
      "Plotting production chains...\n",
      "Making corner plot...\n"
     ]
    },
    {
     "name": "stderr",
     "output_type": "stream",
     "text": [
      "WARNING:root:Too few points to create valid contours\n",
      "WARNING:root:Too few points to create valid contours\n",
      "WARNING:root:Too few points to create valid contours\n",
      "WARNING:root:Too few points to create valid contours\n",
      "WARNING:root:Too few points to create valid contours\n",
      "WARNING:root:Too few points to create valid contours\n",
      "\n",
      "\n",
      "  2%|▏         | 11/456 [14:31<9:51:46, 79.79s/it]"
     ]
    },
    {
     "name": "stdout",
     "output_type": "stream",
     "text": [
      "Plotting age posterior\n",
      "age =  0.1765629743193502 +/- 0.03790876395138409\n",
      "age =  0.1765629743193502\n",
      "Saving samples...\n",
      "11 of 456\n",
      "Burning in...\n"
     ]
    },
    {
     "name": "stderr",
     "output_type": "stream",
     "text": [
      "\u001b[A\u001b[A"
     ]
    },
    {
     "name": "stdout",
     "output_type": "stream",
     "text": [
      "Production run...\n",
      "Plotting production chains...\n",
      "Making corner plot...\n"
     ]
    },
    {
     "name": "stderr",
     "output_type": "stream",
     "text": [
      "WARNING:root:Too few points to create valid contours\n",
      "WARNING:root:Too few points to create valid contours\n",
      "WARNING:root:Too few points to create valid contours\n",
      "WARNING:root:Too few points to create valid contours\n",
      "WARNING:root:Too few points to create valid contours\n",
      "WARNING:root:Too few points to create valid contours\n",
      "WARNING:root:Too few points to create valid contours\n",
      "WARNING:root:Too few points to create valid contours\n",
      "\n",
      "\n",
      "  3%|▎         | 12/456 [15:50<9:47:48, 79.43s/it]"
     ]
    },
    {
     "name": "stdout",
     "output_type": "stream",
     "text": [
      "Plotting age posterior\n",
      "age =  1.1978579063417467 +/- 2.3713605852925475\n",
      "age =  1.1978579063417467\n",
      "Saving samples...\n",
      "12 of 456\n",
      "Burning in...\n"
     ]
    },
    {
     "name": "stderr",
     "output_type": "stream",
     "text": [
      "\u001b[A\u001b[A"
     ]
    },
    {
     "name": "stdout",
     "output_type": "stream",
     "text": [
      "Production run...\n",
      "Plotting production chains...\n",
      "Making corner plot...\n"
     ]
    },
    {
     "name": "stderr",
     "output_type": "stream",
     "text": [
      "WARNING:root:Too few points to create valid contours\n",
      "WARNING:root:Too few points to create valid contours\n",
      "WARNING:root:Too few points to create valid contours\n",
      "WARNING:root:Too few points to create valid contours\n",
      "WARNING:root:Too few points to create valid contours\n",
      "WARNING:root:Too few points to create valid contours\n",
      "WARNING:root:Too few points to create valid contours\n",
      "WARNING:root:Too few points to create valid contours\n",
      "WARNING:root:Too few points to create valid contours\n",
      "WARNING:root:Too few points to create valid contours\n",
      "\n",
      "\n",
      "  3%|▎         | 13/456 [17:12<9:51:05, 80.06s/it]"
     ]
    },
    {
     "name": "stdout",
     "output_type": "stream",
     "text": [
      "Plotting age posterior\n",
      "age =  0.1257430826255733 +/- 0.011645943701049325\n",
      "age =  0.1257430826255733\n",
      "Saving samples...\n",
      "13 of 456\n",
      "Burning in...\n"
     ]
    },
    {
     "name": "stderr",
     "output_type": "stream",
     "text": [
      "\u001b[A\u001b[A"
     ]
    },
    {
     "name": "stdout",
     "output_type": "stream",
     "text": [
      "Production run...\n",
      "Plotting production chains...\n",
      "Making corner plot...\n"
     ]
    },
    {
     "name": "stderr",
     "output_type": "stream",
     "text": [
      "WARNING:root:Too few points to create valid contours\n",
      "WARNING:root:Too few points to create valid contours\n",
      "WARNING:root:Too few points to create valid contours\n",
      "WARNING:root:Too few points to create valid contours\n",
      "WARNING:root:Too few points to create valid contours\n",
      "WARNING:root:Too few points to create valid contours\n",
      "WARNING:root:Too few points to create valid contours\n",
      "\n",
      "\n",
      "  3%|▎         | 14/456 [18:28<9:42:28, 79.07s/it]"
     ]
    },
    {
     "name": "stdout",
     "output_type": "stream",
     "text": [
      "Plotting age posterior\n",
      "age =  0.16089797156638397 +/- 0.025920125257045974\n",
      "age =  0.16089797156638397\n",
      "Saving samples...\n",
      "14 of 456\n",
      "Burning in...\n"
     ]
    },
    {
     "name": "stderr",
     "output_type": "stream",
     "text": [
      "\u001b[A\u001b[A"
     ]
    },
    {
     "name": "stdout",
     "output_type": "stream",
     "text": [
      "Production run...\n",
      "Plotting production chains...\n",
      "Making corner plot...\n"
     ]
    },
    {
     "name": "stderr",
     "output_type": "stream",
     "text": [
      "WARNING:root:Too few points to create valid contours\n",
      "WARNING:root:Too few points to create valid contours\n",
      "WARNING:root:Too few points to create valid contours\n",
      "\n",
      "\n",
      "  3%|▎         | 15/456 [19:49<9:44:20, 79.50s/it]"
     ]
    },
    {
     "name": "stdout",
     "output_type": "stream",
     "text": [
      "Plotting age posterior\n",
      "age =  0.5670519074837634 +/- 0.530665352150616\n",
      "age =  0.5670519074837634\n",
      "Saving samples...\n",
      "15 of 456\n",
      "Burning in...\n"
     ]
    },
    {
     "name": "stderr",
     "output_type": "stream",
     "text": [
      "\u001b[A\u001b[A"
     ]
    },
    {
     "name": "stdout",
     "output_type": "stream",
     "text": [
      "Production run...\n",
      "Plotting production chains...\n",
      "Making corner plot...\n",
      "Plotting age posterior\n",
      "age =  0.8738005774507481 +/- 4.08932129711867\n",
      "age =  0.8738005774507481\n",
      "Saving samples...\n"
     ]
    },
    {
     "name": "stderr",
     "output_type": "stream",
     "text": [
      "\n",
      "\n",
      "  4%|▎         | 16/456 [21:16<9:58:57, 81.68s/it]\u001b[A\u001b[A"
     ]
    },
    {
     "name": "stdout",
     "output_type": "stream",
     "text": [
      "16 of 456\n",
      "Burning in...\n",
      "Production run...\n"
     ]
    }
   ],
   "source": [
    "gyro_only, iso_only = False, False\n",
    "\n",
    "N = len(df)\n",
    "for i in tqdm.tqdm(range(N)):\n",
    "    print(i, \"of\", N)\n",
    "    \n",
    "    mod, param_dict, p_init, args = setup(obs.iloc[i], gyro_only=gyro_only, iso_only=iso_only)\n",
    "    sampler = run_mcmc(obs.iloc[i], args, p_init)\n",
    "    \n",
    "    savedir = \"simulation_results/iso_and_gyro\"\n",
    "    \n",
    "    # Make the plots\n",
    "    make_plots(sampler, i, savedir)\n",
    "    \n",
    "    # Save the samples\n",
    "    samples = sampler.flatchain\n",
    "    samples[:, 0] = np.exp(samples[:, 0])\n",
    "    samples[:, 3] = np.exp(samples[:, 3])\n",
    "    samples[:, 1] = 10**samples[:, 1]*1e-9\n",
    "    \n",
    "    print(\"Saving samples...\")\n",
    "    with h5py.File(\"{0}/{1}.h5\".format(savedir, i), \"w\") as f:\n",
    "        data = f.create_dataset(\"samples\", np.shape(samples))\n",
    "        data[:, :] = samples"
   ]
  },
  {
   "cell_type": "markdown",
   "metadata": {},
   "source": [
    "Load the results."
   ]
  },
  {
   "cell_type": "code",
   "execution_count": null,
   "metadata": {},
   "outputs": [],
   "source": [
    "med, std = [], []\n",
    "\n",
    "Ns = 5\n",
    "for star in range(Ns):\n",
    "    fname = \"samples/{0}.h5\".format(star)\n",
    "    with h5py.File(fname, \"r\") as f:\n",
    "        samples = f[\"samples\"][...]\n",
    "        age_gyr = 10**samples[:, 1]*1e-9\n",
    "        med.append(np.median(age_gyr))\n",
    "        std.append(np.std(age_gyr))"
   ]
  },
  {
   "cell_type": "code",
   "execution_count": null,
   "metadata": {},
   "outputs": [],
   "source": [
    "iso_med, iso_std = [], []\n",
    "Ns = 5\n",
    "for star in range(Ns):\n",
    "    fname = \"samples/{0}__iso.h5\".format(star)\n",
    "    with h5py.File(fname, \"r\") as f:\n",
    "        samples = f[\"samples\"][...]\n",
    "        iso_med.append(np.median(age_gyr))\n",
    "        iso_std.append(np.std(age_gyr))"
   ]
  }
 ],
 "metadata": {
  "anaconda-cloud": {},
  "kernelspec": {
   "display_name": "Python [conda root]",
   "language": "python",
   "name": "conda-root-py"
  },
  "language_info": {
   "codemirror_mode": {
    "name": "ipython",
    "version": 3
   },
   "file_extension": ".py",
   "mimetype": "text/x-python",
   "name": "python",
   "nbconvert_exporter": "python",
   "pygments_lexer": "ipython3",
   "version": "3.5.2"
  }
 },
 "nbformat": 4,
 "nbformat_minor": 1
}
