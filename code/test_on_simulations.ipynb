{
 "cells": [
  {
   "cell_type": "markdown",
   "metadata": {},
   "source": [
    "# Testing code on simulated data."
   ]
  },
  {
   "cell_type": "code",
   "execution_count": 2,
   "metadata": {},
   "outputs": [],
   "source": [
    "import numpy as np\n",
    "import matplotlib.pyplot as plt\n",
    "%matplotlib inline\n",
    "import pandas as pd\n",
    "from astropy.io import fits\n",
    "from astropy.table import Table\n",
    "from isochrones.mist import MIST_Isochrone\n",
    "from isochrones import StarModel\n",
    "import emcee\n",
    "import priors\n",
    "import corner\n",
    "import h5py\n",
    "import tqdm"
   ]
  },
  {
   "cell_type": "markdown",
   "metadata": {},
   "source": [
    "Combine isochrones.py with a gyro model to get ages."
   ]
  },
  {
   "cell_type": "code",
   "execution_count": 3,
   "metadata": {},
   "outputs": [],
   "source": [
    "# Set up the stuff needed by isochrones.py\n",
    "\n",
    "mist = MIST_Isochrone()\n",
    "\n",
    "def setup(obs, df, gyro_only=False, iso_only=False):\n",
    "    \n",
    "    # Set the initial values\n",
    "#     mass_init = df.mass\n",
    "#     age_init = df.age\n",
    "#     feh_init = df.feh\n",
    "#     distance_init = 1./df.parallax\n",
    "#     Av_init = df.Av\n",
    "    mass_init = 1.\n",
    "    age_init = 9.\n",
    "    feh_init = 0.\n",
    "    distance_init = .5\n",
    "    Av_init = .01\n",
    "\n",
    "    # sample in ln(mass), log10(age) and ln(distance).\n",
    "    p_init = np.array([np.log(mass_init), age_init, feh_init, np.log(distance_init), Av_init])\n",
    "\n",
    "    # Set up the StarModel object needed to calculate the likelihood. \n",
    "    param_dict = {\"J\": (obs.jmag, obs.jmag_err),\n",
    "                  \"H\": (obs.hmag, obs.hmag_err),\n",
    "                  \"K\": (obs.kmag, obs.kmag_err),\n",
    "                  \"teff\": (obs.teff, obs.teff_err),\n",
    "                  \"logg\": (obs.logg, obs.logg_err),\n",
    "                  \"feh\": (obs.feh, obs.feh_err),\n",
    "                  \"parallax\": (obs.parallax, obs.parallax_err)\n",
    "                 }  # Isochrones.py takes milliarcseconds\n",
    "\n",
    "    mod = StarModel(mist, **param_dict)\n",
    "    \n",
    "    args = [mod, obs.prot, obs.prot_err, obs.BV, gyro_only, iso_only]\n",
    "    \n",
    "    return mod, param_dict, p_init, args"
   ]
  },
  {
   "cell_type": "markdown",
   "metadata": {},
   "source": [
    "Define the gyrochronology model. I'm using the Barnes (2003) functional form with my (2015) parameters."
   ]
  },
  {
   "cell_type": "code",
   "execution_count": 4,
   "metadata": {},
   "outputs": [],
   "source": [
    "def gyro_model(log10_age, bv):\n",
    "    \"\"\"\n",
    "    Given a B-V colour and an age, predict a rotation period.\n",
    "    Returns log(age) in Myr.\n",
    "    parameters:\n",
    "    ----------\n",
    "    logage: (array)\n",
    "        The log age of a star: log10(age) in years.\n",
    "    bv: (array)\n",
    "        The B-V colour of a star.\n",
    "    \"\"\"\n",
    "    age_myr = (10**log10_age)*1e-6\n",
    "    \n",
    "    a, b, c, n = [.4, .31, .45, .55]\n",
    "    \n",
    "    log_P = n*np.log10(age_myr) + np.log10(a) + b*np.log10(bv-c)\n",
    "    return 10**log_P"
   ]
  },
  {
   "cell_type": "markdown",
   "metadata": {},
   "source": [
    "Define the log prior and the log posterior functions."
   ]
  },
  {
   "cell_type": "code",
   "execution_count": 30,
   "metadata": {},
   "outputs": [],
   "source": [
    "def lnprior(params):\n",
    "    \"\"\"\n",
    "    lnprior on all parameters.\n",
    "    params need to be linear except age which is log10(age [yr]).\n",
    "    \"\"\"\n",
    "    \n",
    "    # log Priors over age, metallicity and distance. (The priors in priors.py are not in log)\n",
    "    age_prior = np.log(priors.age_prior(params[1]))\n",
    "    feh_prior = np.log(priors.feh_prior(params[2]))\n",
    "    distance_prior = np.log(priors.distance_prior(np.exp(params[3])))\n",
    "\n",
    "    # Uniform prior on extinction.\n",
    "    mAv = (0 <= params[4]) * (params[4] < 1)  # Prior on A_v\n",
    "    mAv = mAv == 1\n",
    "    \n",
    "    # Uniform prior on mass\n",
    "    m = (-20 < params[0]) * (params[0]) < 20  # Broad bounds on mass.\n",
    "            \n",
    "    if mAv and m and np.isfinite(age_prior) and np.isfinite(distance_prior):\n",
    "        return age_prior + feh_prior + distance_prior\n",
    "    \n",
    "    else:\n",
    "        return -np.inf\n",
    "\n",
    "    \n",
    "def lnprob(lnparams, *args):\n",
    "    \n",
    "    # Transform mass and distance back to linear.\n",
    "    params = lnparams*1\n",
    "    params[0] = np.exp(lnparams[0])\n",
    "    params[3] = np.exp(lnparams[3])\n",
    "    \n",
    "    mod, period, period_err, bv_est, gyro_only, iso_only = args\n",
    "    \n",
    "    mag_pars = (params[0], params[1], params[2], params[3]*1e3, params[4])\n",
    "    B = mist.mag[\"B\"](*mag_pars)\n",
    "    V = mist.mag[\"V\"](*mag_pars)\n",
    "    bv = B-V\n",
    "    \n",
    "    # If the prior is -inf, don't even try to calculate the isochronal likelihood.\n",
    "    lnpr = lnprior(params)\n",
    "    if lnpr == -np.inf:\n",
    "        return lnpr\n",
    "    \n",
    "    else:\n",
    "    \n",
    "        if iso_only:\n",
    "            return mod.lnlike(params) + lnpr\n",
    "        \n",
    "        else:\n",
    "            if bv > .45:\n",
    "                gyro_lnlike = -.5*((period - gyro_model(params[1], bv)) /period_err)**2\n",
    "            else:\n",
    "                gyro_lnlike = 0\n",
    "    \n",
    "        # B-V is estimated from mass, etc, so you need to use a different B-V estimate if gyro_only.\n",
    "        if gyro_only:\n",
    "            return -.5*((period - gyro_model(params[1], bv_est)) /period_err)**2 + lnpr\n",
    "    \n",
    "        else:\n",
    "#             print(\"iso lnlike = \", mod.lnlike(params))\n",
    "#             print(\"gyro_lnlike = \", gyro_lnlike)\n",
    "#             print(\"lnprior = \", lnpr)\n",
    "#             assert 0\n",
    "            return mod.lnlike(params) + gyro_lnlike + lnpr"
   ]
  },
  {
   "cell_type": "markdown",
   "metadata": {},
   "source": [
    "Run the MCMC."
   ]
  },
  {
   "cell_type": "code",
   "execution_count": 18,
   "metadata": {},
   "outputs": [],
   "source": [
    "def run_mcmc(obs, args, p_init, burnin=5000, production=10000, ndim=5, nwalkers=24):\n",
    "    \n",
    "    p0 = [p_init + np.random.randn(ndim)*1e-4 for k in range(nwalkers)]\n",
    "\n",
    "    print(\"Burning in...\")\n",
    "    sampler = emcee.EnsembleSampler(nwalkers, ndim, lnprob, args=args)\n",
    "    p0, lnp, state = sampler.run_mcmc(p0, burnin)\n",
    "        \n",
    "    print(\"Production run...\")\n",
    "    sampler.reset()\n",
    "    p0, lnp, state = sampler.run_mcmc(p0, production)\n",
    "    \n",
    "    return sampler\n",
    "\n",
    "\n",
    "def make_plots(sampler, i, truths, savedir):\n",
    "    ndim = 5\n",
    "    \n",
    "    samples = sampler.flatchain\n",
    "        \n",
    "    print(\"Plotting age posterior\")\n",
    "    age_gyr = (10**samples[:, 1])*1e-9\n",
    "    plt.hist(age_gyr)\n",
    "    plt.xlabel(\"Age [Gyr]\")\n",
    "    med, std = np.median(age_gyr), np.std(age_gyr)\n",
    "    plt.axvline(med, color=\"k\")\n",
    "    plt.axvline(med - std, color=\"k\", linestyle=\"--\")\n",
    "    plt.axvline(med + std, color=\"k\", linestyle=\"--\")\n",
    "    plt.savefig(\"{0}/{1}_marginal_age\".format(savedir, i))\n",
    "    plt.close()\n",
    "    \n",
    "    print(\"Plotting production chains...\")\n",
    "    plt.figure(figsize=(16, 9))\n",
    "    for j in range(ndim):\n",
    "        plt.subplot(ndim, 1, j+1)\n",
    "        plt.plot(sampler.chain[:, :, j].T, \"k\", alpha=.1)\n",
    "    plt.savefig(\"{0}/{1}_chains\".format(savedir, i))\n",
    "    plt.close()\n",
    "    \n",
    "    print(\"Making corner plot...\")\n",
    "    labels = [\"ln(mass [M_sun])\", \"log10(age [yr])\", \"[Fe/H]\", \"ln(distance [Kpc])\", \"Av\"]\n",
    "    corner.corner(samples, labels=labels);\n",
    "    plt.savefig(\"{0}/{1}_corner\".format(savedir, i))\n",
    "    plt.close()\n",
    "    \n",
    "    print(\"Making linear corner plot...\")\n",
    "    slin = samples*1\n",
    "    slin[:, 0] = np.exp(samples[:, 0])\n",
    "    slin[:, 3] = np.exp(samples[:, 3])\n",
    "    slin[:, 1] = (10**samples[:, 1])*1e-9\n",
    "    labels = [\"mass [M_sun]\", \"age [Gyr]\", \"[Fe/H]\", \"distance [Kpc]\", \"Av\"]\n",
    "    corner.corner(slin, labels=labels);\n",
    "    plt.savefig(\"{0}/{1}_corner_linear\".format(savedir, i))\n",
    "    plt.close()"
   ]
  },
  {
   "cell_type": "markdown",
   "metadata": {},
   "source": [
    "Load the simulated data file."
   ]
  },
  {
   "cell_type": "code",
   "execution_count": 40,
   "metadata": {},
   "outputs": [],
   "source": [
    "df = pd.read_csv(\"simulated_data.csv\")\n",
    "\n",
    "# swap to real data for a test\n",
    "#df = pd.read_csv(\"combined_data.csv\")"
   ]
  },
  {
   "cell_type": "code",
   "execution_count": 41,
   "metadata": {},
   "outputs": [
    {
     "data": {
      "text/plain": [
       "<matplotlib.colorbar.Colorbar at 0x1635116a0>"
      ]
     },
     "execution_count": 41,
     "metadata": {},
     "output_type": "execute_result"
    },
    {
     "data": {
      "image/png": "[encoded data removed]",
      "text/plain": [
       "<matplotlib.figure.Figure at 0x11e1b38d0>"
      ]
     },
     "metadata": {},
     "output_type": "display_data"
    }
   ],
   "source": [
    "plt.scatter(df.teff, df.logg, c=df.prot)\n",
    "plt.ylim(4.9, 4.3)\n",
    "plt.xlim(6800, 3000)\n",
    "plt.colorbar(label=\"Period [Days]\")"
   ]
  },
  {
   "cell_type": "markdown",
   "metadata": {},
   "source": [
    "Perturb the true parameters with some amount of noise."
   ]
  },
  {
   "cell_type": "code",
   "execution_count": 45,
   "metadata": {},
   "outputs": [],
   "source": [
    "teff_err = 50  # Kelvin\n",
    "logg_err = .1  # dex\n",
    "feh_err = .01  # dex\n",
    "jmag_err = .01 # mags\n",
    "hmag_err = .01  # mags\n",
    "kmag_err = .01  # mags\n",
    "parallax_err = .01  # milliarcseconds\n",
    "prot_err = 1  # Days\n",
    "BV_err = .01  # mags\n",
    "\n",
    "teff = df.teff.values + np.random.randn()*teff_err\n",
    "logg = df.logg.values + np.random.randn()*logg_err\n",
    "feh = df.feh.values + np.random.randn()*feh_err\n",
    "jmag = df.jmag.values + np.random.randn()*jmag_err\n",
    "hmag = df.hmag.values + np.random.randn()*hmag_err\n",
    "kmag = df.kmag.values + np.random.randn()*kmag_err\n",
    "parallax = df.parallax.values + np.random.randn()*parallax_err\n",
    "prot = df.prot.values + np.random.randn()*prot_err\n",
    "BV = df.BV.values + np.random.randn()*BV_err\n",
    "\n",
    "# teff_err = df.teff_err  # Kelvin\n",
    "# logg_err = df.logg_err  # dex\n",
    "# feh_err = df.feh_err  # dex\n",
    "# jmag_err = df.jmag_err # mags\n",
    "# hmag_err = df.hmag_err  # mags\n",
    "# kmag_err = df.kmag_err  # mags\n",
    "# parallax_err = df.parallax_err  # milliarcseconds\n",
    "# prot_err = df.prot_err  # Days\n",
    "# BV_err = df.BV_err  # mags"
   ]
  },
  {
   "cell_type": "markdown",
   "metadata": {},
   "source": [
    "Create a dataframe from the observed data."
   ]
  },
  {
   "cell_type": "code",
   "execution_count": 46,
   "metadata": {},
   "outputs": [],
   "source": [
    "obs = pd.DataFrame(dict({\"teff\": teff, \"teff_err\": teff_err,\n",
    "                         \"logg\": logg, \"logg_err\": logg_err,\n",
    "                         \"feh\": feh, \"feh_err\": feh_err, \n",
    "                         \"jmag\": jmag, \"jmag_err\": jmag_err,\n",
    "                         \"hmag\": hmag, \"hmag_err\": hmag_err,\n",
    "                         \"kmag\": kmag, \"kmag_err\": kmag_err,\n",
    "                         \"parallax\": parallax, \"parallax_err\": parallax_err, \n",
    "                         \"prot\": prot, \"prot_err\": prot_err,\n",
    "                         \"BV\": BV, \"BV_err\": BV_err}))"
   ]
  },
  {
   "cell_type": "code",
   "execution_count": 50,
   "metadata": {},
   "outputs": [
    {
     "name": "stdout",
     "output_type": "stream",
     "text": [
      "[ 0.          9.          0.         -0.69314718  0.01      ]\n",
      "-19969795195.708015\n",
      "-19657688083.422047\n"
     ]
    }
   ],
   "source": [
    "mod, param_dict, p_init, args = setup(obs.iloc[0], df.iloc[0], gyro_only=False, iso_only=False)\n",
    "print(p_init)\n",
    "print(lnprob(p_init, *args))\n",
    "print(lnprob(p_init + (np.random.randn(5)*.01), *args))"
   ]
  },
  {
   "cell_type": "markdown",
   "metadata": {},
   "source": [
    "Loop over stars."
   ]
  },
  {
   "cell_type": "code",
   "execution_count": 51,
   "metadata": {},
   "outputs": [
    {
     "name": "stderr",
     "output_type": "stream",
     "text": [
      "\n",
      "  0%|          | 0/482 [00:00<?, ?it/s]\u001b[A"
     ]
    },
    {
     "name": "stdout",
     "output_type": "stream",
     "text": [
      "0 of 482\n",
      "Burning in...\n"
     ]
    },
    {
     "name": "stderr",
     "output_type": "stream",
     "text": [
      "/Users/ruthangus/anaconda/lib/python3.5/site-packages/ipykernel/__main__.py:8: RuntimeWarning: divide by zero encountered in log\n",
      "/Users/ruthangus/projects/habitablezoning/code/priors.py:34: RuntimeWarning: overflow encountered in double_scalars\n",
      "  return 3/max_distance**3 * distance**2\n",
      "\n"
     ]
    },
    {
     "name": "stdout",
     "output_type": "stream",
     "text": [
      "Production run...\n",
      "truths =  [None, None, None, None, None]\n",
      "Plotting age posterior\n",
      "Plotting production chains...\n",
      "Making corner plot...\n",
      "Making linear corner plot...\n",
      "Saving samples...\n"
     ]
    },
    {
     "ename": "AssertionError",
     "evalue": "",
     "output_type": "error",
     "traceback": [
      "\u001b[0;31m---------------------------------------------------------------------------\u001b[0m",
      "\u001b[0;31mAssertionError\u001b[0m                            Traceback (most recent call last)",
      "\u001b[0;32m<ipython-input-51-0f4b21890aa1>\u001b[0m in \u001b[0;36m<module>\u001b[0;34m()\u001b[0m\n\u001b[1;32m     28\u001b[0m         \u001b[0mdata\u001b[0m \u001b[0;34m=\u001b[0m \u001b[0mf\u001b[0m\u001b[0;34m.\u001b[0m\u001b[0mcreate_dataset\u001b[0m\u001b[0;34m(\u001b[0m\u001b[0;34m\"samples\"\u001b[0m\u001b[0;34m,\u001b[0m \u001b[0mnp\u001b[0m\u001b[0;34m.\u001b[0m\u001b[0mshape\u001b[0m\u001b[0;34m(\u001b[0m\u001b[0msamples\u001b[0m\u001b[0;34m)\u001b[0m\u001b[0;34m)\u001b[0m\u001b[0;34m\u001b[0m\u001b[0m\n\u001b[1;32m     29\u001b[0m         \u001b[0mdata\u001b[0m\u001b[0;34m[\u001b[0m\u001b[0;34m:\u001b[0m\u001b[0;34m,\u001b[0m \u001b[0;34m:\u001b[0m\u001b[0;34m]\u001b[0m \u001b[0;34m=\u001b[0m \u001b[0msamples\u001b[0m\u001b[0;34m\u001b[0m\u001b[0m\n\u001b[0;32m---> 30\u001b[0;31m     \u001b[0;32massert\u001b[0m \u001b[0;36m0\u001b[0m\u001b[0;34m\u001b[0m\u001b[0m\n\u001b[0m",
      "\u001b[0;31mAssertionError\u001b[0m: "
     ]
    }
   ],
   "source": [
    "gyro_only, iso_only = False, False\n",
    "\n",
    "N = len(df)\n",
    "for i in tqdm.tqdm(range(N)):\n",
    "    print(i, \"of\", N)\n",
    "    \n",
    "    np.random.seed(42)\n",
    "    mod, param_dict, p_init, args = setup(obs.iloc[i], df.iloc[i], gyro_only=gyro_only, iso_only=iso_only)\n",
    "    sampler = run_mcmc(obs.iloc[i], args, p_init, burnin=10000, production=20000)\n",
    "    \n",
    "    savedir = \"simulation_results/iso_and_gyro\"\n",
    "    \n",
    "    # Make the plots\n",
    "#     truths = [np.log(df.mass.values[i]), df.age.values[i], df.feh.values[i],\n",
    "#               np.log(df.d_kpc.values[i]), df.Av.values[i]]\n",
    "    truths = [None, None, None, None, None]\n",
    "    print(\"truths = \", truths)\n",
    "    make_plots(sampler, i, truths, savedir)\n",
    "    \n",
    "    # Save the samples\n",
    "    samples = sampler.flatchain\n",
    "#     samples[:, 0] = np.exp(samples[:, 0])\n",
    "#     samples[:, 3] = np.exp(samples[:, 3])\n",
    "#     samples[:, 1] = (10**samples[:, 1])*1e-9\n",
    "    \n",
    "    print(\"Saving samples...\")\n",
    "    with h5py.File(\"{0}/{1}.h5\".format(savedir, i), \"w\") as f:\n",
    "        data = f.create_dataset(\"samples\", np.shape(samples))\n",
    "        data[:, :] = samples\n",
    "    assert 0"
   ]
  },
  {
   "cell_type": "code",
   "execution_count": 38,
   "metadata": {},
   "outputs": [],
   "source": [
    "# i = 0\n",
    "# truths = [np.log(df.mass.values[i]), df.age.values[i], df.feh.values[i],\n",
    "#               np.log(df.d_kpc.values[i]), df.Av.values[i]]\n",
    "# print(\"truths = \", truths)"
   ]
  },
  {
   "cell_type": "code",
   "execution_count": null,
   "metadata": {},
   "outputs": [],
   "source": [
    "d_kpc = np.exp(samples[:, 3])\n",
    "plt.hist(d_kpc)\n",
    "plt.xlabel(\"Distance [kpc]\")\n",
    "med, std = np.median(d_kpc), np.std(d_kpc)\n",
    "plt.axvline(med, color=\"k\")\n",
    "plt.axvline(med - std, color=\"k\", linestyle=\"--\")\n",
    "plt.axvline(med + std, color=\"k\", linestyle=\"--\")\n",
    "plt.axvline(df.d_kpc.values[0], color=\"tab:orange\")\n",
    "print(d_kpc[0])\n",
    "print(df.d_kpc.values[0])"
   ]
  },
  {
   "cell_type": "code",
   "execution_count": 39,
   "metadata": {},
   "outputs": [
    {
     "name": "stderr",
     "output_type": "stream",
     "text": [
      "\n",
      "  0%|          | 0/37 [00:00<?, ?it/s]\u001b[A"
     ]
    },
    {
     "name": "stdout",
     "output_type": "stream",
     "text": [
      "0 of 37\n",
      "Burning in...\n"
     ]
    },
    {
     "name": "stderr",
     "output_type": "stream",
     "text": [
      "/Users/ruthangus/anaconda/lib/python3.5/site-packages/ipykernel/__main__.py:8: RuntimeWarning: divide by zero encountered in log\n",
      "/Users/ruthangus/projects/habitablezoning/code/priors.py:34: RuntimeWarning: overflow encountered in double_scalars\n",
      "  return 3/max_distance**3 * distance**2\n",
      "/Users/ruthangus/anaconda/lib/python3.5/site-packages/ipykernel/__main__.py:10: RuntimeWarning: overflow encountered in exp\n",
      "\n"
     ]
    },
    {
     "name": "stdout",
     "output_type": "stream",
     "text": [
      "Production run...\n",
      "Plotting age posterior\n",
      "Plotting production chains...\n",
      "Making corner plot...\n",
      "Making linear corner plot...\n",
      "Saving samples...\n"
     ]
    },
    {
     "ename": "AssertionError",
     "evalue": "",
     "output_type": "error",
     "traceback": [
      "\u001b[0;31m---------------------------------------------------------------------------\u001b[0m",
      "\u001b[0;31mAssertionError\u001b[0m                            Traceback (most recent call last)",
      "\u001b[0;32m<ipython-input-39-9dc9c4f563dd>\u001b[0m in \u001b[0;36m<module>\u001b[0;34m()\u001b[0m\n\u001b[1;32m     24\u001b[0m         \u001b[0mdata\u001b[0m \u001b[0;34m=\u001b[0m \u001b[0mf\u001b[0m\u001b[0;34m.\u001b[0m\u001b[0mcreate_dataset\u001b[0m\u001b[0;34m(\u001b[0m\u001b[0;34m\"samples\"\u001b[0m\u001b[0;34m,\u001b[0m \u001b[0mnp\u001b[0m\u001b[0;34m.\u001b[0m\u001b[0mshape\u001b[0m\u001b[0;34m(\u001b[0m\u001b[0msamples\u001b[0m\u001b[0;34m)\u001b[0m\u001b[0;34m)\u001b[0m\u001b[0;34m\u001b[0m\u001b[0m\n\u001b[1;32m     25\u001b[0m         \u001b[0mdata\u001b[0m\u001b[0;34m[\u001b[0m\u001b[0;34m:\u001b[0m\u001b[0;34m,\u001b[0m \u001b[0;34m:\u001b[0m\u001b[0;34m]\u001b[0m \u001b[0;34m=\u001b[0m \u001b[0msamples\u001b[0m\u001b[0;34m\u001b[0m\u001b[0m\n\u001b[0;32m---> 26\u001b[0;31m     \u001b[0;32massert\u001b[0m \u001b[0;36m0\u001b[0m\u001b[0;34m\u001b[0m\u001b[0m\n\u001b[0m",
      "\u001b[0;31mAssertionError\u001b[0m: "
     ]
    }
   ],
   "source": [
    "gyro_only, iso_only = False, True\n",
    "\n",
    "N = len(df)\n",
    "for i in tqdm.tqdm(range(N)):\n",
    "    print(i, \"of\", N)\n",
    "    \n",
    "    np.random.seed(42)\n",
    "    mod, param_dict, p_init, args = setup(obs.iloc[i], df.iloc[i], gyro_only=gyro_only, iso_only=iso_only)\n",
    "    sampler = run_mcmc(obs.iloc[i], args, p_init, burnin=10000, production=20000)\n",
    "    \n",
    "    savedir = \"simulation_results/iso_only\"\n",
    "    \n",
    "    # Make the plots\n",
    "#     truths = [np.log(df.mass.values[i]), df.age.values[i], df.feh.values[i],\n",
    "#               np.log(df.d_kpc.values[i]), df.Av.values[i]]\n",
    "    truths = [None, None, None, None, None]\n",
    "    make_plots(sampler, i, truths, savedir)\n",
    "    \n",
    "    # Save the samples\n",
    "    samples = sampler.flatchain\n",
    "    \n",
    "    print(\"Saving samples...\")\n",
    "    with h5py.File(\"{0}/{1}.h5\".format(savedir, i), \"w\") as f:\n",
    "        data = f.create_dataset(\"samples\", np.shape(samples))\n",
    "        data[:, :] = samples\n",
    "    assert 0"
   ]
  },
  {
   "cell_type": "code",
   "execution_count": null,
   "metadata": {},
   "outputs": [],
   "source": [
    "gyro_only, iso_only = True, False\n",
    "\n",
    "N = len(df)\n",
    "for i in tqdm.tqdm(range(N)):\n",
    "    print(i, \"of\", N)\n",
    "    \n",
    "    np.random.seed(42)\n",
    "    mod, param_dict, p_init, args = setup(obs.iloc[i], df.iloc[i], gyro_only=gyro_only, iso_only=iso_only)\n",
    "    sampler = run_mcmc(obs.iloc[i], args, p_init, burnin=10000, production=20000)\n",
    "    \n",
    "    savedir = \"simulation_results/gyro_only\"\n",
    "    \n",
    "    # Make the plots\n",
    "    truths = [np.log(df.mass.values[i]), df.age.values[i], df.feh.values[i],\n",
    "              np.log(df.d_kpc.values[i]), df.Av.values[i]]\n",
    "    make_plots(sampler, i, truths, savedir)\n",
    "    \n",
    "    # Save the samples\n",
    "    samples = sampler.flatchain\n",
    "    \n",
    "    print(\"Saving samples...\")\n",
    "    with h5py.File(\"{0}/{1}.h5\".format(savedir, i), \"w\") as f:\n",
    "        data = f.create_dataset(\"samples\", np.shape(samples))\n",
    "        data[:, :] = samples\n",
    "    assert 0"
   ]
  },
  {
   "cell_type": "markdown",
   "metadata": {},
   "source": [
    "Load the results."
   ]
  },
  {
   "cell_type": "code",
   "execution_count": null,
   "metadata": {},
   "outputs": [],
   "source": [
    "print(df.age)"
   ]
  },
  {
   "cell_type": "code",
   "execution_count": null,
   "metadata": {},
   "outputs": [],
   "source": [
    "print(obs.iloc[0])\n",
    "print(\"age = \", (10**df.age.values[0])*1e-9)"
   ]
  },
  {
   "cell_type": "code",
   "execution_count": null,
   "metadata": {},
   "outputs": [],
   "source": [
    "plt.hist(df.age)"
   ]
  },
  {
   "cell_type": "code",
   "execution_count": null,
   "metadata": {},
   "outputs": [],
   "source": []
  },
  {
   "cell_type": "code",
   "execution_count": null,
   "metadata": {},
   "outputs": [],
   "source": [
    "iso_med, iso_std = [], []\n",
    "Ns = 5\n",
    "for star in range(Ns):\n",
    "    fname = \"samples/{0}__iso.h5\".format(star)\n",
    "    with h5py.File(fname, \"r\") as f:\n",
    "        samples = f[\"samples\"][...]\n",
    "        iso_med.append(np.median(age_gyr))\n",
    "        iso_std.append(np.std(age_gyr))"
   ]
  },
  {
   "cell_type": "code",
   "execution_count": null,
   "metadata": {},
   "outputs": [],
   "source": []
  }
 ],
 "metadata": {
  "anaconda-cloud": {},
  "kernelspec": {
   "display_name": "Python [conda root]",
   "language": "python",
   "name": "conda-root-py"
  },
  "language_info": {
   "codemirror_mode": {
    "name": "ipython",
    "version": 3
   },
   "file_extension": ".py",
   "mimetype": "text/x-python",
   "name": "python",
   "nbconvert_exporter": "python",
   "pygments_lexer": "ipython3",
   "version": "3.5.2"
  }
 },
 "nbformat": 4,
 "nbformat_minor": 1
}
