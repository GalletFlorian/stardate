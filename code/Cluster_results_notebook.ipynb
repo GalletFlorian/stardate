{
 "cells": [
  {
   "cell_type": "markdown",
   "metadata": {},
   "source": [
    "# This notebook produces cluster star results"
   ]
  },
  {
   "cell_type": "code",
   "execution_count": 94,
   "metadata": {},
   "outputs": [],
   "source": [
    "import numpy as np\n",
    "import matplotlib.pyplot as plt\n",
    "%matplotlib inline\n",
    "import pandas as pd\n",
    "import h5py\n",
    "import tqdm\n",
    "from chronology import setup, run_mcmc, make_plots\n",
    "from isochrones import StarModel\n",
    "\n",
    "plotpar = {'axes.labelsize': 25,\n",
    "           'font.size': 25,\n",
    "           'legend.fontsize': 25,\n",
    "           'xtick.labelsize': 25,\n",
    "           'ytick.labelsize': 25,\n",
    "           'text.usetex': True}\n",
    "plt.rcParams.update(plotpar)"
   ]
  },
  {
   "cell_type": "markdown",
   "metadata": {},
   "source": [
    "Load the Douglas Hyades file."
   ]
  },
  {
   "cell_type": "code",
   "execution_count": 85,
   "metadata": {},
   "outputs": [],
   "source": [
    "df1 = pd.read_csv(\"hyades_douglas.csv\", skiprows=76)"
   ]
  },
  {
   "cell_type": "markdown",
   "metadata": {},
   "source": [
    "Load the K2-Gaia crossmatch"
   ]
  },
  {
   "cell_type": "code",
   "execution_count": 12,
   "metadata": {},
   "outputs": [],
   "source": [
    "from astropy.io import fits\n",
    "\n",
    "with fits.open(\"k2_dr2_1arcsec.fits\") as data:\n",
    "    df2 = pd.DataFrame(data[1].data)"
   ]
  },
  {
   "cell_type": "markdown",
   "metadata": {},
   "source": [
    "Merge the Douglas and Gaia catalogues."
   ]
  },
  {
   "cell_type": "code",
   "execution_count": 41,
   "metadata": {},
   "outputs": [],
   "source": [
    "# Just select K2 campaign 4 so you don't fill the memory.\n",
    "m = df2.k2_campaign_str.values == \"4\"\n",
    "#df3 = df2.iloc[m]\n",
    "EPIC = df2.epic_number.values[m]\n",
    "kepmag = df2.k2_kepmag.values[m]\n",
    "kepmag_err = df2.k2_kepmagerr.values[m]\n",
    "gmag = df2.phot_g_mean_mag.values[m]\n",
    "bp = df2.phot_bp_mean_mag.values[m]\n",
    "rp = df2.phot_rp_mean_mag.values[m]\n",
    "parallax = df2.parallax.values[m]\n",
    "parallax_err = df2.parallax_error.values[m]\n",
    "\n",
    "# Create a mini Gaia catalogue\n",
    "df3 = pd.DataFrame(dict({\"EPIC\": EPIC,\n",
    "                         \"gmag\": gmag,\n",
    "                         \"bp\": bp,\n",
    "                         \"rp\": rp,\n",
    "                         \"kepmag\": kepmag, \"kepmag_err\": kepmag_err,\n",
    "                         \"parallax\": parallax,\n",
    "                         \"parallax_err\": parallax_err\n",
    "}))\n",
    "\n",
    "# Merge Douglas and Gaia\n",
    "df = pd.merge(df1, df3, left_on=\"EPIC\", right_on=\"EPIC\")"
   ]
  },
  {
   "cell_type": "markdown",
   "metadata": {},
   "source": [
    "Reformat the rotation period column."
   ]
  },
  {
   "cell_type": "code",
   "execution_count": 83,
   "metadata": {},
   "outputs": [
    {
     "name": "stdout",
     "output_type": "stream",
     "text": [
      "[ 1.8088  0.      0.     12.3168  0.8584  0.     12.5745 14.6609 14.3802\n",
      "  0.      0.7257 23.1244  0.8686  0.     20.7309  1.2774  1.3183  0.\n",
      "  1.8626  2.6612 11.6032  0.2967  0.8037 13.8499  0.4812  0.      9.3908\n",
      " 21.021  21.021   0.8968  2.3094  1.8443  1.8884  1.8489  0.      0.\n",
      "  1.4486 49.3166 12.8433  2.3788  8.685   0.      3.6508 10.1182  1.8626\n",
      "  2.3381 20.3105 43.592   3.6375  0.205   0.     10.017   2.4191  2.4191\n",
      " 11.4703  0.      0.      0.      0.     10.9678 10.9678  0.      0.\n",
      "  0.      0.      0.      0.      1.0542  1.0542 11.1304 11.1304  2.4427\n",
      "  2.4427]\n"
     ]
    }
   ],
   "source": [
    "prot = np.zeros(len(df))\n",
    "for i, p in enumerate(df.K2Per.values):\n",
    "    if p == \"          \":\n",
    "        prot[i] = 0\n",
    "    else:\n",
    "        prot[i] = p\n",
    "\n",
    "print(prot)\n",
    "df[\"prot\"] = prot"
   ]
  },
  {
   "cell_type": "code",
   "execution_count": 90,
   "metadata": {},
   "outputs": [
    {
     "data": {
      "text/html": [
       "<div>\n",
       "<style scoped>\n",
       "    .dataframe tbody tr th:only-of-type {\n",
       "        vertical-align: middle;\n",
       "    }\n",
       "\n",
       "    .dataframe tbody tr th {\n",
       "        vertical-align: top;\n",
       "    }\n",
       "\n",
       "    .dataframe thead th {\n",
       "        text-align: right;\n",
       "    }\n",
       "</style>\n",
       "<table border=\"1\" class=\"dataframe\">\n",
       "  <thead>\n",
       "    <tr style=\"text-align: right;\">\n",
       "      <th></th>\n",
       "      <th>[RSP2011]</th>\n",
       "      <th>HIP</th>\n",
       "      <th>RAJ2000</th>\n",
       "      <th>DEJ2000</th>\n",
       "      <th>2MASS</th>\n",
       "      <th>EPIC</th>\n",
       "      <th>Kpmag</th>\n",
       "      <th>Mass</th>\n",
       "      <th>Bin</th>\n",
       "      <th>Ap</th>\n",
       "      <th>...</th>\n",
       "      <th>Bl</th>\n",
       "      <th>Lit</th>\n",
       "      <th>bp</th>\n",
       "      <th>gmag</th>\n",
       "      <th>kepmag</th>\n",
       "      <th>kepmag_err</th>\n",
       "      <th>parallax</th>\n",
       "      <th>parallax_err</th>\n",
       "      <th>rp</th>\n",
       "      <th>prot</th>\n",
       "    </tr>\n",
       "  </thead>\n",
       "  <tbody>\n",
       "    <tr>\n",
       "      <th>0</th>\n",
       "      <td>64</td>\n",
       "      <td></td>\n",
       "      <td>03 34 10.5</td>\n",
       "      <td>+22 04 21.2</td>\n",
       "      <td>03341053+2204213</td>\n",
       "      <td>210942999</td>\n",
       "      <td>13.68</td>\n",
       "      <td>0.17</td>\n",
       "      <td>2</td>\n",
       "      <td>4.0</td>\n",
       "      <td>...</td>\n",
       "      <td>N</td>\n",
       "      <td>1</td>\n",
       "      <td>16.502295</td>\n",
       "      <td>14.610085</td>\n",
       "      <td>13.675</td>\n",
       "      <td>999999</td>\n",
       "      <td>28.166407</td>\n",
       "      <td>0.096785</td>\n",
       "      <td>13.300308</td>\n",
       "      <td>1.8088</td>\n",
       "    </tr>\n",
       "    <tr>\n",
       "      <th>1</th>\n",
       "      <td></td>\n",
       "      <td></td>\n",
       "      <td>03 40 45.8</td>\n",
       "      <td>+17 34 47.7</td>\n",
       "      <td>03404581+1734477</td>\n",
       "      <td>210643507</td>\n",
       "      <td>16.64</td>\n",
       "      <td>0.13</td>\n",
       "      <td>0</td>\n",
       "      <td>3.0</td>\n",
       "      <td>...</td>\n",
       "      <td>N</td>\n",
       "      <td>0</td>\n",
       "      <td>18.539261</td>\n",
       "      <td>16.269011</td>\n",
       "      <td>16.638</td>\n",
       "      <td>999999</td>\n",
       "      <td>23.805453</td>\n",
       "      <td>0.146640</td>\n",
       "      <td>14.877822</td>\n",
       "      <td>0.0000</td>\n",
       "    </tr>\n",
       "    <tr>\n",
       "      <th>2</th>\n",
       "      <td>75</td>\n",
       "      <td></td>\n",
       "      <td>03 42 04.4</td>\n",
       "      <td>+16 25 18.3</td>\n",
       "      <td>03420441+1625183</td>\n",
       "      <td>210563410</td>\n",
       "      <td>15.13</td>\n",
       "      <td>0.18</td>\n",
       "      <td>0</td>\n",
       "      <td>2.0</td>\n",
       "      <td>...</td>\n",
       "      <td>Y</td>\n",
       "      <td>0</td>\n",
       "      <td>16.723780</td>\n",
       "      <td>14.872567</td>\n",
       "      <td>15.128</td>\n",
       "      <td>999999</td>\n",
       "      <td>23.380591</td>\n",
       "      <td>0.101480</td>\n",
       "      <td>13.567423</td>\n",
       "      <td>0.0000</td>\n",
       "    </tr>\n",
       "    <tr>\n",
       "      <th>3</th>\n",
       "      <td>78</td>\n",
       "      <td></td>\n",
       "      <td>03 43 47.0</td>\n",
       "      <td>+20 51 36.4</td>\n",
       "      <td>03434706+2051363</td>\n",
       "      <td>210865372</td>\n",
       "      <td>13.38</td>\n",
       "      <td>0.32</td>\n",
       "      <td>0</td>\n",
       "      <td>2.5</td>\n",
       "      <td>...</td>\n",
       "      <td>N</td>\n",
       "      <td>0</td>\n",
       "      <td>14.837266</td>\n",
       "      <td>13.336599</td>\n",
       "      <td>13.380</td>\n",
       "      <td>999999</td>\n",
       "      <td>22.088883</td>\n",
       "      <td>0.064101</td>\n",
       "      <td>12.140936</td>\n",
       "      <td>12.3168</td>\n",
       "    </tr>\n",
       "    <tr>\n",
       "      <th>4</th>\n",
       "      <td>80</td>\n",
       "      <td></td>\n",
       "      <td>03 46 59.5</td>\n",
       "      <td>+15 24 16.8</td>\n",
       "      <td>03465952+1524170</td>\n",
       "      <td>210499476</td>\n",
       "      <td>14.16</td>\n",
       "      <td>0.18</td>\n",
       "      <td>2</td>\n",
       "      <td>4.0</td>\n",
       "      <td>...</td>\n",
       "      <td>N</td>\n",
       "      <td>1</td>\n",
       "      <td>15.804864</td>\n",
       "      <td>13.963063</td>\n",
       "      <td>14.165</td>\n",
       "      <td>999999</td>\n",
       "      <td>35.274509</td>\n",
       "      <td>0.132403</td>\n",
       "      <td>12.665202</td>\n",
       "      <td>0.8584</td>\n",
       "    </tr>\n",
       "  </tbody>\n",
       "</table>\n",
       "<p>5 rows × 31 columns</p>\n",
       "</div>"
      ],
      "text/plain": [
       "  [RSP2011]    HIP     RAJ2000      DEJ2000             2MASS       EPIC  \\\n",
       "0        64         03 34 10.5  +22 04 21.2  03341053+2204213  210942999   \n",
       "1                   03 40 45.8  +17 34 47.7  03404581+1734477  210643507   \n",
       "2        75         03 42 04.4  +16 25 18.3  03420441+1625183  210563410   \n",
       "3        78         03 43 47.0  +20 51 36.4  03434706+2051363  210865372   \n",
       "4        80         03 46 59.5  +15 24 16.8  03465952+1524170  210499476   \n",
       "\n",
       "   Kpmag      Mass  Bin   Ap   ...    Bl  Lit         bp       gmag  kepmag  \\\n",
       "0  13.68      0.17    2  4.0   ...     N    1  16.502295  14.610085  13.675   \n",
       "1  16.64      0.13    0  3.0   ...     N    0  18.539261  16.269011  16.638   \n",
       "2  15.13      0.18    0  2.0   ...     Y    0  16.723780  14.872567  15.128   \n",
       "3  13.38      0.32    0  2.5   ...     N    0  14.837266  13.336599  13.380   \n",
       "4  14.16      0.18    2  4.0   ...     N    1  15.804864  13.963063  14.165   \n",
       "\n",
       "  kepmag_err   parallax parallax_err         rp     prot  \n",
       "0     999999  28.166407     0.096785  13.300308   1.8088  \n",
       "1     999999  23.805453     0.146640  14.877822   0.0000  \n",
       "2     999999  23.380591     0.101480  13.567423   0.0000  \n",
       "3     999999  22.088883     0.064101  12.140936  12.3168  \n",
       "4     999999  35.274509     0.132403  12.665202   0.8584  \n",
       "\n",
       "[5 rows x 31 columns]"
      ]
     },
     "execution_count": 90,
     "metadata": {},
     "output_type": "execute_result"
    }
   ],
   "source": [
    "df.to_csv(\"hyades.csv\")\n",
    "df.head()"
   ]
  },
  {
   "cell_type": "markdown",
   "metadata": {},
   "source": [
    "Create the \"obs\" dataframe needed for chronology."
   ]
  },
  {
   "cell_type": "code",
   "execution_count": 91,
   "metadata": {},
   "outputs": [],
   "source": [
    "obs = pd.DataFrame(dict({\"EPIC\": df.EPIC,\n",
    "                         \"gmag\": df.gmag, \"gmag_err\": np.zeros(len(df))+.01,  # Find out what the error actually is\n",
    "                         \"bp\": df.bp, \"bp_err\": np.zeros(len(df))+.01,\n",
    "                         \"rp\": df.rp, \"rp_err\": np.zeros(len(df))+.01,\n",
    "                         \"kepmag\": df.kepmag, \"kepmag_err\": df.kepmag_err,\n",
    "                         \"parallax\": df.parallax, \"parallax_err\": df.parallax_err,\n",
    "                         \"prot\": df.prot, \"prot_err\": df.prot.values*.1\n",
    "}))"
   ]
  },
  {
   "cell_type": "code",
   "execution_count": 95,
   "metadata": {},
   "outputs": [
    {
     "ename": "NameError",
     "evalue": "name 'mist' is not defined",
     "output_type": "error",
     "traceback": [
      "\u001b[0;31m---------------------------------------------------------------------------\u001b[0m",
      "\u001b[0;31mNameError\u001b[0m                                 Traceback (most recent call last)",
      "\u001b[0;32m<ipython-input-95-629248404ebe>\u001b[0m in \u001b[0;36m<module>\u001b[0;34m()\u001b[0m\n\u001b[1;32m      5\u001b[0m               }\n\u001b[1;32m      6\u001b[0m \u001b[0;34m\u001b[0m\u001b[0m\n\u001b[0;32m----> 7\u001b[0;31m \u001b[0mmod\u001b[0m \u001b[0;34m=\u001b[0m \u001b[0mStarModel\u001b[0m\u001b[0;34m(\u001b[0m\u001b[0mmist\u001b[0m\u001b[0;34m,\u001b[0m \u001b[0;34m**\u001b[0m\u001b[0mparam_dict\u001b[0m\u001b[0;34m)\u001b[0m  \u001b[0;31m# Set up the StarModel isochrones object.\u001b[0m\u001b[0;34m\u001b[0m\u001b[0m\n\u001b[0m\u001b[1;32m      8\u001b[0m \u001b[0margs\u001b[0m \u001b[0;34m=\u001b[0m \u001b[0;34m[\u001b[0m\u001b[0mmod\u001b[0m\u001b[0;34m,\u001b[0m \u001b[0mobs\u001b[0m\u001b[0;34m.\u001b[0m\u001b[0mprot\u001b[0m\u001b[0;34m,\u001b[0m \u001b[0mobs\u001b[0m\u001b[0;34m.\u001b[0m\u001b[0mprot_err\u001b[0m\u001b[0;34m,\u001b[0m \u001b[0mobs\u001b[0m\u001b[0;34m.\u001b[0m\u001b[0mBV\u001b[0m\u001b[0;34m,\u001b[0m \u001b[0mgyro_only\u001b[0m\u001b[0;34m,\u001b[0m \u001b[0miso_only\u001b[0m\u001b[0;34m]\u001b[0m  \u001b[0;31m# the lnprob arguments\u001b[0m\u001b[0;34m\u001b[0m\u001b[0m\n",
      "\u001b[0;31mNameError\u001b[0m: name 'mist' is not defined"
     ]
    }
   ],
   "source": [
    "# Set up the StarModel object needed to calculate the likelihood.\n",
    "param_dict = {\"G\": (obs.gmag, obs.gmag_err),\n",
    "              \"Kp\": (obs.kepmag, obs.kepmag_err),\n",
    "              \"parallax\": (obs.parallax, obs.parallax_err)  # Isochrones.py takes milliarcseconds\n",
    "              }\n",
    "\n",
    "mod = StarModel(mist, **param_dict)  # Set up the StarModel isochrones object.\n",
    "args = [mod, obs.prot, obs.prot_err, obs.BV, gyro_only, iso_only]  # the lnprob arguments"
   ]
  },
  {
   "cell_type": "code",
   "execution_count": null,
   "metadata": {},
   "outputs": [],
   "source": []
  }
 ],
 "metadata": {
  "anaconda-cloud": {},
  "kernelspec": {
   "display_name": "Python [conda root]",
   "language": "python",
   "name": "conda-root-py"
  },
  "language_info": {
   "codemirror_mode": {
    "name": "ipython",
    "version": 3
   },
   "file_extension": ".py",
   "mimetype": "text/x-python",
   "name": "python",
   "nbconvert_exporter": "python",
   "pygments_lexer": "ipython3",
   "version": "3.5.2"
  }
 },
 "nbformat": 4,
 "nbformat_minor": 1
}
