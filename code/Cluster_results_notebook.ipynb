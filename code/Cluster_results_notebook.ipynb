{
 "cells": [
  {
   "cell_type": "markdown",
   "metadata": {},
   "source": [
    "# This notebook produces cluster star results"
   ]
  },
  {
   "cell_type": "code",
   "execution_count": 1,
   "metadata": {},
   "outputs": [
    {
     "name": "stderr",
     "output_type": "stream",
     "text": [
      "WARNING:root:PyMultiNest not imported.  MultiNest fits will not work.\n"
     ]
    }
   ],
   "source": [
    "import numpy as np\n",
    "import matplotlib.pyplot as plt\n",
    "%matplotlib inline\n",
    "import pandas as pd\n",
    "import h5py\n",
    "import tqdm\n",
    "from chronology import setup, run_mcmc, make_plots\n",
    "from isochrones import StarModel\n",
    "\n",
    "from isochrones.mist import MIST_Isochrone\n",
    "mist = MIST_Isochrone()\n",
    "\n",
    "plotpar = {'axes.labelsize': 25,\n",
    "           'font.size': 25,\n",
    "           'legend.fontsize': 25,\n",
    "           'xtick.labelsize': 25,\n",
    "           'ytick.labelsize': 25,\n",
    "           'text.usetex': True}\n",
    "plt.rcParams.update(plotpar)"
   ]
  },
  {
   "cell_type": "markdown",
   "metadata": {},
   "source": [
    "Load the Douglas Hyades file."
   ]
  },
  {
   "cell_type": "code",
   "execution_count": 2,
   "metadata": {},
   "outputs": [],
   "source": [
    "df1 = pd.read_csv(\"hyades_douglas.csv\", skiprows=76)"
   ]
  },
  {
   "cell_type": "markdown",
   "metadata": {},
   "source": [
    "Load the K2-Gaia crossmatch"
   ]
  },
  {
   "cell_type": "code",
   "execution_count": 3,
   "metadata": {},
   "outputs": [],
   "source": [
    "from astropy.io import fits\n",
    "\n",
    "with fits.open(\"k2_dr2_1arcsec.fits\") as data:\n",
    "    df2 = pd.DataFrame(data[1].data)"
   ]
  },
  {
   "cell_type": "code",
   "execution_count": 13,
   "metadata": {},
   "outputs": [],
   "source": [
    "# for i in df2.keys():\n",
    "#     print(i)"
   ]
  },
  {
   "cell_type": "markdown",
   "metadata": {},
   "source": [
    "Merge the Douglas and Gaia catalogues."
   ]
  },
  {
   "cell_type": "code",
   "execution_count": 18,
   "metadata": {},
   "outputs": [],
   "source": [
    "# Just select K2 campaign 4 so you don't fill the memory.\n",
    "m = df2.k2_campaign_str.values == \"4\"\n",
    "#df3 = df2.iloc[m]\n",
    "EPIC = df2.epic_number.values[m]\n",
    "kepmag = df2.k2_kepmag.values[m]\n",
    "kepmag_err = df2.k2_kepmagerr.values[m]\n",
    "gmag = df2.phot_g_mean_mag.values[m]\n",
    "bp = df2.phot_bp_mean_mag.values[m]\n",
    "rp = df2.phot_rp_mean_mag.values[m]\n",
    "parallax = df2.parallax.values[m]\n",
    "parallax_err = df2.parallax_error.values[m]\n",
    "ra, ra_err = df2.ra.values[m], df2.ra_error.values[m]\n",
    "dec, dec_err = df2.dec.values[m], df2.dec_error.values[m]\n",
    "\n",
    "# Create a mini Gaia catalogue\n",
    "df3 = pd.DataFrame(dict({\"EPIC\": EPIC,\n",
    "                         \"gmag\": gmag,\n",
    "                         \"bp\": bp,\n",
    "                         \"rp\": rp,\n",
    "                         \"kepmag\": kepmag, \"kepmag_err\": kepmag_err,\n",
    "                         \"parallax\": parallax,\n",
    "                         \"parallax_err\": parallax_err,\n",
    "                         \"ra\": ra, \"ra_err\": ra_err,\n",
    "                         \"dec\": dec, \"dec_err\": dec_err\n",
    "}))\n",
    "df3.to_csv(\"K2_c4_gaia.csv\")\n",
    "\n",
    "# Merge Douglas and Gaia\n",
    "df = pd.merge(df1, df3, left_on=\"EPIC\", right_on=\"EPIC\")"
   ]
  },
  {
   "cell_type": "markdown",
   "metadata": {},
   "source": [
    "Reformat the rotation period column."
   ]
  },
  {
   "cell_type": "code",
   "execution_count": 15,
   "metadata": {},
   "outputs": [
    {
     "name": "stdout",
     "output_type": "stream",
     "text": [
      "[ 1.8088  0.      0.     12.3168  0.8584  0.     12.5745 14.6609 14.3802\n",
      "  0.      0.7257 23.1244  0.8686  0.     20.7309  1.2774  1.3183  0.\n",
      "  1.8626  2.6612 11.6032  0.2967  0.8037 13.8499  0.4812  0.      9.3908\n",
      " 21.021  21.021   0.8968  2.3094  1.8443  1.8884  1.8489  0.      0.\n",
      "  1.4486 49.3166 12.8433  2.3788  8.685   0.      3.6508 10.1182  1.8626\n",
      "  2.3381 20.3105 43.592   3.6375  0.205   0.     10.017   2.4191  2.4191\n",
      " 11.4703  0.      0.      0.      0.     10.9678 10.9678  0.      0.\n",
      "  0.      0.      0.      0.      1.0542  1.0542 11.1304 11.1304  2.4427\n",
      "  2.4427]\n"
     ]
    }
   ],
   "source": [
    "prot = np.zeros(len(df))\n",
    "for i, p in enumerate(df.K2Per.values):\n",
    "    if p == \"          \":\n",
    "        prot[i] = 0\n",
    "    else:\n",
    "        prot[i] = p\n",
    "\n",
    "print(prot)\n",
    "df[\"prot\"] = prot"
   ]
  },
  {
   "cell_type": "code",
   "execution_count": 16,
   "metadata": {},
   "outputs": [
    {
     "data": {
      "text/html": [
       "<div>\n",
       "<style scoped>\n",
       "    .dataframe tbody tr th:only-of-type {\n",
       "        vertical-align: middle;\n",
       "    }\n",
       "\n",
       "    .dataframe tbody tr th {\n",
       "        vertical-align: top;\n",
       "    }\n",
       "\n",
       "    .dataframe thead th {\n",
       "        text-align: right;\n",
       "    }\n",
       "</style>\n",
       "<table border=\"1\" class=\"dataframe\">\n",
       "  <thead>\n",
       "    <tr style=\"text-align: right;\">\n",
       "      <th></th>\n",
       "      <th>[RSP2011]</th>\n",
       "      <th>HIP</th>\n",
       "      <th>RAJ2000</th>\n",
       "      <th>DEJ2000</th>\n",
       "      <th>2MASS</th>\n",
       "      <th>EPIC</th>\n",
       "      <th>Kpmag</th>\n",
       "      <th>Mass</th>\n",
       "      <th>Bin</th>\n",
       "      <th>Ap</th>\n",
       "      <th>...</th>\n",
       "      <th>dec_err</th>\n",
       "      <th>gmag</th>\n",
       "      <th>kepmag</th>\n",
       "      <th>kepmag_err</th>\n",
       "      <th>parallax</th>\n",
       "      <th>parallax_err</th>\n",
       "      <th>ra</th>\n",
       "      <th>ra_err</th>\n",
       "      <th>rp</th>\n",
       "      <th>prot</th>\n",
       "    </tr>\n",
       "  </thead>\n",
       "  <tbody>\n",
       "    <tr>\n",
       "      <th>0</th>\n",
       "      <td>64</td>\n",
       "      <td></td>\n",
       "      <td>03 34 10.5</td>\n",
       "      <td>+22 04 21.2</td>\n",
       "      <td>03341053+2204213</td>\n",
       "      <td>210942999</td>\n",
       "      <td>13.68</td>\n",
       "      <td>0.17</td>\n",
       "      <td>2</td>\n",
       "      <td>4.0</td>\n",
       "      <td>...</td>\n",
       "      <td>0.062352</td>\n",
       "      <td>14.610085</td>\n",
       "      <td>13.675</td>\n",
       "      <td>999999</td>\n",
       "      <td>28.166407</td>\n",
       "      <td>0.096785</td>\n",
       "      <td>53.544861</td>\n",
       "      <td>0.084542</td>\n",
       "      <td>13.300308</td>\n",
       "      <td>1.8088</td>\n",
       "    </tr>\n",
       "    <tr>\n",
       "      <th>1</th>\n",
       "      <td></td>\n",
       "      <td></td>\n",
       "      <td>03 40 45.8</td>\n",
       "      <td>+17 34 47.7</td>\n",
       "      <td>03404581+1734477</td>\n",
       "      <td>210643507</td>\n",
       "      <td>16.64</td>\n",
       "      <td>0.13</td>\n",
       "      <td>0</td>\n",
       "      <td>3.0</td>\n",
       "      <td>...</td>\n",
       "      <td>0.088322</td>\n",
       "      <td>16.269011</td>\n",
       "      <td>16.638</td>\n",
       "      <td>999999</td>\n",
       "      <td>23.805453</td>\n",
       "      <td>0.146640</td>\n",
       "      <td>55.191643</td>\n",
       "      <td>0.114236</td>\n",
       "      <td>14.877822</td>\n",
       "      <td>0.0000</td>\n",
       "    </tr>\n",
       "    <tr>\n",
       "      <th>2</th>\n",
       "      <td>75</td>\n",
       "      <td></td>\n",
       "      <td>03 42 04.4</td>\n",
       "      <td>+16 25 18.3</td>\n",
       "      <td>03420441+1625183</td>\n",
       "      <td>210563410</td>\n",
       "      <td>15.13</td>\n",
       "      <td>0.18</td>\n",
       "      <td>0</td>\n",
       "      <td>2.0</td>\n",
       "      <td>...</td>\n",
       "      <td>0.059111</td>\n",
       "      <td>14.872567</td>\n",
       "      <td>15.128</td>\n",
       "      <td>999999</td>\n",
       "      <td>23.380591</td>\n",
       "      <td>0.101480</td>\n",
       "      <td>55.519163</td>\n",
       "      <td>0.088386</td>\n",
       "      <td>13.567423</td>\n",
       "      <td>0.0000</td>\n",
       "    </tr>\n",
       "    <tr>\n",
       "      <th>3</th>\n",
       "      <td>78</td>\n",
       "      <td></td>\n",
       "      <td>03 43 47.0</td>\n",
       "      <td>+20 51 36.4</td>\n",
       "      <td>03434706+2051363</td>\n",
       "      <td>210865372</td>\n",
       "      <td>13.38</td>\n",
       "      <td>0.32</td>\n",
       "      <td>0</td>\n",
       "      <td>2.5</td>\n",
       "      <td>...</td>\n",
       "      <td>0.038860</td>\n",
       "      <td>13.336599</td>\n",
       "      <td>13.380</td>\n",
       "      <td>999999</td>\n",
       "      <td>22.088883</td>\n",
       "      <td>0.064101</td>\n",
       "      <td>55.946823</td>\n",
       "      <td>0.056599</td>\n",
       "      <td>12.140936</td>\n",
       "      <td>12.3168</td>\n",
       "    </tr>\n",
       "    <tr>\n",
       "      <th>4</th>\n",
       "      <td>80</td>\n",
       "      <td></td>\n",
       "      <td>03 46 59.5</td>\n",
       "      <td>+15 24 16.8</td>\n",
       "      <td>03465952+1524170</td>\n",
       "      <td>210499476</td>\n",
       "      <td>14.16</td>\n",
       "      <td>0.18</td>\n",
       "      <td>2</td>\n",
       "      <td>4.0</td>\n",
       "      <td>...</td>\n",
       "      <td>0.082477</td>\n",
       "      <td>13.963063</td>\n",
       "      <td>14.165</td>\n",
       "      <td>999999</td>\n",
       "      <td>35.274509</td>\n",
       "      <td>0.132403</td>\n",
       "      <td>56.749149</td>\n",
       "      <td>0.143451</td>\n",
       "      <td>12.665202</td>\n",
       "      <td>0.8584</td>\n",
       "    </tr>\n",
       "  </tbody>\n",
       "</table>\n",
       "<p>5 rows × 35 columns</p>\n",
       "</div>"
      ],
      "text/plain": [
       "  [RSP2011]    HIP     RAJ2000      DEJ2000             2MASS       EPIC  \\\n",
       "0        64         03 34 10.5  +22 04 21.2  03341053+2204213  210942999   \n",
       "1                   03 40 45.8  +17 34 47.7  03404581+1734477  210643507   \n",
       "2        75         03 42 04.4  +16 25 18.3  03420441+1625183  210563410   \n",
       "3        78         03 43 47.0  +20 51 36.4  03434706+2051363  210865372   \n",
       "4        80         03 46 59.5  +15 24 16.8  03465952+1524170  210499476   \n",
       "\n",
       "   Kpmag      Mass  Bin   Ap   ...      dec_err       gmag  kepmag  \\\n",
       "0  13.68      0.17    2  4.0   ...     0.062352  14.610085  13.675   \n",
       "1  16.64      0.13    0  3.0   ...     0.088322  16.269011  16.638   \n",
       "2  15.13      0.18    0  2.0   ...     0.059111  14.872567  15.128   \n",
       "3  13.38      0.32    0  2.5   ...     0.038860  13.336599  13.380   \n",
       "4  14.16      0.18    2  4.0   ...     0.082477  13.963063  14.165   \n",
       "\n",
       "   kepmag_err   parallax parallax_err         ra    ra_err         rp     prot  \n",
       "0      999999  28.166407     0.096785  53.544861  0.084542  13.300308   1.8088  \n",
       "1      999999  23.805453     0.146640  55.191643  0.114236  14.877822   0.0000  \n",
       "2      999999  23.380591     0.101480  55.519163  0.088386  13.567423   0.0000  \n",
       "3      999999  22.088883     0.064101  55.946823  0.056599  12.140936  12.3168  \n",
       "4      999999  35.274509     0.132403  56.749149  0.143451  12.665202   0.8584  \n",
       "\n",
       "[5 rows x 35 columns]"
      ]
     },
     "execution_count": 16,
     "metadata": {},
     "output_type": "execute_result"
    }
   ],
   "source": [
    "df.to_csv(\"hyades.csv\")\n",
    "df.head()\n",
    "# for i in df.keys():\n",
    "#     print(i)"
   ]
  },
  {
   "cell_type": "code",
   "execution_count": 17,
   "metadata": {},
   "outputs": [
    {
     "data": {
      "text/plain": [
       "[<matplotlib.lines.Line2D at 0x1044dbb00>]"
      ]
     },
     "execution_count": 17,
     "metadata": {},
     "output_type": "execute_result"
    },
    {
     "data": {
      "image/png": "[encoded data removed]",
      "text/plain": [
       "<matplotlib.figure.Figure at 0x11c358e80>"
      ]
     },
     "metadata": {},
     "output_type": "display_data"
    }
   ],
   "source": [
    "plt.plot(df.ra, df.dec, \".\")"
   ]
  },
  {
   "cell_type": "code",
   "execution_count": 20,
   "metadata": {},
   "outputs": [
    {
     "data": {
      "text/html": [
       "<div>\n",
       "<style scoped>\n",
       "    .dataframe tbody tr th:only-of-type {\n",
       "        vertical-align: middle;\n",
       "    }\n",
       "\n",
       "    .dataframe tbody tr th {\n",
       "        vertical-align: top;\n",
       "    }\n",
       "\n",
       "    .dataframe thead th {\n",
       "        text-align: right;\n",
       "    }\n",
       "</style>\n",
       "<table border=\"1\" class=\"dataframe\">\n",
       "  <thead>\n",
       "    <tr style=\"text-align: right;\">\n",
       "      <th></th>\n",
       "      <th>B-V</th>\n",
       "      <th>B-V_err</th>\n",
       "      <th>P</th>\n",
       "      <th>P_err</th>\n",
       "      <th>A</th>\n",
       "      <th>A_err</th>\n",
       "    </tr>\n",
       "  </thead>\n",
       "  <tbody>\n",
       "    <tr>\n",
       "      <th>0</th>\n",
       "      <td>0.535</td>\n",
       "      <td>0.01</td>\n",
       "      <td>5.87</td>\n",
       "      <td>0.03</td>\n",
       "      <td>0.625</td>\n",
       "      <td>0.05</td>\n",
       "    </tr>\n",
       "    <tr>\n",
       "      <th>1</th>\n",
       "      <td>0.543</td>\n",
       "      <td>0.01</td>\n",
       "      <td>5.13</td>\n",
       "      <td>0.02</td>\n",
       "      <td>0.625</td>\n",
       "      <td>0.05</td>\n",
       "    </tr>\n",
       "    <tr>\n",
       "      <th>2</th>\n",
       "      <td>0.566</td>\n",
       "      <td>0.01</td>\n",
       "      <td>5.45</td>\n",
       "      <td>0.02</td>\n",
       "      <td>0.625</td>\n",
       "      <td>0.05</td>\n",
       "    </tr>\n",
       "    <tr>\n",
       "      <th>3</th>\n",
       "      <td>0.597</td>\n",
       "      <td>0.01</td>\n",
       "      <td>8.05</td>\n",
       "      <td>0.06</td>\n",
       "      <td>0.625</td>\n",
       "      <td>0.05</td>\n",
       "    </tr>\n",
       "    <tr>\n",
       "      <th>4</th>\n",
       "      <td>0.601</td>\n",
       "      <td>0.01</td>\n",
       "      <td>7.10</td>\n",
       "      <td>0.05</td>\n",
       "      <td>0.625</td>\n",
       "      <td>0.05</td>\n",
       "    </tr>\n",
       "  </tbody>\n",
       "</table>\n",
       "</div>"
      ],
      "text/plain": [
       "     B-V  B-V_err     P  P_err      A  A_err\n",
       "0  0.535     0.01  5.87   0.03  0.625   0.05\n",
       "1  0.543     0.01  5.13   0.02  0.625   0.05\n",
       "2  0.566     0.01  5.45   0.02  0.625   0.05\n",
       "3  0.597     0.01  8.05   0.06  0.625   0.05\n",
       "4  0.601     0.01  7.10   0.05  0.625   0.05"
      ]
     },
     "execution_count": 20,
     "metadata": {},
     "output_type": "execute_result"
    }
   ],
   "source": [
    "df2 = pd.read_csv(\"../data/hyades_radick.csv\", skiprows=1)\n",
    "df2.head()"
   ]
  },
  {
   "cell_type": "code",
   "execution_count": 24,
   "metadata": {},
   "outputs": [
    {
     "data": {
      "text/plain": [
       "Text(0,0.5,'$\\\\log_{10}(P_{\\\\mathrm{rot}})$')"
      ]
     },
     "execution_count": 24,
     "metadata": {},
     "output_type": "execute_result"
    },
    {
     "data": {
      "image/png": "[encoded data removed]",
      "text/plain": [
       "<matplotlib.figure.Figure at 0x11b6244a8>"
      ]
     },
     "metadata": {},
     "output_type": "display_data"
    }
   ],
   "source": [
    "plt.errorbar(np.log10(df2[\"B-V\"]), np.log10(df2.P), fmt=\".\")\n",
    "plt.xlabel(\"$\\log_{10}(B-V)$\")\n",
    "plt.ylabel(\"$\\log_{10}(P_{\\mathrm{rot}})$\")"
   ]
  },
  {
   "cell_type": "markdown",
   "metadata": {},
   "source": [
    "Create the \"obs\" dataframe needed for chronology."
   ]
  },
  {
   "cell_type": "code",
   "execution_count": 91,
   "metadata": {},
   "outputs": [],
   "source": [
    "obs = pd.DataFrame(dict({\"EPIC\": df.EPIC,\n",
    "                         \"gmag\": df.gmag, \"gmag_err\": np.zeros(len(df))+.01,  # Find out what the error actually is\n",
    "                         \"bp\": df.bp, \"bp_err\": np.zeros(len(df))+.01,\n",
    "                         \"rp\": df.rp, \"rp_err\": np.zeros(len(df))+.01,\n",
    "                         \"kepmag\": df.kepmag, \"kepmag_err\": df.kepmag_err,\n",
    "                         \"parallax\": df.parallax, \"parallax_err\": df.parallax_err,\n",
    "                         \"prot\": df.prot, \"prot_err\": df.prot.values*.1\n",
    "}))"
   ]
  },
  {
   "cell_type": "code",
   "execution_count": 98,
   "metadata": {},
   "outputs": [
    {
     "name": "stderr",
     "output_type": "stream",
     "text": [
      "WARNING:root:G=(0     14.610085\n",
      "1     16.269011\n",
      "2     14.872567\n",
      "3     13.336599\n",
      "4     13.963063\n",
      "5     16.065794\n",
      "6      9.787785\n",
      "7     10.572748\n",
      "8     16.261477\n",
      "9      9.766113\n",
      "10    15.706417\n",
      "11    13.017426\n",
      "12    15.111156\n",
      "13     8.840317\n",
      "14    12.076345\n",
      "15    14.344322\n",
      "16    14.676657\n",
      "17    13.754287\n",
      "18    14.703896\n",
      "19    13.329974\n",
      "20     9.774549\n",
      "21    16.303532\n",
      "22    15.069968\n",
      "23    10.833858\n",
      "24    14.523818\n",
      "25    14.685039\n",
      "26     9.189675\n",
      "27    12.558902\n",
      "28    12.627023\n",
      "29    16.540541\n",
      "        ...    \n",
      "43    13.771758\n",
      "44     9.159913\n",
      "45    14.620120\n",
      "46    14.011936\n",
      "47    12.509938\n",
      "48    14.314161\n",
      "49    16.667233\n",
      "50    12.086519\n",
      "51     9.108309\n",
      "52    15.481036\n",
      "53    15.481036\n",
      "54     9.645082\n",
      "55    15.161274\n",
      "56    15.161274\n",
      "57    14.961833\n",
      "58    14.961833\n",
      "59    11.949200\n",
      "60    11.949200\n",
      "61    10.607862\n",
      "62    10.607862\n",
      "63    13.705348\n",
      "64    13.705348\n",
      "65     8.749313\n",
      "66     8.749313\n",
      "67    14.327611\n",
      "68    14.327611\n",
      "69     9.782602\n",
      "70     9.782602\n",
      "71    11.349087\n",
      "72    11.349087\n",
      "Name: gmag, Length: 73, dtype: float32, 0     0.01\n",
      "1     0.01\n",
      "2     0.01\n",
      "3     0.01\n",
      "4     0.01\n",
      "5     0.01\n",
      "6     0.01\n",
      "7     0.01\n",
      "8     0.01\n",
      "9     0.01\n",
      "10    0.01\n",
      "11    0.01\n",
      "12    0.01\n",
      "13    0.01\n",
      "14    0.01\n",
      "15    0.01\n",
      "16    0.01\n",
      "17    0.01\n",
      "18    0.01\n",
      "19    0.01\n",
      "20    0.01\n",
      "21    0.01\n",
      "22    0.01\n",
      "23    0.01\n",
      "24    0.01\n",
      "25    0.01\n",
      "26    0.01\n",
      "27    0.01\n",
      "28    0.01\n",
      "29    0.01\n",
      "      ... \n",
      "43    0.01\n",
      "44    0.01\n",
      "45    0.01\n",
      "46    0.01\n",
      "47    0.01\n",
      "48    0.01\n",
      "49    0.01\n",
      "50    0.01\n",
      "51    0.01\n",
      "52    0.01\n",
      "53    0.01\n",
      "54    0.01\n",
      "55    0.01\n",
      "56    0.01\n",
      "57    0.01\n",
      "58    0.01\n",
      "59    0.01\n",
      "60    0.01\n",
      "61    0.01\n",
      "62    0.01\n",
      "63    0.01\n",
      "64    0.01\n",
      "65    0.01\n",
      "66    0.01\n",
      "67    0.01\n",
      "68    0.01\n",
      "69    0.01\n",
      "70    0.01\n",
      "71    0.01\n",
      "72    0.01\n",
      "Name: gmag_err, Length: 73, dtype: float64) ignored.\n"
     ]
    },
    {
     "ename": "TypeError",
     "evalue": "float() argument must be a string or a number, not 'tuple'",
     "output_type": "error",
     "traceback": [
      "\u001b[0;31m---------------------------------------------------------------------------\u001b[0m",
      "\u001b[0;31mTypeError\u001b[0m                                 Traceback (most recent call last)",
      "\u001b[0;32m<ipython-input-98-629248404ebe>\u001b[0m in \u001b[0;36m<module>\u001b[0;34m()\u001b[0m\n\u001b[1;32m      5\u001b[0m               }\n\u001b[1;32m      6\u001b[0m \u001b[0;34m\u001b[0m\u001b[0m\n\u001b[0;32m----> 7\u001b[0;31m \u001b[0mmod\u001b[0m \u001b[0;34m=\u001b[0m \u001b[0mStarModel\u001b[0m\u001b[0;34m(\u001b[0m\u001b[0mmist\u001b[0m\u001b[0;34m,\u001b[0m \u001b[0;34m**\u001b[0m\u001b[0mparam_dict\u001b[0m\u001b[0;34m)\u001b[0m  \u001b[0;31m# Set up the StarModel isochrones object.\u001b[0m\u001b[0;34m\u001b[0m\u001b[0m\n\u001b[0m\u001b[1;32m      8\u001b[0m \u001b[0margs\u001b[0m \u001b[0;34m=\u001b[0m \u001b[0;34m[\u001b[0m\u001b[0mmod\u001b[0m\u001b[0;34m,\u001b[0m \u001b[0mobs\u001b[0m\u001b[0;34m.\u001b[0m\u001b[0mprot\u001b[0m\u001b[0;34m,\u001b[0m \u001b[0mobs\u001b[0m\u001b[0;34m.\u001b[0m\u001b[0mprot_err\u001b[0m\u001b[0;34m,\u001b[0m \u001b[0mobs\u001b[0m\u001b[0;34m.\u001b[0m\u001b[0mBV\u001b[0m\u001b[0;34m,\u001b[0m \u001b[0mgyro_only\u001b[0m\u001b[0;34m,\u001b[0m \u001b[0miso_only\u001b[0m\u001b[0;34m]\u001b[0m  \u001b[0;31m# the lnprob arguments\u001b[0m\u001b[0;34m\u001b[0m\u001b[0m\n",
      "\u001b[0;32m/Users/ruthangus/anaconda/lib/python3.5/site-packages/isochrones-1.1-py3.5.egg/isochrones/starmodel.py\u001b[0m in \u001b[0;36m__init__\u001b[0;34m(self, ic, obs, N, index, name, use_emcee, RA, dec, coords, **kwargs)\u001b[0m\n\u001b[1;32m    109\u001b[0m         \u001b[0;31m# If obs is not provided, build it\u001b[0m\u001b[0;34m\u001b[0m\u001b[0;34m\u001b[0m\u001b[0m\n\u001b[1;32m    110\u001b[0m         \u001b[0;32mif\u001b[0m \u001b[0mobs\u001b[0m \u001b[0;32mis\u001b[0m \u001b[0;32mNone\u001b[0m\u001b[0;34m:\u001b[0m\u001b[0;34m\u001b[0m\u001b[0m\n\u001b[0;32m--> 111\u001b[0;31m             \u001b[0mself\u001b[0m\u001b[0;34m.\u001b[0m\u001b[0m_build_obs\u001b[0m\u001b[0;34m(\u001b[0m\u001b[0;34m**\u001b[0m\u001b[0mkwargs\u001b[0m\u001b[0;34m)\u001b[0m\u001b[0;34m\u001b[0m\u001b[0m\n\u001b[0m\u001b[1;32m    112\u001b[0m             \u001b[0mself\u001b[0m\u001b[0;34m.\u001b[0m\u001b[0mobs\u001b[0m\u001b[0;34m.\u001b[0m\u001b[0mdefine_models\u001b[0m\u001b[0;34m(\u001b[0m\u001b[0mic\u001b[0m\u001b[0;34m,\u001b[0m \u001b[0mN\u001b[0m\u001b[0;34m=\u001b[0m\u001b[0mN\u001b[0m\u001b[0;34m,\u001b[0m \u001b[0mindex\u001b[0m\u001b[0;34m=\u001b[0m\u001b[0mindex\u001b[0m\u001b[0;34m)\u001b[0m\u001b[0;34m\u001b[0m\u001b[0m\n\u001b[1;32m    113\u001b[0m             \u001b[0mself\u001b[0m\u001b[0;34m.\u001b[0m\u001b[0m_add_properties\u001b[0m\u001b[0;34m(\u001b[0m\u001b[0;34m**\u001b[0m\u001b[0mkwargs\u001b[0m\u001b[0;34m)\u001b[0m\u001b[0;34m\u001b[0m\u001b[0m\n",
      "\u001b[0;32m/Users/ruthangus/anaconda/lib/python3.5/site-packages/isochrones-1.1-py3.5.egg/isochrones/starmodel.py\u001b[0m in \u001b[0;36m_build_obs\u001b[0;34m(self, **kwargs)\u001b[0m\n\u001b[1;32m    428\u001b[0m                     \u001b[0mv\u001b[0m \u001b[0;34m=\u001b[0m \u001b[0;34m[\u001b[0m\u001b[0mv\u001b[0m\u001b[0;34m,\u001b[0m \u001b[0mnp\u001b[0m\u001b[0;34m.\u001b[0m\u001b[0mnan\u001b[0m\u001b[0;34m]\u001b[0m\u001b[0;34m\u001b[0m\u001b[0m\n\u001b[1;32m    429\u001b[0m                 \u001b[0mo\u001b[0m \u001b[0;34m=\u001b[0m \u001b[0mObservation\u001b[0m\u001b[0;34m(\u001b[0m\u001b[0;34m''\u001b[0m\u001b[0;34m,\u001b[0m \u001b[0mk\u001b[0m\u001b[0;34m,\u001b[0m \u001b[0;36m99\u001b[0m\u001b[0;34m)\u001b[0m \u001b[0;31m#bogus resolution=99\u001b[0m\u001b[0;34m\u001b[0m\u001b[0m\n\u001b[0;32m--> 430\u001b[0;31m                 \u001b[0ms\u001b[0m \u001b[0;34m=\u001b[0m \u001b[0mSource\u001b[0m\u001b[0;34m(\u001b[0m\u001b[0mv\u001b[0m\u001b[0;34m[\u001b[0m\u001b[0;36m0\u001b[0m\u001b[0;34m]\u001b[0m\u001b[0;34m,\u001b[0m \u001b[0mv\u001b[0m\u001b[0;34m[\u001b[0m\u001b[0;36m1\u001b[0m\u001b[0;34m]\u001b[0m\u001b[0;34m)\u001b[0m\u001b[0;34m\u001b[0m\u001b[0m\n\u001b[0m\u001b[1;32m    431\u001b[0m                 \u001b[0mo\u001b[0m\u001b[0;34m.\u001b[0m\u001b[0madd_source\u001b[0m\u001b[0;34m(\u001b[0m\u001b[0ms\u001b[0m\u001b[0;34m)\u001b[0m\u001b[0;34m\u001b[0m\u001b[0m\n\u001b[1;32m    432\u001b[0m                 \u001b[0mlogging\u001b[0m\u001b[0;34m.\u001b[0m\u001b[0mdebug\u001b[0m\u001b[0;34m(\u001b[0m\u001b[0;34m'Adding {} ({})'\u001b[0m\u001b[0;34m.\u001b[0m\u001b[0mformat\u001b[0m\u001b[0;34m(\u001b[0m\u001b[0ms\u001b[0m\u001b[0;34m,\u001b[0m\u001b[0mo\u001b[0m\u001b[0;34m)\u001b[0m\u001b[0;34m)\u001b[0m\u001b[0;34m\u001b[0m\u001b[0m\n",
      "\u001b[0;32m/Users/ruthangus/anaconda/lib/python3.5/site-packages/isochrones-1.1-py3.5.egg/isochrones/observation.py\u001b[0m in \u001b[0;36m__init__\u001b[0;34m(self, mag, e_mag, separation, pa, relative, is_reference)\u001b[0m\n\u001b[1;32m    574\u001b[0m     def __init__(self, mag, e_mag, separation=0., pa=0.,\n\u001b[1;32m    575\u001b[0m                 relative=False, is_reference=False):\n\u001b[0;32m--> 576\u001b[0;31m         \u001b[0mself\u001b[0m\u001b[0;34m.\u001b[0m\u001b[0mmag\u001b[0m \u001b[0;34m=\u001b[0m \u001b[0mfloat\u001b[0m\u001b[0;34m(\u001b[0m\u001b[0mmag\u001b[0m\u001b[0;34m)\u001b[0m\u001b[0;34m\u001b[0m\u001b[0m\n\u001b[0m\u001b[1;32m    577\u001b[0m         \u001b[0mself\u001b[0m\u001b[0;34m.\u001b[0m\u001b[0me_mag\u001b[0m \u001b[0;34m=\u001b[0m \u001b[0mfloat\u001b[0m\u001b[0;34m(\u001b[0m\u001b[0me_mag\u001b[0m\u001b[0;34m)\u001b[0m\u001b[0;34m\u001b[0m\u001b[0m\n\u001b[1;32m    578\u001b[0m         \u001b[0mself\u001b[0m\u001b[0;34m.\u001b[0m\u001b[0mseparation\u001b[0m \u001b[0;34m=\u001b[0m \u001b[0mfloat\u001b[0m\u001b[0;34m(\u001b[0m\u001b[0mseparation\u001b[0m\u001b[0;34m)\u001b[0m\u001b[0;34m\u001b[0m\u001b[0m\n",
      "\u001b[0;31mTypeError\u001b[0m: float() argument must be a string or a number, not 'tuple'"
     ]
    }
   ],
   "source": [
    "# Set up the StarModel object needed to calculate the likelihood.\n",
    "param_dict = {\"G\": (obs.gmag, obs.gmag_err),\n",
    "              \"Kp\": (obs.kepmag, obs.kepmag_err),\n",
    "              \"parallax\": (obs.parallax, obs.parallax_err)  # Isochrones.py takes milliarcseconds\n",
    "              }\n",
    "\n",
    "mod = StarModel(mist, **param_dict)  # Set up the StarModel isochrones object.\n",
    "args = [mod, obs.prot, obs.prot_err, obs.BV, gyro_only, iso_only]  # the lnprob arguments"
   ]
  },
  {
   "cell_type": "code",
   "execution_count": null,
   "metadata": {},
   "outputs": [],
   "source": []
  }
 ],
 "metadata": {
  "anaconda-cloud": {},
  "kernelspec": {
   "display_name": "Python [conda root]",
   "language": "python",
   "name": "conda-root-py"
  },
  "language_info": {
   "codemirror_mode": {
    "name": "ipython",
    "version": 3
   },
   "file_extension": ".py",
   "mimetype": "text/x-python",
   "name": "python",
   "nbconvert_exporter": "python",
   "pygments_lexer": "ipython3",
   "version": "3.5.2"
  }
 },
 "nbformat": 4,
 "nbformat_minor": 1
}
