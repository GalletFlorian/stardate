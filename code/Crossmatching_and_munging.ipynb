{
 "cells": [
  {
   "cell_type": "markdown",
   "metadata": {},
   "source": [
    "# Crossmatch habitable zone targets with the CKS sample, Gaia DR2 and my own rotation period catalogue."
   ]
  },
  {
   "cell_type": "code",
   "execution_count": 11,
   "metadata": {},
   "outputs": [],
   "source": [
    "import numpy as np\n",
    "import matplotlib.pyplot as plt\n",
    "%matplotlib inline\n",
    "import pandas as pd\n",
    "from astropy.io import fits\n",
    "from astropy.table import Table\n",
    "import chronology as ch"
   ]
  },
  {
   "cell_type": "markdown",
   "metadata": {},
   "source": [
    "Load Stephen Kane's list of targets, the CKS catalogue, the McQuillan catalogue, my own rotation period catalogue and Gaia DR2."
   ]
  },
  {
   "cell_type": "code",
   "execution_count": 4,
   "metadata": {},
   "outputs": [
    {
     "name": "stderr",
     "output_type": "stream",
     "text": [
      "/Users/ruthangus/anaconda/lib/python3.5/site-packages/IPython/core/interactiveshell.py:2881: TableReplaceWarning: converted column 'teff_err1' from integer to float\n",
      "  exec(code_obj, self.user_global_ns, self.user_ns)\n",
      "/Users/ruthangus/anaconda/lib/python3.5/site-packages/IPython/core/interactiveshell.py:2881: TableReplaceWarning: converted column 'teff_err2' from integer to float\n",
      "  exec(code_obj, self.user_global_ns, self.user_ns)\n"
     ]
    }
   ],
   "source": [
    "# Kane catalogue:\n",
    "kane = pd.read_csv(\"../data/kane_targets.csv\")\n",
    "\n",
    "# CKS catalogue:\n",
    "cks = pd.read_csv(\"../data/cks_physical_merged.csv\")\n",
    "\n",
    "# McQuillan catalogue:\n",
    "mc = pd.read_csv(\"../data/Table_1_Periodic.txt\")\n",
    "\n",
    "# Tim and my catalogue:\n",
    "tdmra = pd.read_csv(\"../data/koi_periods_0712.csv\")\n",
    "\n",
    "# Gaia DR2\n",
    "dat = Table.read('../data/kepler_dr2_4arcsec_updated.fits', format='fits')\n",
    "dr2 = dat.to_pandas()"
   ]
  },
  {
   "cell_type": "markdown",
   "metadata": {},
   "source": [
    "What's the overlap between Stephen Kane's catalogue and the CKS sample?"
   ]
  },
  {
   "cell_type": "code",
   "execution_count": 5,
   "metadata": {},
   "outputs": [
    {
     "name": "stdout",
     "output_type": "stream",
     "text": [
      "Index(['koi_id', 'planet_designation', 'p_orb_days', 'a_AU', 'r_pl_earth',\n",
      "       'teff', 'r_star_rsol', 'insolation_flux_F_E', 'KOI'],\n",
      "      dtype='object') \n",
      "\n",
      "Index(['id_starname', 'id_kic', 'id_koicand', 'id_kepler_name',\n",
      "       'koi_disposition', 'koi_period', 'koi_period_err1', 'koi_period_err2',\n",
      "       'koi_time0', 'koi_time0_err1',\n",
      "       ...\n",
      "       'iso_sma', 'iso_sma_err1', 'iso_sma_err2', 'iso_insol',\n",
      "       'iso_insol_err1', 'iso_insol_err2', 'iso_teq', 'iso_teq_err1',\n",
      "       'iso_teq_err2', 'koi_id'],\n",
      "      dtype='object', length=121)\n",
      "(1162, 9) (2025, 121) (617, 129)\n"
     ]
    }
   ],
   "source": [
    "# Format the CKS catalogue and Kane catalogue column headers.\n",
    "koi_ids = []\n",
    "for i in cks.id_koicand:\n",
    "    koi_ids.append(\"Kepler-{}\".format(int(float(i[1:]))))\n",
    "cks[\"koi_id\"] = koi_ids\n",
    "\n",
    "KOIs = np.zeros(np.shape(kane)[0], dtype=int)\n",
    "for j, i in enumerate(kane.koi_id):\n",
    "    if i[:7] == \"Kepler-\":\n",
    "        KOIs[j] = int((float(i[7:])))\n",
    "\n",
    "kane[\"KOI\"] = KOIs\n",
    "print(kane.keys(), \"\\n\")\n",
    "print(cks.keys())\n",
    "kane_cks = pd.merge(kane, cks, on=\"koi_id\", how=\"inner\", suffixes=[\"_KIC\", \"_CKS\"])\n",
    "print(np.shape(kane), np.shape(cks), np.shape(kane_cks))"
   ]
  },
  {
   "cell_type": "markdown",
   "metadata": {},
   "source": [
    "617 stars have CKS spectra. ,How many of these stars have rotation periods measured by Amy McQuillan?"
   ]
  },
  {
   "cell_type": "code",
   "execution_count": 6,
   "metadata": {},
   "outputs": [
    {
     "data": {
      "text/plain": [
       "(0, 140)"
      ]
     },
     "execution_count": 6,
     "metadata": {},
     "output_type": "execute_result"
    }
   ],
   "source": [
    "kane_cks_mc = pd.merge(kane_cks, mc, left_on=\"id_kic\", right_on=\"kepid\", how=\"inner\", suffixes=[\"\", \"_mc\"])\n",
    "np.shape(kane_cks_mc)"
   ]
  },
  {
   "cell_type": "markdown",
   "metadata": {},
   "source": [
    "None... How about in Tim and my catalogue?"
   ]
  },
  {
   "cell_type": "code",
   "execution_count": 10,
   "metadata": {},
   "outputs": [
    {
     "name": "stdout",
     "output_type": "stream",
     "text": [
      "Index(['Unnamed: 0', 'KOI', 'feh', 'feh_errm', 'feh_errp', 'logg', 'logg_errm',\n",
      "       'logg_errp', 'period', 'period_errm', 'period_errp', 'teff',\n",
      "       'teff_errm', 'teff_errp'],\n",
      "      dtype='object')\n"
     ]
    }
   ],
   "source": [
    "print(tdmra.keys())"
   ]
  },
  {
   "cell_type": "code",
   "execution_count": 7,
   "metadata": {},
   "outputs": [
    {
     "data": {
      "text/plain": [
       "(552, 142)"
      ]
     },
     "execution_count": 7,
     "metadata": {},
     "output_type": "execute_result"
    }
   ],
   "source": [
    "kane_cks_tdmra = pd.merge(kane_cks, tdmra, on=\"KOI\", how=\"inner\", suffixes=[\"\", \"_tdmra\"])\n",
    "np.shape(kane_cks_tdmra)"
   ]
  },
  {
   "cell_type": "markdown",
   "metadata": {},
   "source": [
    "How many of these have Gaia DR2 distances?"
   ]
  },
  {
   "cell_type": "code",
   "execution_count": 8,
   "metadata": {},
   "outputs": [
    {
     "name": "stderr",
     "output_type": "stream",
     "text": [
      "/Users/ruthangus/anaconda/lib/python3.5/site-packages/ipykernel/__main__.py:9: SettingWithCopyWarning: \n",
      "A value is trying to be set on a copy of a slice from a DataFrame.\n",
      "Try using .loc[row_indexer,col_indexer] = value instead\n",
      "\n",
      "See the caveats in the documentation: http://pandas.pydata.org/pandas-docs/stable/indexing.html#indexing-view-versus-copy\n"
     ]
    },
    {
     "name": "stdout",
     "output_type": "stream",
     "text": [
      "(546, 244)\n"
     ]
    }
   ],
   "source": [
    "# Make cuts on parallax signal-to-noise\n",
    "m = 10 < dr2.parallax_over_error.values  # Signal to noise greater than 10\n",
    "gdr2 = dr2.iloc[m]\n",
    "\n",
    "gdr2.kepid.values[0]\n",
    "int_kepid = []\n",
    "for i in gdr2.kepid.values:\n",
    "    int_kepid.append(int(i))\n",
    "gdr2[\"int_kepid\"] = np.array(int_kepid, dtype=int)\n",
    "\n",
    "kane_cks_tdmra_dr2 = pd.merge(kane_cks_tdmra, gdr2, left_on=\"id_kic\", right_on=\"int_kepid\", how=\"inner\")\n",
    "print(np.shape(kane_cks_tdmra_dr2))\n",
    "\n",
    "kane_cks_tdmra_dr2.to_csv(\"kane_cks_tdmra_dr2.csv\")"
   ]
  },
  {
   "cell_type": "markdown",
   "metadata": {},
   "source": [
    "So there are 546 stars with spectroscopic properties, distances AND rotation periods. The next thing to do is to combine all this information using isochrones and a gyrochronology model."
   ]
  },
  {
   "cell_type": "code",
   "execution_count": 9,
   "metadata": {},
   "outputs": [
    {
     "name": "stdout",
     "output_type": "stream",
     "text": [
      "Unnamed: 0\n",
      "koi_id\n",
      "planet_designation\n",
      "p_orb_days\n",
      "a_AU\n",
      "r_pl_earth\n",
      "teff_x\n",
      "r_star_rsol\n",
      "insolation_flux_F_E\n",
      "KOI\n",
      "id_starname\n",
      "id_kic\n",
      "id_koicand\n",
      "id_kepler_name\n",
      "koi_disposition\n",
      "koi_period\n",
      "koi_period_err1\n",
      "koi_period_err2\n",
      "koi_time0\n",
      "koi_time0_err1\n",
      "koi_time0_err2\n",
      "koi_impact\n",
      "koi_impact_err1\n",
      "koi_impact_err2\n",
      "koi_duration\n",
      "koi_duration_err1\n",
      "koi_duration_err2\n",
      "koi_ingress\n",
      "koi_ingress_err1\n",
      "koi_ingress_err2\n",
      "koi_depth\n",
      "koi_depth_err1\n",
      "koi_depth_err2\n",
      "koi_ror\n",
      "koi_ror_err1\n",
      "koi_ror_err2\n",
      "koi_srho\n",
      "koi_srho_err1\n",
      "koi_srho_err2\n",
      "koi_prad\n",
      "koi_prad_err1\n",
      "koi_prad_err2\n",
      "koi_sma\n",
      "koi_sma_err1\n",
      "koi_sma_err2\n",
      "koi_teq\n",
      "koi_teq_err1\n",
      "koi_teq_err2\n",
      "koi_insol\n",
      "koi_insol_err1\n",
      "koi_insol_err2\n",
      "koi_dor\n",
      "koi_dor_err1\n",
      "koi_dor_err2\n",
      "koi_max_mult_ev\n",
      "koi_model_snr\n",
      "koi_count\n",
      "koi_num_transits\n",
      "koi_steff\n",
      "koi_steff_err1\n",
      "koi_steff_err2\n",
      "koi_slogg\n",
      "koi_slogg_err1\n",
      "koi_slogg_err2\n",
      "koi_smet\n",
      "koi_smet_err1\n",
      "koi_smet_err2\n",
      "koi_srad\n",
      "koi_srad_err1\n",
      "koi_srad_err2\n",
      "koi_smass\n",
      "koi_smass_err1\n",
      "koi_smass_err2\n",
      "koi_sage\n",
      "koi_sage_err1\n",
      "koi_sage_err2\n",
      "koi_sparprov\n",
      "kic_kepmag\n",
      "kic_jmag\n",
      "kic_hmag\n",
      "kic_kmag\n",
      "cks_fp\n",
      "cks_steff\n",
      "cks_steff_err1\n",
      "cks_steff_err2\n",
      "cks_slogg\n",
      "cks_slogg_err1\n",
      "cks_slogg_err2\n",
      "cks_smet\n",
      "cks_smet_err1\n",
      "cks_smet_err2\n",
      "cks_svsini\n",
      "cks_svsini_err1\n",
      "cks_svsini_err2\n",
      "iso_steff\n",
      "iso_steff_err1\n",
      "iso_steff_err2\n",
      "iso_slogg\n",
      "iso_slogg_err1\n",
      "iso_slogg_err2\n",
      "iso_smet\n",
      "iso_smet_err1\n",
      "iso_smet_err2\n",
      "iso_srad\n",
      "iso_srad_err1\n",
      "iso_srad_err2\n",
      "iso_smass\n",
      "iso_smass_err1\n",
      "iso_smass_err2\n",
      "iso_sage\n",
      "iso_sage_err1\n",
      "iso_sage_err2\n",
      "iso_slogage\n",
      "iso_slogage_err1\n",
      "iso_slogage_err2\n",
      "iso_sparallax\n",
      "iso_sparallax_err1\n",
      "iso_sparallax_err2\n",
      "iso_prad\n",
      "iso_prad_err1\n",
      "iso_prad_err2\n",
      "iso_sma\n",
      "iso_sma_err1\n",
      "iso_sma_err2\n",
      "iso_insol\n",
      "iso_insol_err1\n",
      "iso_insol_err2\n",
      "iso_teq\n",
      "iso_teq_err1\n",
      "iso_teq_err2\n",
      "Unnamed: 0.1\n",
      "feh_x\n",
      "feh_errm\n",
      "feh_errp\n",
      "logg_x\n",
      "logg_errm\n",
      "logg_errp\n",
      "period\n",
      "period_errm\n",
      "period_errp\n",
      "teff_tdmra\n",
      "teff_errm\n",
      "teff_errp\n",
      "designation\n",
      "source_id\n",
      "gaia_ref_epoch\n",
      "ra\n",
      "ra_error\n",
      "dec\n",
      "dec_error\n",
      "parallax\n",
      "parallax_error\n",
      "parallax_over_error\n",
      "pmra\n",
      "pmra_error\n",
      "pmdec\n",
      "pmdec_error\n",
      "ra_dec_corr\n",
      "ra_parallax_corr\n",
      "ra_pmra_corr\n",
      "ra_pmdec_corr\n",
      "dec_parallax_corr\n",
      "dec_pmra_corr\n",
      "dec_pmdec_corr\n",
      "parallax_pmra_corr\n",
      "parallax_pmdec_corr\n",
      "pmra_pmdec_corr\n",
      "astrometric_chi2_al\n",
      "astrometric_excess_noise\n",
      "astrometric_excess_noise_sig\n",
      "astrometric_primary_flag\n",
      "duplicated_source\n",
      "phot_g_mean_flux\n",
      "phot_g_mean_flux_error\n",
      "phot_g_mean_mag\n",
      "phot_bp_mean_flux\n",
      "phot_bp_mean_flux_error\n",
      "phot_bp_mean_mag\n",
      "phot_rp_mean_flux\n",
      "phot_rp_mean_flux_error\n",
      "phot_rp_mean_mag\n",
      "bp_rp\n",
      "bp_g\n",
      "g_rp\n",
      "radial_velocity\n",
      "radial_velocity_error\n",
      "phot_variable_flag\n",
      "l\n",
      "b\n",
      "ecl_lon\n",
      "ecl_lat\n",
      "teff_val\n",
      "teff_percentile_lower\n",
      "teff_percentile_upper\n",
      "a_g_val\n",
      "a_g_percentile_lower\n",
      "a_g_percentile_upper\n",
      "e_bp_min_rp_val\n",
      "e_bp_min_rp_percentile_lower\n",
      "e_bp_min_rp_percentile_upper\n",
      "radius_val\n",
      "radius_percentile_lower\n",
      "radius_percentile_upper\n",
      "lum_val\n",
      "lum_percentile_lower\n",
      "lum_percentile_upper\n",
      "r_est\n",
      "r_lo\n",
      "r_hi\n",
      "r_length_prior\n",
      "r_result_flag\n",
      "r_modality_flag\n",
      "kepid\n",
      "tm_designation\n",
      "ra_kepler\n",
      "dec_kepler\n",
      "kepmag\n",
      "teff_y\n",
      "teff_err1\n",
      "teff_err2\n",
      "teff_prov\n",
      "logg_y\n",
      "logg_err1\n",
      "logg_err2\n",
      "logg_prov\n",
      "feh_y\n",
      "feh_err1\n",
      "feh_err2\n",
      "feh_prov\n",
      "radius\n",
      "radius_err1\n",
      "radius_err2\n",
      "mass\n",
      "mass_err1\n",
      "mass_err2\n",
      "prov_sec\n",
      "nconfp\n",
      "nkoi\n",
      "ntce\n",
      "jmag\n",
      "hmag\n",
      "kmag\n",
      "planet?\n",
      "kepler_gaia_ang_dist\n",
      "int_kepid\n"
     ]
    }
   ],
   "source": [
    "df = pd.read_csv(\"kane_cks_tdmra_dr2.csv\")\n",
    "for k in df.keys():\n",
    "    print(k)"
   ]
  },
  {
   "cell_type": "code",
   "execution_count": 25,
   "metadata": {},
   "outputs": [
    {
     "name": "stdout",
     "output_type": "stream",
     "text": [
      "0 of 546\n",
      "kepid =  000757450\n"
     ]
    },
    {
     "name": "stderr",
     "output_type": "stream",
     "text": [
      "  0%|          | 74/100000 [00:01<22:58, 72.51it/s]/Users/ruthangus/anaconda/lib/python3.5/site-packages/isochrones-1.2.2.dev0-py3.5.egg/isochrones/starmodel.py:523: RuntimeWarning: divide by zero encountered in log\n",
      "  mass_lnprior = np.log(self.prior('mass', masses[0]))\n",
      "100%|██████████| 100000/100000 [1:00:14<00:00, 27.66it/s]\n"
     ]
    },
    {
     "name": "stdout",
     "output_type": "stream",
     "text": [
      "nsteps =  100000 burnin =  10000\n",
      "Plotting age posterior\n",
      "Plotting production chains...\n",
      "Making corner plot...\n",
      "1 of 546\n",
      "kepid =  006029239\n"
     ]
    },
    {
     "name": "stderr",
     "output_type": "stream",
     "text": [
      "  0%|          | 71/100000 [00:01<24:17, 68.57it/s]/Users/ruthangus/anaconda/lib/python3.5/site-packages/isochrones-1.2.2.dev0-py3.5.egg/isochrones/starmodel.py:523: RuntimeWarning: divide by zero encountered in log\n",
      "  mass_lnprior = np.log(self.prior('mass', masses[0]))\n",
      " 62%|██████▏   | 62000/100000 [33:14<20:22, 31.08it/s]    \n"
     ]
    },
    {
     "name": "stdout",
     "output_type": "stream",
     "text": [
      "nsteps =  62000 burnin =  10000\n",
      "Plotting age posterior\n",
      "Plotting production chains...\n",
      "Making corner plot...\n",
      "2 of 546\n",
      "kepid =  006029239\n"
     ]
    },
    {
     "name": "stderr",
     "output_type": "stream",
     "text": [
      "  0%|          | 68/100000 [00:00<23:21, 71.30it/s]/Users/ruthangus/anaconda/lib/python3.5/site-packages/isochrones-1.2.2.dev0-py3.5.egg/isochrones/starmodel.py:523: RuntimeWarning: divide by zero encountered in log\n",
      "  mass_lnprior = np.log(self.prior('mass', masses[0]))\n",
      " 62%|██████▏   | 62000/100000 [25:32<15:39, 40.44it/s]  \n"
     ]
    },
    {
     "name": "stdout",
     "output_type": "stream",
     "text": [
      "nsteps =  62000 burnin =  10000\n",
      "Plotting age posterior\n",
      "Plotting production chains...\n",
      "Making corner plot...\n",
      "3 of 546\n",
      "kepid =  008041216\n"
     ]
    },
    {
     "name": "stderr",
     "output_type": "stream",
     "text": [
      "  0%|          | 71/100000 [00:01<24:40, 67.48it/s]/Users/ruthangus/anaconda/lib/python3.5/site-packages/isochrones-1.2.2.dev0-py3.5.egg/isochrones/starmodel.py:523: RuntimeWarning: divide by zero encountered in log\n",
      "  mass_lnprior = np.log(self.prior('mass', masses[0]))\n",
      " 22%|██▏       | 22100/100000 [06:34<18:28, 70.28it/s]  \n"
     ]
    },
    {
     "name": "stdout",
     "output_type": "stream",
     "text": [
      "nsteps =  22100 burnin =  10000\n",
      "Plotting age posterior\n",
      "Plotting production chains...\n",
      "Making corner plot...\n",
      "4 of 546\n",
      "kepid =  012105051\n"
     ]
    },
    {
     "name": "stderr",
     "output_type": "stream",
     "text": [
      "  0%|          | 71/100000 [00:01<24:42, 67.41it/s]/Users/ruthangus/anaconda/lib/python3.5/site-packages/isochrones-1.2.2.dev0-py3.5.egg/isochrones/starmodel.py:523: RuntimeWarning: divide by zero encountered in log\n",
      "  mass_lnprior = np.log(self.prior('mass', masses[0]))\n",
      "100%|██████████| 100000/100000 [15:27:43<00:00, 62.90it/s]      \n"
     ]
    },
    {
     "name": "stdout",
     "output_type": "stream",
     "text": [
      "nsteps =  100000 burnin =  10000\n",
      "Plotting age posterior\n",
      "Plotting production chains...\n",
      "Making corner plot...\n",
      "5 of 546\n",
      "kepid =  012105051\n"
     ]
    },
    {
     "name": "stderr",
     "output_type": "stream",
     "text": [
      "  0%|          | 71/100000 [00:01<24:07, 69.02it/s]/Users/ruthangus/anaconda/lib/python3.5/site-packages/isochrones-1.2.2.dev0-py3.5.egg/isochrones/starmodel.py:523: RuntimeWarning: divide by zero encountered in log\n",
      "  mass_lnprior = np.log(self.prior('mass', masses[0]))\n",
      "100%|██████████| 100000/100000 [2:07:22<00:00, 13.08it/s]    \n"
     ]
    },
    {
     "name": "stdout",
     "output_type": "stream",
     "text": [
      "nsteps =  100000 burnin =  10000\n",
      "Plotting age posterior\n",
      "Plotting production chains...\n",
      "Making corner plot...\n",
      "6 of 546\n",
      "kepid =  004180280\n"
     ]
    },
    {
     "name": "stderr",
     "output_type": "stream",
     "text": [
      "  0%|          | 68/100000 [00:00<22:56, 72.60it/s]/Users/ruthangus/anaconda/lib/python3.5/site-packages/isochrones-1.2.2.dev0-py3.5.egg/isochrones/starmodel.py:523: RuntimeWarning: divide by zero encountered in log\n",
      "  mass_lnprior = np.log(self.prior('mass', masses[0]))\n",
      "100%|██████████| 100000/100000 [1:26:27<00:00, 19.28it/s] \n"
     ]
    },
    {
     "name": "stdout",
     "output_type": "stream",
     "text": [
      "nsteps =  100000 burnin =  10000\n",
      "Plotting age posterior\n",
      "Plotting production chains...\n",
      "Making corner plot...\n"
     ]
    },
    {
     "name": "stderr",
     "output_type": "stream",
     "text": [
      "WARNING:root:Too few points to create valid contours\n"
     ]
    },
    {
     "name": "stdout",
     "output_type": "stream",
     "text": [
      "7 of 546\n",
      "kepid =  004180280\n"
     ]
    },
    {
     "name": "stderr",
     "output_type": "stream",
     "text": [
      "  0%|          | 67/100000 [00:00<23:42, 70.26it/s]/Users/ruthangus/anaconda/lib/python3.5/site-packages/isochrones-1.2.2.dev0-py3.5.egg/isochrones/starmodel.py:523: RuntimeWarning: divide by zero encountered in log\n",
      "  mass_lnprior = np.log(self.prior('mass', masses[0]))\n",
      "100%|██████████| 100000/100000 [1:01:04<00:00, 27.29it/s]\n"
     ]
    },
    {
     "name": "stdout",
     "output_type": "stream",
     "text": [
      "nsteps =  100000 burnin =  10000\n",
      "Plotting age posterior\n",
      "Plotting production chains...\n",
      "Making corner plot...\n"
     ]
    },
    {
     "name": "stderr",
     "output_type": "stream",
     "text": [
      "WARNING:root:Too few points to create valid contours\n"
     ]
    },
    {
     "name": "stdout",
     "output_type": "stream",
     "text": [
      "8 of 546\n",
      "kepid =  005735762\n"
     ]
    },
    {
     "name": "stderr",
     "output_type": "stream",
     "text": [
      "  0%|          | 67/100000 [00:00<23:58, 69.48it/s]/Users/ruthangus/anaconda/lib/python3.5/site-packages/isochrones-1.2.2.dev0-py3.5.egg/isochrones/starmodel.py:523: RuntimeWarning: divide by zero encountered in log\n",
      "  mass_lnprior = np.log(self.prior('mass', masses[0]))\n",
      "100%|██████████| 100000/100000 [58:47<00:00, 28.35it/s] \n"
     ]
    },
    {
     "name": "stdout",
     "output_type": "stream",
     "text": [
      "nsteps =  100000 burnin =  10000\n",
      "Plotting age posterior\n",
      "Plotting production chains...\n",
      "Making corner plot...\n"
     ]
    },
    {
     "name": "stderr",
     "output_type": "stream",
     "text": [
      "WARNING:root:Too few points to create valid contours\n"
     ]
    },
    {
     "name": "stdout",
     "output_type": "stream",
     "text": [
      "9 of 546\n",
      "kepid =  005735762\n"
     ]
    },
    {
     "name": "stderr",
     "output_type": "stream",
     "text": [
      "  0%|          | 69/100000 [00:00<22:40, 73.48it/s]/Users/ruthangus/anaconda/lib/python3.5/site-packages/isochrones-1.2.2.dev0-py3.5.egg/isochrones/starmodel.py:523: RuntimeWarning: divide by zero encountered in log\n",
      "  mass_lnprior = np.log(self.prior('mass', masses[0]))\n",
      "100%|██████████| 100000/100000 [59:19<00:00, 28.09it/s] \n"
     ]
    },
    {
     "name": "stdout",
     "output_type": "stream",
     "text": [
      "nsteps =  100000 burnin =  10000\n",
      "Plotting age posterior\n",
      "Plotting production chains...\n",
      "Making corner plot...\n"
     ]
    },
    {
     "name": "stderr",
     "output_type": "stream",
     "text": [
      "WARNING:root:Too few points to create valid contours\n"
     ]
    },
    {
     "name": "stdout",
     "output_type": "stream",
     "text": [
      "10 of 546\n",
      "kepid =  005735762\n"
     ]
    },
    {
     "name": "stderr",
     "output_type": "stream",
     "text": [
      "  0%|          | 73/100000 [00:01<24:08, 68.97it/s]/Users/ruthangus/anaconda/lib/python3.5/site-packages/isochrones-1.2.2.dev0-py3.5.egg/isochrones/starmodel.py:523: RuntimeWarning: divide by zero encountered in log\n",
      "  mass_lnprior = np.log(self.prior('mass', masses[0]))\n",
      "100%|██████████| 100000/100000 [57:00<00:00, 29.24it/s] \n"
     ]
    },
    {
     "name": "stdout",
     "output_type": "stream",
     "text": [
      "nsteps =  100000 burnin =  10000\n",
      "Plotting age posterior\n",
      "Plotting production chains...\n",
      "Making corner plot...\n"
     ]
    },
    {
     "name": "stderr",
     "output_type": "stream",
     "text": [
      "WARNING:root:Too few points to create valid contours\n"
     ]
    },
    {
     "name": "stdout",
     "output_type": "stream",
     "text": [
      "11 of 546\n",
      "kepid =  003835670\n"
     ]
    },
    {
     "name": "stderr",
     "output_type": "stream",
     "text": [
      "  0%|          | 69/100000 [00:00<23:01, 72.34it/s]/Users/ruthangus/anaconda/lib/python3.5/site-packages/isochrones-1.2.2.dev0-py3.5.egg/isochrones/starmodel.py:523: RuntimeWarning: divide by zero encountered in log\n",
      "  mass_lnprior = np.log(self.prior('mass', masses[0]))\n",
      "100%|██████████| 100000/100000 [59:01<00:00, 28.24it/s] \n"
     ]
    },
    {
     "name": "stdout",
     "output_type": "stream",
     "text": [
      "nsteps =  100000 burnin =  10000\n",
      "Plotting age posterior\n",
      "Plotting production chains...\n",
      "Making corner plot...\n",
      "12 of 546\n",
      "kepid =  007626506\n"
     ]
    },
    {
     "name": "stderr",
     "output_type": "stream",
     "text": [
      "  0%|          | 74/100000 [00:01<23:30, 70.86it/s]/Users/ruthangus/anaconda/lib/python3.5/site-packages/isochrones-1.2.2.dev0-py3.5.egg/isochrones/starmodel.py:523: RuntimeWarning: divide by zero encountered in log\n",
      "  mass_lnprior = np.log(self.prior('mass', masses[0]))\n",
      " 75%|███████▌  | 75300/100000 [42:09<13:49, 29.76it/s]   \n"
     ]
    },
    {
     "name": "stdout",
     "output_type": "stream",
     "text": [
      "nsteps =  75300 burnin =  10000\n",
      "Plotting age posterior\n",
      "Plotting production chains...\n",
      "Making corner plot...\n",
      "13 of 546\n",
      "kepid =  007626506\n"
     ]
    },
    {
     "name": "stderr",
     "output_type": "stream",
     "text": [
      "  0%|          | 74/100000 [00:01<23:25, 71.10it/s]/Users/ruthangus/anaconda/lib/python3.5/site-packages/isochrones-1.2.2.dev0-py3.5.egg/isochrones/starmodel.py:523: RuntimeWarning: divide by zero encountered in log\n",
      "  mass_lnprior = np.log(self.prior('mass', masses[0]))\n",
      " 75%|███████▌  | 75300/100000 [38:26<12:36, 32.64it/s]   \n"
     ]
    },
    {
     "name": "stdout",
     "output_type": "stream",
     "text": [
      "nsteps =  75300 burnin =  10000\n",
      "Plotting age posterior\n",
      "Plotting production chains...\n",
      "Making corner plot...\n",
      "14 of 546\n",
      "kepid =  008247638\n"
     ]
    },
    {
     "name": "stderr",
     "output_type": "stream",
     "text": [
      "  0%|          | 74/100000 [00:01<28:45, 57.92it/s]  /Users/ruthangus/anaconda/lib/python3.5/site-packages/isochrones-1.2.2.dev0-py3.5.egg/isochrones/starmodel.py:523: RuntimeWarning: divide by zero encountered in log\n",
      "  mass_lnprior = np.log(self.prior('mass', masses[0]))\n",
      " 21%|██        | 21200/100000 [2:32:17<9:26:05,  2.32it/s]    \n"
     ]
    },
    {
     "name": "stdout",
     "output_type": "stream",
     "text": [
      "nsteps =  21200 burnin =  10000\n",
      "Plotting age posterior\n",
      "Plotting production chains...\n",
      "Making corner plot...\n",
      "15 of 546\n",
      "kepid =  008247638\n"
     ]
    },
    {
     "name": "stderr",
     "output_type": "stream",
     "text": [
      "  0%|          | 69/100000 [00:01<25:00, 66.62it/s]/Users/ruthangus/anaconda/lib/python3.5/site-packages/isochrones-1.2.2.dev0-py3.5.egg/isochrones/starmodel.py:523: RuntimeWarning: divide by zero encountered in log\n",
      "  mass_lnprior = np.log(self.prior('mass', masses[0]))\n",
      " 21%|██        | 21200/100000 [10:54:20<40:32:08,  1.85s/it]    \n"
     ]
    },
    {
     "name": "stdout",
     "output_type": "stream",
     "text": [
      "nsteps =  21200 burnin =  10000\n",
      "Plotting age posterior\n",
      "Plotting production chains...\n",
      "Making corner plot...\n",
      "16 of 546\n",
      "kepid =  008247638\n"
     ]
    },
    {
     "name": "stderr",
     "output_type": "stream",
     "text": [
      "  0%|          | 73/100000 [00:01<24:31, 67.93it/s]/Users/ruthangus/anaconda/lib/python3.5/site-packages/isochrones-1.2.2.dev0-py3.5.egg/isochrones/starmodel.py:523: RuntimeWarning: divide by zero encountered in log\n",
      "  mass_lnprior = np.log(self.prior('mass', masses[0]))\n",
      " 21%|██        | 21200/100000 [06:17<23:22, 56.20it/s]  \n"
     ]
    },
    {
     "name": "stdout",
     "output_type": "stream",
     "text": [
      "nsteps =  21200 burnin =  10000\n",
      "Plotting age posterior\n",
      "Plotting production chains...\n",
      "Making corner plot...\n",
      "17 of 546\n",
      "kepid =  008247638\n"
     ]
    },
    {
     "name": "stderr",
     "output_type": "stream",
     "text": [
      "  0%|          | 72/100000 [00:01<23:50, 69.83it/s]/Users/ruthangus/anaconda/lib/python3.5/site-packages/isochrones-1.2.2.dev0-py3.5.egg/isochrones/starmodel.py:523: RuntimeWarning: divide by zero encountered in log\n",
      "  mass_lnprior = np.log(self.prior('mass', masses[0]))\n",
      " 21%|██        | 21200/100000 [19:36<1:12:52, 18.02it/s]  \n"
     ]
    },
    {
     "name": "stdout",
     "output_type": "stream",
     "text": [
      "nsteps =  21200 burnin =  10000\n",
      "Plotting age posterior\n",
      "Plotting production chains...\n",
      "Making corner plot...\n",
      "18 of 546\n",
      "kepid =  008672910\n"
     ]
    },
    {
     "name": "stderr",
     "output_type": "stream",
     "text": [
      "  0%|          | 70/100000 [00:01<25:03, 66.45it/s]/Users/ruthangus/anaconda/lib/python3.5/site-packages/isochrones-1.2.2.dev0-py3.5.egg/isochrones/starmodel.py:523: RuntimeWarning: divide by zero encountered in log\n",
      "  mass_lnprior = np.log(self.prior('mass', masses[0]))\n",
      "100%|██████████| 100000/100000 [2:44:56<00:00, 59.84it/s]    \n"
     ]
    },
    {
     "name": "stdout",
     "output_type": "stream",
     "text": [
      "nsteps =  100000 burnin =  10000\n",
      "Plotting age posterior\n",
      "Plotting production chains...\n",
      "Making corner plot...\n",
      "19 of 546\n",
      "kepid =  008672910\n"
     ]
    },
    {
     "name": "stderr",
     "output_type": "stream",
     "text": [
      "  0%|          | 68/100000 [00:00<24:16, 68.61it/s]/Users/ruthangus/anaconda/lib/python3.5/site-packages/isochrones-1.2.2.dev0-py3.5.egg/isochrones/starmodel.py:523: RuntimeWarning: divide by zero encountered in log\n",
      "  mass_lnprior = np.log(self.prior('mass', masses[0]))\n",
      "100%|██████████| 100000/100000 [1:00:47<00:00, 27.41it/s]\n"
     ]
    },
    {
     "name": "stdout",
     "output_type": "stream",
     "text": [
      "nsteps =  100000 burnin =  10000\n",
      "Plotting age posterior\n",
      "Plotting production chains...\n",
      "Making corner plot...\n",
      "20 of 546\n",
      "kepid =  003116412\n"
     ]
    },
    {
     "name": "stderr",
     "output_type": "stream",
     "text": [
      "  0%|          | 71/100000 [00:01<24:28, 68.06it/s]/Users/ruthangus/anaconda/lib/python3.5/site-packages/isochrones-1.2.2.dev0-py3.5.egg/isochrones/starmodel.py:523: RuntimeWarning: divide by zero encountered in log\n",
      "  mass_lnprior = np.log(self.prior('mass', masses[0]))\n",
      "100%|██████████| 100000/100000 [1:19:06<00:00, 21.07it/s]  \n"
     ]
    },
    {
     "name": "stdout",
     "output_type": "stream",
     "text": [
      "nsteps =  100000 burnin =  10000\n",
      "Plotting age posterior\n",
      "Plotting production chains...\n",
      "Making corner plot...\n",
      "21 of 546\n",
      "kepid =  003114811\n"
     ]
    },
    {
     "name": "stderr",
     "output_type": "stream",
     "text": [
      "  0%|          | 68/100000 [00:01<27:13, 61.17it/s]/Users/ruthangus/anaconda/lib/python3.5/site-packages/isochrones-1.2.2.dev0-py3.5.egg/isochrones/starmodel.py:523: RuntimeWarning: divide by zero encountered in log\n",
      "  mass_lnprior = np.log(self.prior('mass', masses[0]))\n",
      " 18%|█▊        | 18500/100000 [05:23<23:44, 57.20it/s]  \n"
     ]
    },
    {
     "name": "stdout",
     "output_type": "stream",
     "text": [
      "nsteps =  18500 burnin =  10000\n",
      "Plotting age posterior\n",
      "Plotting production chains...\n",
      "Making corner plot...\n",
      "22 of 546\n",
      "kepid =  006307537\n"
     ]
    },
    {
     "name": "stderr",
     "output_type": "stream",
     "text": [
      "  0%|          | 73/100000 [00:01<23:50, 69.88it/s]/Users/ruthangus/anaconda/lib/python3.5/site-packages/isochrones-1.2.2.dev0-py3.5.egg/isochrones/starmodel.py:523: RuntimeWarning: divide by zero encountered in log\n",
      "  mass_lnprior = np.log(self.prior('mass', masses[0]))\n",
      "100%|██████████| 100000/100000 [2:18:59<00:00, 11.99it/s]   \n"
     ]
    },
    {
     "name": "stdout",
     "output_type": "stream",
     "text": [
      "nsteps =  100000 burnin =  10000\n",
      "Plotting age posterior\n",
      "Plotting production chains...\n",
      "Making corner plot...\n",
      "23 of 546\n",
      "kepid =  006359320\n"
     ]
    },
    {
     "name": "stderr",
     "output_type": "stream",
     "text": [
      "  0%|          | 71/100000 [00:01<26:11, 63.60it/s]/Users/ruthangus/anaconda/lib/python3.5/site-packages/isochrones-1.2.2.dev0-py3.5.egg/isochrones/starmodel.py:523: RuntimeWarning: divide by zero encountered in log\n",
      "  mass_lnprior = np.log(self.prior('mass', masses[0]))\n",
      " 61%|██████▏   | 61299/100000 [10:07:46<6:23:43,  1.68it/s]     \n"
     ]
    },
    {
     "ename": "RuntimeError",
     "evalue": "Can't decrement id ref count (File write failed: time = thu oct 11 01:00:55 2018\n, filename = 'planet_results/006359320_samples.h5', file descriptor = 50, errno = 28, error message = 'no space left on device', buf = 0x11ba44cd0, total write size = 3384, bytes this sub-write = 3384, bytes actually written = 18446744073709551615, offset = 510713856)",
     "output_type": "error",
     "traceback": [
      "\u001b[0;31m---------------------------------------------------------------------------\u001b[0m",
      "\u001b[0;31mRuntimeError\u001b[0m                              Traceback (most recent call last)",
      "\u001b[0;32m<ipython-input-25-12ae7f14f6f0>\u001b[0m in \u001b[0;36m<module>\u001b[0;34m()\u001b[0m\n\u001b[1;32m     20\u001b[0m \u001b[0;34m\u001b[0m\u001b[0m\n\u001b[1;32m     21\u001b[0m     \u001b[0mst\u001b[0m \u001b[0;34m=\u001b[0m \u001b[0mch\u001b[0m\u001b[0;34m.\u001b[0m\u001b[0mstar\u001b[0m\u001b[0;34m(\u001b[0m\u001b[0miso_params\u001b[0m\u001b[0;34m,\u001b[0m \u001b[0mprot\u001b[0m\u001b[0;34m[\u001b[0m\u001b[0mi\u001b[0m\u001b[0;34m]\u001b[0m\u001b[0;34m,\u001b[0m \u001b[0mprot_err\u001b[0m\u001b[0;34m[\u001b[0m\u001b[0mi\u001b[0m\u001b[0;34m]\u001b[0m\u001b[0;34m,\u001b[0m \u001b[0msavedir\u001b[0m\u001b[0;34m=\u001b[0m\u001b[0msavedir\u001b[0m\u001b[0;34m,\u001b[0m \u001b[0msuffix\u001b[0m\u001b[0;34m=\u001b[0m\u001b[0mstr\u001b[0m\u001b[0;34m(\u001b[0m\u001b[0mid\u001b[0m\u001b[0;34m)\u001b[0m\u001b[0;34m.\u001b[0m\u001b[0mzfill\u001b[0m\u001b[0;34m(\u001b[0m\u001b[0;36m9\u001b[0m\u001b[0;34m)\u001b[0m\u001b[0;34m)\u001b[0m\u001b[0;34m\u001b[0m\u001b[0m\n\u001b[0;32m---> 22\u001b[0;31m     \u001b[0msampler\u001b[0m \u001b[0;34m=\u001b[0m \u001b[0mst\u001b[0m\u001b[0;34m.\u001b[0m\u001b[0mfit\u001b[0m\u001b[0;34m(\u001b[0m\u001b[0;34m)\u001b[0m\u001b[0;34m\u001b[0m\u001b[0m\n\u001b[0m\u001b[1;32m     23\u001b[0m \u001b[0;34m\u001b[0m\u001b[0m\n\u001b[1;32m     24\u001b[0m     \u001b[0mst\u001b[0m\u001b[0;34m.\u001b[0m\u001b[0mmake_plots\u001b[0m\u001b[0;34m(\u001b[0m\u001b[0;34m)\u001b[0m\u001b[0;34m\u001b[0m\u001b[0m\n",
      "\u001b[0;32m/Users/ruthangus/projects/habitablezoning/code/chronology.py\u001b[0m in \u001b[0;36mfit\u001b[0;34m(self, inits, nwalkers, max_n, iso_only)\u001b[0m\n\u001b[1;32m     91\u001b[0m         \u001b[0;31m# Run the MCMC\u001b[0m\u001b[0;34m\u001b[0m\u001b[0;34m\u001b[0m\u001b[0m\n\u001b[1;32m     92\u001b[0m         sampler = run_mcmc(self.iso_params, args, p_init, backend, ndim=ndim,\n\u001b[0;32m---> 93\u001b[0;31m                            nwalkers=nwalkers, max_n=max_n)\n\u001b[0m\u001b[1;32m     94\u001b[0m \u001b[0;34m\u001b[0m\u001b[0m\n\u001b[1;32m     95\u001b[0m         \u001b[0mself\u001b[0m\u001b[0;34m.\u001b[0m\u001b[0msampler\u001b[0m \u001b[0;34m=\u001b[0m \u001b[0msampler\u001b[0m\u001b[0;34m\u001b[0m\u001b[0m\n",
      "\u001b[0;32m/Users/ruthangus/projects/habitablezoning/code/lhf.py\u001b[0m in \u001b[0;36mrun_mcmc\u001b[0;34m(obs, args, p_init, backend, ndim, nwalkers, max_n)\u001b[0m\n\u001b[1;32m    175\u001b[0m \u001b[0;34m\u001b[0m\u001b[0m\n\u001b[1;32m    176\u001b[0m     \u001b[0;31m# Now we'll sample for up to max_n steps\u001b[0m\u001b[0;34m\u001b[0m\u001b[0;34m\u001b[0m\u001b[0m\n\u001b[0;32m--> 177\u001b[0;31m     \u001b[0;32mfor\u001b[0m \u001b[0msample\u001b[0m \u001b[0;32min\u001b[0m \u001b[0msampler\u001b[0m\u001b[0;34m.\u001b[0m\u001b[0msample\u001b[0m\u001b[0;34m(\u001b[0m\u001b[0mp0\u001b[0m\u001b[0;34m,\u001b[0m \u001b[0miterations\u001b[0m\u001b[0;34m=\u001b[0m\u001b[0mmax_n\u001b[0m\u001b[0;34m,\u001b[0m \u001b[0mprogress\u001b[0m\u001b[0;34m=\u001b[0m\u001b[0;32mTrue\u001b[0m\u001b[0;34m)\u001b[0m\u001b[0;34m:\u001b[0m\u001b[0;34m\u001b[0m\u001b[0m\n\u001b[0m\u001b[1;32m    178\u001b[0m         \u001b[0;31m# Only check convergence every 100 steps\u001b[0m\u001b[0;34m\u001b[0m\u001b[0;34m\u001b[0m\u001b[0m\n\u001b[1;32m    179\u001b[0m         \u001b[0;32mif\u001b[0m \u001b[0msampler\u001b[0m\u001b[0;34m.\u001b[0m\u001b[0miteration\u001b[0m \u001b[0;34m%\u001b[0m \u001b[0;36m100\u001b[0m\u001b[0;34m:\u001b[0m\u001b[0;34m\u001b[0m\u001b[0m\n",
      "\u001b[0;32m/Users/ruthangus/anaconda/lib/python3.5/site-packages/emcee/ensemble.py\u001b[0m in \u001b[0;36msample\u001b[0;34m(self, initial_state, log_prob0, rstate0, blobs0, iterations, tune, thin_by, thin, store, progress)\u001b[0m\n\u001b[1;32m    307\u001b[0m                     \u001b[0;31m# Save the new step\u001b[0m\u001b[0;34m\u001b[0m\u001b[0;34m\u001b[0m\u001b[0m\n\u001b[1;32m    308\u001b[0m                     \u001b[0;32mif\u001b[0m \u001b[0mstore\u001b[0m \u001b[0;32mand\u001b[0m \u001b[0;34m(\u001b[0m\u001b[0mi\u001b[0m \u001b[0;34m+\u001b[0m \u001b[0;36m1\u001b[0m\u001b[0;34m)\u001b[0m \u001b[0;34m%\u001b[0m \u001b[0mcheckpoint_step\u001b[0m \u001b[0;34m==\u001b[0m \u001b[0;36m0\u001b[0m\u001b[0;34m:\u001b[0m\u001b[0;34m\u001b[0m\u001b[0m\n\u001b[0;32m--> 309\u001b[0;31m                         \u001b[0mself\u001b[0m\u001b[0;34m.\u001b[0m\u001b[0mbackend\u001b[0m\u001b[0;34m.\u001b[0m\u001b[0msave_step\u001b[0m\u001b[0;34m(\u001b[0m\u001b[0mstate\u001b[0m\u001b[0;34m,\u001b[0m \u001b[0maccepted\u001b[0m\u001b[0;34m)\u001b[0m\u001b[0;34m\u001b[0m\u001b[0m\n\u001b[0m\u001b[1;32m    310\u001b[0m \u001b[0;34m\u001b[0m\u001b[0m\n\u001b[1;32m    311\u001b[0m                     \u001b[0mpbar\u001b[0m\u001b[0;34m.\u001b[0m\u001b[0mupdate\u001b[0m\u001b[0;34m(\u001b[0m\u001b[0;36m1\u001b[0m\u001b[0;34m)\u001b[0m\u001b[0;34m\u001b[0m\u001b[0m\n",
      "\u001b[0;32m/Users/ruthangus/anaconda/lib/python3.5/site-packages/emcee/backends/hdf.py\u001b[0m in \u001b[0;36msave_step\u001b[0;34m(self, state, accepted)\u001b[0m\n\u001b[1;32m    191\u001b[0m                 \u001b[0mg\u001b[0m\u001b[0;34m.\u001b[0m\u001b[0mattrs\u001b[0m\u001b[0;34m[\u001b[0m\u001b[0;34m\"random_state_{0}\"\u001b[0m\u001b[0;34m.\u001b[0m\u001b[0mformat\u001b[0m\u001b[0;34m(\u001b[0m\u001b[0mi\u001b[0m\u001b[0;34m)\u001b[0m\u001b[0;34m]\u001b[0m \u001b[0;34m=\u001b[0m \u001b[0mv\u001b[0m\u001b[0;34m\u001b[0m\u001b[0m\n\u001b[1;32m    192\u001b[0m \u001b[0;34m\u001b[0m\u001b[0m\n\u001b[0;32m--> 193\u001b[0;31m             \u001b[0mg\u001b[0m\u001b[0;34m.\u001b[0m\u001b[0mattrs\u001b[0m\u001b[0;34m[\u001b[0m\u001b[0;34m\"iteration\"\u001b[0m\u001b[0;34m]\u001b[0m \u001b[0;34m=\u001b[0m \u001b[0miteration\u001b[0m \u001b[0;34m+\u001b[0m \u001b[0;36m1\u001b[0m\u001b[0;34m\u001b[0m\u001b[0m\n\u001b[0m\u001b[1;32m    194\u001b[0m \u001b[0;34m\u001b[0m\u001b[0m\n\u001b[1;32m    195\u001b[0m \u001b[0;34m\u001b[0m\u001b[0m\n",
      "\u001b[0;32mh5py/_objects.pyx\u001b[0m in \u001b[0;36mh5py._objects.with_phil.wrapper (/Users/ilan/minonda/conda-bld/work/h5py/_objects.c:2696)\u001b[0;34m()\u001b[0m\n",
      "\u001b[0;32mh5py/_objects.pyx\u001b[0m in \u001b[0;36mh5py._objects.with_phil.wrapper (/Users/ilan/minonda/conda-bld/work/h5py/_objects.c:2654)\u001b[0;34m()\u001b[0m\n",
      "\u001b[0;32m/Users/ruthangus/anaconda/lib/python3.5/site-packages/h5py/_hl/files.py\u001b[0m in \u001b[0;36m__exit__\u001b[0;34m(self, *args)\u001b[0m\n\u001b[1;32m    316\u001b[0m     \u001b[0;32mdef\u001b[0m \u001b[0m__exit__\u001b[0m\u001b[0;34m(\u001b[0m\u001b[0mself\u001b[0m\u001b[0;34m,\u001b[0m \u001b[0;34m*\u001b[0m\u001b[0margs\u001b[0m\u001b[0;34m)\u001b[0m\u001b[0;34m:\u001b[0m\u001b[0;34m\u001b[0m\u001b[0m\n\u001b[1;32m    317\u001b[0m         \u001b[0;32mif\u001b[0m \u001b[0mself\u001b[0m\u001b[0;34m.\u001b[0m\u001b[0mid\u001b[0m\u001b[0;34m:\u001b[0m\u001b[0;34m\u001b[0m\u001b[0m\n\u001b[0;32m--> 318\u001b[0;31m             \u001b[0mself\u001b[0m\u001b[0;34m.\u001b[0m\u001b[0mclose\u001b[0m\u001b[0;34m(\u001b[0m\u001b[0;34m)\u001b[0m\u001b[0;34m\u001b[0m\u001b[0m\n\u001b[0m\u001b[1;32m    319\u001b[0m \u001b[0;34m\u001b[0m\u001b[0m\n\u001b[1;32m    320\u001b[0m     \u001b[0;34m@\u001b[0m\u001b[0mwith_phil\u001b[0m\u001b[0;34m\u001b[0m\u001b[0m\n",
      "\u001b[0;32m/Users/ruthangus/anaconda/lib/python3.5/site-packages/h5py/_hl/files.py\u001b[0m in \u001b[0;36mclose\u001b[0;34m(self)\u001b[0m\n\u001b[1;32m    298\u001b[0m             \u001b[0;32mfor\u001b[0m \u001b[0mid_\u001b[0m \u001b[0;32min\u001b[0m \u001b[0mfile_list\u001b[0m\u001b[0;34m:\u001b[0m\u001b[0;34m\u001b[0m\u001b[0m\n\u001b[1;32m    299\u001b[0m                 \u001b[0;32mwhile\u001b[0m \u001b[0mid_\u001b[0m\u001b[0;34m.\u001b[0m\u001b[0mvalid\u001b[0m\u001b[0;34m:\u001b[0m\u001b[0;34m\u001b[0m\u001b[0m\n\u001b[0;32m--> 300\u001b[0;31m                     \u001b[0mh5i\u001b[0m\u001b[0;34m.\u001b[0m\u001b[0mdec_ref\u001b[0m\u001b[0;34m(\u001b[0m\u001b[0mid_\u001b[0m\u001b[0;34m)\u001b[0m\u001b[0;34m\u001b[0m\u001b[0m\n\u001b[0m\u001b[1;32m    301\u001b[0m \u001b[0;34m\u001b[0m\u001b[0m\n\u001b[1;32m    302\u001b[0m             \u001b[0mself\u001b[0m\u001b[0;34m.\u001b[0m\u001b[0mid\u001b[0m\u001b[0;34m.\u001b[0m\u001b[0mclose\u001b[0m\u001b[0;34m(\u001b[0m\u001b[0;34m)\u001b[0m\u001b[0;34m\u001b[0m\u001b[0m\n",
      "\u001b[0;32mh5py/_objects.pyx\u001b[0m in \u001b[0;36mh5py._objects.with_phil.wrapper (/Users/ilan/minonda/conda-bld/work/h5py/_objects.c:2696)\u001b[0;34m()\u001b[0m\n",
      "\u001b[0;32mh5py/_objects.pyx\u001b[0m in \u001b[0;36mh5py._objects.with_phil.wrapper (/Users/ilan/minonda/conda-bld/work/h5py/_objects.c:2654)\u001b[0;34m()\u001b[0m\n",
      "\u001b[0;32mh5py/h5i.pyx\u001b[0m in \u001b[0;36mh5py.h5i.dec_ref (/Users/ilan/minonda/conda-bld/work/h5py/h5i.c:2202)\u001b[0;34m()\u001b[0m\n",
      "\u001b[0;31mRuntimeError\u001b[0m: Can't decrement id ref count (File write failed: time = thu oct 11 01:00:55 2018\n, filename = 'planet_results/006359320_samples.h5', file descriptor = 50, errno = 28, error message = 'no space left on device', buf = 0x11ba44cd0, total write size = 3384, bytes this sub-write = 3384, bytes actually written = 18446744073709551615, offset = 510713856)"
     ]
    }
   ],
   "source": [
    "savedir = \"planet_results\"\n",
    "\n",
    "prot, prot_err = df.period, df.period_errm\n",
    "\n",
    "N = len(df)\n",
    "for i, id in enumerate(df.id_kic.values):\n",
    "    print(i, \"of\", N)\n",
    "    print(\"kepid = \", str(id).zfill(9))\n",
    "    \n",
    "    iso_params = {\"G\": (df.phot_g_mean_mag[i], df.phot_g_mean_mag[i]*.05),  # 5% uncertainties on photometry.\n",
    "                  \"bp\": (df.phot_bp_mean_mag[i], df.phot_bp_mean_mag[i]*.05),\n",
    "                  \"rp\": (df.phot_rp_mean_mag[i], df.phot_rp_mean_mag[i]*.05),\n",
    "                  \"J\": (df.kic_jmag[i], df.kic_jmag[i]*.05),\n",
    "                  \"H\": (df.kic_hmag[i], df.kic_hmag[i]*.05),\n",
    "                  \"K\": (df.kic_kmag[i], df.kic_kmag[i]*.05),\n",
    "                  \"teff\": (df.iso_steff[i], df.iso_steff_err2[i]),\n",
    "                  \"logg\": (df.iso_slogg[i], df.iso_slogg_err2[i]),\n",
    "                  \"feh\": (df.iso_smet[i], df.iso_smet_err2[i]),\n",
    "                  \"parallax\": (df.parallax[i], df.parallax_error[i])} \n",
    "    \n",
    "    st = ch.star(iso_params, prot[i], prot_err[i], savedir=savedir, suffix=str(id).zfill(9))\n",
    "    sampler = st.fit()\n",
    "\n",
    "    st.make_plots()"
   ]
  },
  {
   "cell_type": "code",
   "execution_count": null,
   "metadata": {},
   "outputs": [],
   "source": []
  }
 ],
 "metadata": {
  "anaconda-cloud": {},
  "kernelspec": {
   "display_name": "Python [conda root]",
   "language": "python",
   "name": "conda-root-py"
  },
  "language_info": {
   "codemirror_mode": {
    "name": "ipython",
    "version": 3
   },
   "file_extension": ".py",
   "mimetype": "text/x-python",
   "name": "python",
   "nbconvert_exporter": "python",
   "pygments_lexer": "ipython3",
   "version": "3.5.2"
  }
 },
 "nbformat": 4,
 "nbformat_minor": 1
}
