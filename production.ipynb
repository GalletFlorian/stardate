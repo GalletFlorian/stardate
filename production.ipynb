{
 "cells": [
  {
   "cell_type": "markdown",
   "metadata": {},
   "source": [
    "# Running age model on many stars and comparing with Jason's ages."
   ]
  },
  {
   "cell_type": "code",
   "execution_count": 26,
   "metadata": {},
   "outputs": [],
   "source": [
    "import numpy as np\n",
    "import matplotlib.pyplot as plt\n",
    "%matplotlib inline\n",
    "import pandas as pd\n",
    "from astropy.io import fits\n",
    "from astropy.table import Table\n",
    "from isochrones.mist import MIST_Isochrone\n",
    "from isochrones import StarModel\n",
    "mist = MIST_Isochrone()\n",
    "import emcee\n",
    "import priors\n",
    "import corner\n",
    "import h5py"
   ]
  },
  {
   "cell_type": "markdown",
   "metadata": {},
   "source": [
    "Load the data"
   ]
  },
  {
   "cell_type": "code",
   "execution_count": 2,
   "metadata": {},
   "outputs": [],
   "source": [
    "df = pd.read_csv(\"kane_cks_tdmra_dr2.csv\")"
   ]
  },
  {
   "cell_type": "markdown",
   "metadata": {},
   "source": [
    "Estimate B-V colours for stars based on their G_BP - G_RP colours. This is a crude estimated used only if a gyro-only lhf is used."
   ]
  },
  {
   "cell_type": "code",
   "execution_count": 3,
   "metadata": {},
   "outputs": [],
   "source": [
    "def bv_2_bprp(bv):\n",
    "    \"\"\"\n",
    "    Numbers from https://arxiv.org/pdf/1008.0815.pdf\n",
    "    \"\"\"\n",
    "    a, b, c, d = .0981, 1.4290, -.0269, .0061  # sigma = .43\n",
    "    return a + b*bv + c*bv**2 + d*bv**3\n",
    "\n",
    "def bprp_2_bv(bprp):\n",
    "    \"\"\"\n",
    "    Try to find the analytic version of this, please!\n",
    "    \"\"\"\n",
    "    bv_iter = np.linspace(0., 2., 10000)\n",
    "    bprp_pred = [bv_2_bprp(bv) for bv in bv_iter]\n",
    "    diffs = bprp - np.array(bprp_pred)\n",
    "    # plt.plot(bprp_pred, diffs**2)\n",
    "    return bv_iter[np.argmin(diffs**2)]"
   ]
  },
  {
   "cell_type": "markdown",
   "metadata": {},
   "source": [
    "Define the gyrochronology model. I'm using the Barnes (2003) functional form with my (2015) parameters."
   ]
  },
  {
   "cell_type": "code",
   "execution_count": 4,
   "metadata": {},
   "outputs": [],
   "source": [
    "def gyro_model(ln_age, bv):\n",
    "    \"\"\"\n",
    "    Given a B-V colour and an age, predict a rotation period.\n",
    "    Returns log(age) in Myr.\n",
    "    parameters:\n",
    "    ----------\n",
    "    logage: (array)\n",
    "        The log age of a star: log10(age) in years.\n",
    "    bv: (array)\n",
    "        The B-V colour of a star.\n",
    "    \"\"\"\n",
    "    age_myr = (10**ln_age)*1e-6\n",
    "    \n",
    "    a, b, c, n = [.4, .31, .45, .55]\n",
    "    \n",
    "    # return a*(age_myr)**n * (bv - c)**b\n",
    "    log_P = n*np.log10(age_myr) + np.log10(a) + b*np.log10(bv-c)\n",
    "    return 10**log_P"
   ]
  },
  {
   "cell_type": "markdown",
   "metadata": {},
   "source": [
    "Define the log prior and the log posterior functions."
   ]
  },
  {
   "cell_type": "code",
   "execution_count": 5,
   "metadata": {},
   "outputs": [],
   "source": [
    "def lnprior(params):\n",
    "    \"\"\"\n",
    "    lnprior on all parameters.\n",
    "    params need to be linear except age which is log10(age [yr]).\n",
    "    \"\"\"\n",
    "    \n",
    "    # log Priors over age, metallicity and distance. (The priors in priors.py are not in log)\n",
    "    age_prior = np.log(priors.age_prior(params[1]))\n",
    "    feh_prior = np.log(priors.feh_prior(params[2]))\n",
    "    distance_prior = np.log(priors.distance_prior(np.exp(params[3])))\n",
    "\n",
    "    # Uniform prior on extinction.\n",
    "    mAv = (0 <= params[4]) * (params[4] < 1)  # Prior on A_v\n",
    "    mAv = mAv == 1\n",
    "    \n",
    "    # Uniform prior on mass\n",
    "    m = (-20 < params[0]) * (params[0]) < 20  # Broad bounds on mass.\n",
    "            \n",
    "    if mAv and m and np.isfinite(age_prior) and np.isfinite(distance_prior):\n",
    "        return age_prior + feh_prior + distance_prior\n",
    "    \n",
    "    else:\n",
    "        return -np.inf\n",
    "\n",
    "    \n",
    "def lnprob(lnparams, *args):\n",
    "    # Transform mass and distance back to linear.\n",
    "    params = lnparams*1\n",
    "    params[0] = np.exp(lnparams[0])\n",
    "    params[3] = np.exp(lnparams[3])\n",
    "    \n",
    "    mod, period, period_err, bv_est, gyro_only, iso_only = args\n",
    "    \n",
    "    B = mist.mag[\"B\"](*params)\n",
    "    V = mist.mag[\"V\"](*params)\n",
    "    bv = B-V\n",
    "    \n",
    "    # If the prior is -inf, don't even try to calculate the isochronal likelihood.\n",
    "    lnpr = lnprior(params)\n",
    "    if lnpr == -np.inf:\n",
    "        return lnpr\n",
    "    \n",
    "    else:\n",
    "    \n",
    "        if iso_only:\n",
    "            return mod.lnlike(params) + lnpr\n",
    "        \n",
    "        else:\n",
    "            if bv > .45:\n",
    "                gyro_lnlike = -.5*((period - gyro_model(params[1], bv)) /period_err)**2\n",
    "            else:\n",
    "                gyro_lnlike = 0\n",
    "    \n",
    "        # B-V is estimated from mass, etc, so you need to use a different B-V estimate if gyro_only.\n",
    "        if gyro_only:\n",
    "            return -.5*((period - gyro_model(params[1], bv_est)) /period_err)**2 + lnpr\n",
    "    \n",
    "        else:\n",
    "            return mod.lnlike(params) + gyro_lnlike + lnpr"
   ]
  },
  {
   "cell_type": "markdown",
   "metadata": {},
   "source": [
    "Define the function that infers the age of a single star via MCMC."
   ]
  },
  {
   "cell_type": "code",
   "execution_count": 6,
   "metadata": {},
   "outputs": [],
   "source": [
    "def inits(df, star_ind):\n",
    "    # Set the initial values\n",
    "    mass_init = df.mass.values[star_ind]\n",
    "    age_init = 2e9\n",
    "    feh_init = df.feh.values[star_ind]\n",
    "    distance_init = 1./df.parallax.values[star_ind]\n",
    "    Av_init = .1\n",
    "\n",
    "    # sample in ln(mass), log10(age) and ln(distance).\n",
    "    p_init = np.array([np.log(mass_init), np.log10(age_init), feh_init, np.log(distance_init), Av_init])\n",
    "\n",
    "    # Set up the StarModel object needed to calculate the likelihood. \n",
    "    param_dict = {\"J\": (df.J.values[star_ind], df.J_err.values[star_ind]),\n",
    "                  \"H\": (df.H.values[star_ind], df.H_err.values[star_ind]),\n",
    "                  \"K\": (df.K.values[star_ind], df.K_err.values[star_ind]),\n",
    "                  \"Kepler\": (df.kepmag.values[star_ind], df.kepmag_err.values[star_ind])\n",
    "                  \"teff\": (df.teff.values[star_ind], df.teff_err1.values[star_ind]),\n",
    "                  \"logg\": (df.logg.values[star_ind], df.logg_err1.values[star_ind]),\n",
    "                  \"feh\": (df.feh.values[star_ind], df.feh_err1.values[star_ind]),\n",
    "                  \"parallax\": (df.parallax.values[star_ind],\n",
    "                  (df.parallax_error.values[star_ind]))}  # Isochrones.py takes milliarcseconds\n",
    "    mod = StarModel(mist, **param_dict)\n",
    "    return param_dict, p_init, mod\n",
    "\n",
    "\n",
    "def run_mcmc(df, param_dict, p_init, mod, star_ind, nwalkers=24):\n",
    "\n",
    "    ndim = 5\n",
    "    args = [mod, df.period.values[star_ind], \n",
    "            .5*(df.period_errm.values[star_ind] + df.period_errp.values[star_ind]),\n",
    "            df.BV_color.values[star_ind], False, False]\n",
    "\n",
    "    p0 = [p_init + np.random.randn(ndim)*1e-4 for i in range(nwalkers)]\n",
    "\n",
    "    sampler = emcee.EnsembleSampler(nwalkers, ndim, lnprob, args=args)\n",
    "    p0, _, _ = sampler.run_mcmc(p0, 5000);\n",
    "    sampler.reset()\n",
    "    sampler.run_mcmc(p0, 10000);\n",
    "    \n",
    "    samples = sampler.flatchain\n",
    "    samples[:, 0] = np.exp(sampler.flatchain[:, 0])\n",
    "    samples[:, 3] = np.exp(sampler.flatchain[:, 3])\n",
    "    return samples"
   ]
  },
  {
   "cell_type": "markdown",
   "metadata": {},
   "source": [
    "Run mcmc on multiple stars and save the samples."
   ]
  },
  {
   "cell_type": "code",
   "execution_count": 27,
   "metadata": {},
   "outputs": [
    {
     "name": "stderr",
     "output_type": "stream",
     "text": [
      "WARNING: path= was not specified but multiple tables are present, reading in first available table (path=data) [astropy.io.misc.hdf5]\n",
      "WARNING:astropy:path= was not specified but multiple tables are present, reading in first available table (path=data)\n"
     ]
    },
    {
     "name": "stdout",
     "output_type": "stream",
     "text": [
      "(546,) (546,)\n"
     ]
    },
    {
     "ename": "NameError",
     "evalue": "name 'inits' is not defined",
     "output_type": "error",
     "traceback": [
      "\u001b[0;31m---------------------------------------------------------------------------\u001b[0m",
      "\u001b[0;31mNameError\u001b[0m                                 Traceback (most recent call last)",
      "\u001b[0;32m<ipython-input-27-7846eb6f7aeb>\u001b[0m in \u001b[0;36m<module>\u001b[0;34m()\u001b[0m\n\u001b[1;32m     51\u001b[0m         \u001b[0mf\u001b[0m\u001b[0;34m.\u001b[0m\u001b[0mclose\u001b[0m\u001b[0;34m(\u001b[0m\u001b[0;34m)\u001b[0m\u001b[0;34m\u001b[0m\u001b[0m\n\u001b[1;32m     52\u001b[0m \u001b[0;34m\u001b[0m\u001b[0m\n\u001b[0;32m---> 53\u001b[0;31m \u001b[0mensemble\u001b[0m\u001b[0;34m(\u001b[0m\u001b[0mnstars\u001b[0m\u001b[0;34m)\u001b[0m\u001b[0;34m\u001b[0m\u001b[0m\n\u001b[0m",
      "\u001b[0;32m<ipython-input-27-7846eb6f7aeb>\u001b[0m in \u001b[0;36mensemble\u001b[0;34m(nstars)\u001b[0m\n\u001b[1;32m     41\u001b[0m     \u001b[0;32mfor\u001b[0m \u001b[0mstar\u001b[0m \u001b[0;32min\u001b[0m \u001b[0mrange\u001b[0m\u001b[0;34m(\u001b[0m\u001b[0mnstars\u001b[0m\u001b[0;34m)\u001b[0m\u001b[0;34m:\u001b[0m\u001b[0;34m\u001b[0m\u001b[0m\n\u001b[1;32m     42\u001b[0m \u001b[0;34m\u001b[0m\u001b[0m\n\u001b[0;32m---> 43\u001b[0;31m         \u001b[0mparam_dict\u001b[0m\u001b[0;34m,\u001b[0m \u001b[0mp_init\u001b[0m\u001b[0;34m,\u001b[0m \u001b[0mmod\u001b[0m \u001b[0;34m=\u001b[0m \u001b[0minits\u001b[0m\u001b[0;34m(\u001b[0m\u001b[0msdf\u001b[0m\u001b[0;34m,\u001b[0m \u001b[0mstar\u001b[0m\u001b[0;34m)\u001b[0m\u001b[0;34m\u001b[0m\u001b[0m\n\u001b[0m\u001b[1;32m     44\u001b[0m \u001b[0;34m\u001b[0m\u001b[0m\n\u001b[1;32m     45\u001b[0m         \u001b[0msamples\u001b[0m \u001b[0;34m=\u001b[0m \u001b[0mrun_mcmc\u001b[0m\u001b[0;34m(\u001b[0m\u001b[0mdf\u001b[0m\u001b[0;34m,\u001b[0m \u001b[0mparam_dict\u001b[0m\u001b[0;34m,\u001b[0m \u001b[0mp_init\u001b[0m\u001b[0;34m,\u001b[0m \u001b[0mmod\u001b[0m\u001b[0;34m,\u001b[0m \u001b[0mstar\u001b[0m\u001b[0;34m)\u001b[0m\u001b[0;34m\u001b[0m\u001b[0m\n",
      "\u001b[0;31mNameError\u001b[0m: name 'inits' is not defined"
     ]
    }
   ],
   "source": [
    "RESULTS_DIR = \"samples\"\n",
    "\n",
    "# Create estimated colour column.\n",
    "bv_color = []\n",
    "for i in range(np.shape(df)[0]):\n",
    "    bv_color.append(bprp_2_bv(df.phot_bp_mean_mag.values[i] - df.phot_rp_mean_mag.values[i]))\n",
    "\n",
    "# Create df\n",
    "cks_df = pd.DataFrame(dict({\"source_id\": df.source_id,\n",
    "                            \"J\": df.jmag.values, \n",
    "                            \"J_err\": df.jmag.values*.05,\n",
    "                            \"H\": df.hmag.values,\n",
    "                            \"H_err\": df.hmag.values*.05,\n",
    "                            \"K\": df.kmag.values,\n",
    "                            \"K_err\": df.kmag.values*.05,\n",
    "                            \"kepmag\": df.kepmag.values,\n",
    "                            \"kepmag_err\": df.kepmag.values*.05,\n",
    "                            \"mass\": df.iso_smass.values, \n",
    "                            \"feh\": df.cks_smet.values,\n",
    "                            \"feh_err1\": df.cks_smet_err1.values,\n",
    "                            \"parallax\": df.parallax.values,\n",
    "                            \"parallax_err\": df.parallax_error.values,\n",
    "                            \"teff\": df.cks_steff.values,\n",
    "                            \"teff_err1\": df.cks_steff_err1.values,\n",
    "                            \"logg\": df.cks_slogg.values,\n",
    "                            \"logg_err1\": df.cks_slogg_err1.values,\n",
    "                            \"BV_color\": np.array(bv_color)}))\n",
    "\n",
    "# Load the Sanders catalogue and merge with the CKS one.\n",
    "file = \"gaia_spectro.hdf5\"\n",
    "data = Table.read(file)\n",
    "sanders = data.to_pandas()\n",
    "sdf = pd.merge(cks_df, sanders, on=\"source_id\")\n",
    "\n",
    "nstars = 1\n",
    "ages, age_errp, age_errm = [np.zeros(nstars) for i in range(3)]\n",
    "\n",
    "def ensemble(nstars):\n",
    "    \n",
    "    for star in range(nstars):\n",
    "        \n",
    "        param_dict, p_init, mod = inits(sdf, star)\n",
    "\n",
    "        samples = run_mcmc(df, param_dict, p_init, mod, star)\n",
    "        ages[star] = np.median(samples[:, 1])\n",
    "        \n",
    "        f = h5py.File(\"samples/{0}.h5\".format(star), \"w\")\n",
    "        data = f.create_dataset(\"samples\", np.shape(samples))\n",
    "        data[:, :] = samples\n",
    "        f.close()\n",
    "        \n",
    "ensemble(nstars)"
   ]
  },
  {
   "cell_type": "markdown",
   "metadata": {},
   "source": [
    "Now load Sanders sample and compare with their ages."
   ]
  },
  {
   "cell_type": "code",
   "execution_count": 10,
   "metadata": {},
   "outputs": [],
   "source": [
    "#corner.corner(samples, labels=[\"mass [M_sun]\", \"log10(age [yr])\", \"[Fe/H]\", \"distance [pc]\", \"A_v\"])"
   ]
  },
  {
   "cell_type": "code",
   "execution_count": 19,
   "metadata": {},
   "outputs": [
    {
     "name": "stderr",
     "output_type": "stream",
     "text": [
      "WARNING: path= was not specified but multiple tables are present, reading in first available table (path=data) [astropy.io.misc.hdf5]\n",
      "WARNING:astropy:path= was not specified but multiple tables are present, reading in first available table (path=data)\n"
     ]
    },
    {
     "name": "stdout",
     "output_type": "stream",
     "text": [
      "['Distances, ages, masses and extinctions for spectroscopic surveys combined with Gaia DR2', 'Isochrone set(s) used = PARSEC version 1.2S eta=0.2 http://stev.oapd.inaf.it/cgi-bin/cmd', 'Adopted prior: 2018 prior described in Sanders et al. (2018)', 'specobjid is the unique identifier for the SEGUE survey', 'CNAME is the unique identifier for the GES survey', 'sobject_id is the unique identifier for the GALAH survey', 'APOGEE_ID is the unique identifier for the APOGEE survey', 'raveid is the unique identifier for the RAVE Cannon survey', 'raveid is the unique identifier for the RAVE DR5 survey', 'obsid is the unique identifier for the LAMOST survey', 'source_id is the Gaia DR2 cross-matched source', 'dm and dm_err give the distance modulus with associated error', 'dist and dist_err give the distance (kpc) with associated error', 'par and par_err give the parallax (mas) output from the code (not directly from Gaia) with associated error', 'mass and mass_err give the mass (Msun) with associated error', 'Z and Z_err give the metallicity estimates', 'log10_av and log10_av_err give log10 V-band extinction This is the one column without units as ', ' astropy cannot handle log10(mag)', 'log10_teff and log10_teff_err give the log10 effective temp (K)', 'logg and logg_err give the log surface gravity (cm/s^2)', 'dm_log10age_corr gives the correlation between DM and log10 age', 'log10age_Z_corr gives the correlation between log10 age and Z', 'dm_Z_corr gives the correlation between DM and Z', '(l,b) are Galactic coordinates (in rad)', 's is distance (kpc) used for the Galactocentric velocity and action calculations = 10**(0.2*dm-2)', 'vlos is radial velocity (km/s)', '(mu_l, mu_b) = Proper motion in Galactic coordinates (mas/yr) (mu_l contains cos(b) factor)', '(R,phi,z) are Galactocentric coordinates (kpc) -- convention is right-handed coordinate system with', ' positive x away from GC and positive z towards NGP', '(vR,vphi,vz) are Galactocentric polar velocities (km/s)-- note vphi is in the negative phi direction ', '(so Sun has positive vphi)', 'We assume the Sun is at (R,z) = (8.2,0.014) kpc with peculiar velocity (U,V,W) = (11.10,12.24,7.25) km/s', 'We use the potential PJM16_best.Tpot from McMillan (2017).', 'The actions (JR,Lz,Jz) are computed using the Staeckel fudge from Binney (2012) (in units kpc km/s).', 'Rc is the radius of a circular orbit with angular momentum Lz (in kpc).', '*_err are the associated errors in these quantities.flag is an integer where 0 denotes all columns contain values', 'if flag!=0 then many other columns will be nan', 'if flag=1 the pipeline failed (could not find overlap with any isochrone),', 'if flag=2 there was a problem with spectroscopy,if flag=3 problem with photometry,if flag=4 problem with astrometry,if flag=5 problem with mass estimate.', 'flag=6 nan errors from pipeline (likely only one isochrone point available)', 'flag=7 pre-main-sequence star with age < 100 Myr (likely binary star?)', 'duplicated -- 1 if duplicate Gaia source_id -- we keep sources in the order: APOGEE, GALAH, GES, RAVE-ON, RAVE and LAMOST', 'best -- 1 if flag=0, duplicated=0 and valid Gaia source_id']\n"
     ]
    }
   ],
   "source": [
    "file = \"gaia_spectro.hdf5\"\n",
    "from astropy.table import Table\n",
    "data = Table.read(file)\n",
    "print(data.meta[\"COMMENT\"])\n",
    "sanders = data.to_pandas()"
   ]
  },
  {
   "cell_type": "code",
   "execution_count": 20,
   "metadata": {},
   "outputs": [
    {
     "name": "stdout",
     "output_type": "stream",
     "text": [
      "(4906746, 62) (546, 246) (326, 307)\n"
     ]
    },
    {
     "data": {
      "text/plain": [
       "Index(['obsid', 'source_id', 'dm', 'dm_err', 'dist', 'dist_err', 'par',\n",
       "       'par_err', 'log10_age', 'log10_age_err', 'mass', 'mass_err', 'Z',\n",
       "       'Z_err', 'log10_av', 'log10_av_err', 'log10_teff', 'log10_teff_err',\n",
       "       'logg', 'logg_err', 'dm_log10age_corr', 'log10age_Z_corr', 'dm_Z_corr',\n",
       "       'l', 'b', 's', 'vlos', 'mu_l', 'mu_b', 'R', 'phi', 'z', 'vR', 'vphi',\n",
       "       'vz', 'JR', 'Lz', 'Jz', 'Rc', 's_err', 'vlos_err', 'mu_l_err',\n",
       "       'mu_b_err', 'R_err', 'phi_err', 'z_err', 'vR_err', 'vphi_err', 'vz_err',\n",
       "       'JR_err', 'Lz_err', 'Jz_err', 'Rc_err', 'flag', 'survey', 'raveid',\n",
       "       'APOGEE_ID', 'sobject_id', 'CNAME', 'specobjid', 'duplicated', 'best'],\n",
       "      dtype='object')"
      ]
     },
     "execution_count": 20,
     "metadata": {},
     "output_type": "execute_result"
    }
   ],
   "source": [
    "sdf = pd.merge(sanders, df, on=\"source_id\")\n",
    "print(np.shape(sanders), np.shape(df), np.shape(sdf))\n",
    "sanders.keys()\n",
    "#print(sanders.Z)"
   ]
  },
  {
   "cell_type": "code",
   "execution_count": null,
   "metadata": {},
   "outputs": [],
   "source": [
    "# Create estimated colour column.\n",
    "bv_color = []\n",
    "for i in range(np.shape(sdf)[0]):\n",
    "    bv_color.append(bprp_2_bv(sdf.phot_bp_mean_mag.values[i] - sdf.phot_rp_mean_mag.values[i]))\n",
    "\n",
    "# Create df\n",
    "mydf = pd.DataFrame(dict({\"mass\": sdf.mass.values, \n",
    "                          \"feh\": sdf.cks_smet.values,\n",
    "                          \"feh_err1\": df.cks_smet_err1.values,\n",
    "                          \"parallax\": df.parallax.values,\n",
    "                          \"parallax_err\": df.parallax_error.values,\n",
    "                          \"teff\": 10**df.log10_teff.values,\n",
    "                          \"teff_err1\": abs(10**df.log10_teff.values \n",
    "                                             - 10**(df.log10_teff.values + df.log10_teff_err.values),\n",
    "                          \"logg\": df.logg.values,\n",
    "                          \"logg_err1\": df.logg_err.values\n",
    "                          \"BV_color\": np.array(bv_color)}))\n",
    "\n",
    "\n",
    "mass_init = sanders.mass.values[star_ind]\n",
    "age_init = 2e9\n",
    "feh_init = san.cks_smet.values[star_ind]\n",
    "distance_init = 1./df.parallax.values[star_ind]\n",
    "Av_init = .1\n",
    "\n",
    "# sample in ln(mass), log10(age) and ln(distance).\n",
    "p_init = np.array([np.log(mass_init), np.log10(age_init), feh_init, np.log(distance_init), Av_init])\n",
    "\n",
    "# Set up the StarModel object needed to calculate the likelihood. \n",
    "param_dict = {\"J\": (df.jmag.values[star_ind], df.jmag.values[star_ind]*.05),\n",
    "            \"H\": (df.hmag.values[star_ind], df.hmag.values[star_ind]*.05),\n",
    "            \"K\": (df.kmag.values[star_ind], df.kmag.values[star_ind]*.05),\n",
    "            \"teff\": (df.cks_steff.values[star_ind], df.cks_steff_err1.values[star_ind]),\n",
    "            \"logg\": (df.cks_slogg.values[star_ind], df.cks_slogg_err1.values[star_ind]),\n",
    "            \"feh\": (df.cks_smet.values[star_ind], df.cks_smet_err1.values[star_ind]),\n",
    "            \"parallax\": (df.parallax.values[star_ind],\n",
    "            (df.parallax_error.values[star_ind]))}  # Isochrones.py takes milliarcseconds\n",
    "mod = StarModel(mist, **param_dict)\n",
    "\n",
    "# Create estimated colour column.\n",
    "bv_color = []\n",
    "for i in range(np.shape(df)[0]):\n",
    "    bv_color.append(bprp_2_bv(df.phot_bp_mean_mag.values[i] - df.phot_rp_mean_mag.values[i]))\n",
    "df[\"BV_color\"] = np.array(bv_color)"
   ]
  }
 ],
 "metadata": {
  "anaconda-cloud": {},
  "kernelspec": {
   "display_name": "Python [conda root]",
   "language": "python",
   "name": "conda-root-py"
  },
  "language_info": {
   "codemirror_mode": {
    "name": "ipython",
    "version": 3
   },
   "file_extension": ".py",
   "mimetype": "text/x-python",
   "name": "python",
   "nbconvert_exporter": "python",
   "pygments_lexer": "ipython3",
   "version": "3.5.2"
  }
 },
 "nbformat": 4,
 "nbformat_minor": 1
}
