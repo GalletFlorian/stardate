{
 "cells": [
  {
   "cell_type": "markdown",
   "metadata": {},
   "source": [
    "# Crossmatch habitable zone targets with the CKS sample and my own rotation period catalogue."
   ]
  },
  {
   "cell_type": "code",
   "execution_count": 1,
   "metadata": {},
   "outputs": [],
   "source": [
    "import numpy as np\n",
    "import matplotlib.pyplot as plt\n",
    "%matplotlib inline\n",
    "import pandas as pd"
   ]
  },
  {
   "cell_type": "markdown",
   "metadata": {},
   "source": [
    "Load Stephen Kane's list of targets, the CKS catalogue, the McQuillan catalogue and my own rotation period catalogue."
   ]
  },
  {
   "cell_type": "code",
   "execution_count": 14,
   "metadata": {},
   "outputs": [],
   "source": [
    "# Kane catalogue:\n",
    "kane = pd.read_csv(\"kane_targets.csv\")\n",
    "\n",
    "# CKS catalogue:\n",
    "cks = pd.read_csv(\"cks_physical_merged.csv\")\n",
    "\n",
    "# McQuillan catalogue:\n",
    "mc = pd.read_csv(\"Table_1_Periodic.txt\")\n",
    "\n",
    "# Tim and my catalogue:\n",
    "tdmra = pd.read_csv(\"koi_periods_0712.csv\")"
   ]
  },
  {
   "cell_type": "markdown",
   "metadata": {},
   "source": [
    "What's the overlap between Stephen Kane's catalogue and the CKS sample?"
   ]
  },
  {
   "cell_type": "code",
   "execution_count": 44,
   "metadata": {},
   "outputs": [
    {
     "name": "stdout",
     "output_type": "stream",
     "text": [
      "Index(['koi_id', 'planet_designation', 'p_orb_days', 'a_AU', 'r_pl_earth',\n",
      "       'teff', 'r_star_rsol', 'insolation_flux_F_E', 'KOI'],\n",
      "      dtype='object') \n",
      "\n",
      "Index(['id_starname', 'id_kic', 'id_koicand', 'id_kepler_name',\n",
      "       'koi_disposition', 'koi_period', 'koi_period_err1', 'koi_period_err2',\n",
      "       'koi_time0', 'koi_time0_err1',\n",
      "       ...\n",
      "       'iso_sma', 'iso_sma_err1', 'iso_sma_err2', 'iso_insol',\n",
      "       'iso_insol_err1', 'iso_insol_err2', 'iso_teq', 'iso_teq_err1',\n",
      "       'iso_teq_err2', 'koi_id'],\n",
      "      dtype='object', length=121)\n",
      "(1162, 9) (2025, 121) (617, 129)\n"
     ]
    }
   ],
   "source": [
    "# Format the CKS catalogue and Kane catalogue column headers.\n",
    "koi_ids = []\n",
    "for i in cks.id_koicand:\n",
    "    koi_ids.append(\"Kepler-{}\".format(int(float(i[1:]))))\n",
    "cks[\"koi_id\"] = koi_ids\n",
    "\n",
    "KOIs = np.zeros(np.shape(kane)[0], dtype=int)\n",
    "for j, i in enumerate(kane.koi_id):\n",
    "    if i[:7] == \"Kepler-\":\n",
    "        KOIs[j] = int((float(i[7:])))\n",
    "\n",
    "kane[\"KOI\"] = KOIs\n",
    "print(kane.keys(), \"\\n\")\n",
    "print(cks.keys())\n",
    "kane_cks = pd.merge(kane, cks, on=\"koi_id\", how=\"inner\")\n",
    "print(np.shape(kane), np.shape(cks), np.shape(kane_cks))"
   ]
  },
  {
   "cell_type": "markdown",
   "metadata": {},
   "source": [
    "617 stars have CKS spectra. ,How many of these stars have rotation periods measured by Amy McQuillan?"
   ]
  },
  {
   "cell_type": "code",
   "execution_count": 65,
   "metadata": {},
   "outputs": [
    {
     "data": {
      "text/plain": [
       "(0, 140)"
      ]
     },
     "execution_count": 65,
     "metadata": {},
     "output_type": "execute_result"
    }
   ],
   "source": [
    "kane_cks_mc = pd.merge(kane_cks, mc, left_on=\"id_kic\", right_on=\"kepid\", how=\"inner\")\n",
    "np.shape(kane_cks_mc)"
   ]
  },
  {
   "cell_type": "markdown",
   "metadata": {},
   "source": [
    "None... How about in Tim and my catalogue?"
   ]
  },
  {
   "cell_type": "code",
   "execution_count": 64,
   "metadata": {},
   "outputs": [
    {
     "data": {
      "text/plain": [
       "(552, 142)"
      ]
     },
     "execution_count": 64,
     "metadata": {},
     "output_type": "execute_result"
    }
   ],
   "source": [
    "kane_cks_tdmra = pd.merge(kane_cks, tdmra, on=\"KOI\", how=\"inner\")\n",
    "np.shape(kane_cks_tdmra)"
   ]
  },
  {
   "cell_type": "markdown",
   "metadata": {},
   "source": [
    "So there are 552 stars with spectroscopic properties AND rotation periods. The next thing to do is to combine all this information using isochrones and a gyrochronology model. See the ipython notebook called age_inference.ipynb for that."
   ]
  }
 ],
 "metadata": {
  "anaconda-cloud": {},
  "kernelspec": {
   "display_name": "Python [conda root]",
   "language": "python",
   "name": "conda-root-py"
  },
  "language_info": {
   "codemirror_mode": {
    "name": "ipython",
    "version": 3
   },
   "file_extension": ".py",
   "mimetype": "text/x-python",
   "name": "python",
   "nbconvert_exporter": "python",
   "pygments_lexer": "ipython3",
   "version": "3.5.2"
  }
 },
 "nbformat": 4,
 "nbformat_minor": 1
}
