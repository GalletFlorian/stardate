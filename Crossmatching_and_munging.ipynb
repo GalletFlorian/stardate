{
 "cells": [
  {
   "cell_type": "markdown",
   "metadata": {},
   "source": [
    "# Crossmatch habitable zone targets with the CKS sample and my own rotation period catalogue."
   ]
  },
  {
   "cell_type": "code",
   "execution_count": 1,
   "metadata": {},
   "outputs": [],
   "source": [
    "import numpy as np\n",
    "import matplotlib.pyplot as plt\n",
    "%matplotlib inline\n",
    "import pandas as pd"
   ]
  },
  {
   "cell_type": "markdown",
   "metadata": {},
   "source": [
    "Load Stephen Kane's list of targets, the CKS catalogue, the McQuillan catalogue and my own rotation period catalogue."
   ]
  },
  {
   "cell_type": "code",
   "execution_count": 14,
   "metadata": {},
   "outputs": [],
   "source": [
    "# Kane catalogue:\n",
    "kane = pd.read_csv(\"kane_targets.csv\")\n",
    "\n",
    "# CKS catalogue:\n",
    "cks = pd.read_csv(\"cks_physical_merged.csv\")\n",
    "\n",
    "# McQuillan catalogue:\n",
    "mc = pd.read_csv(\"Table_1_Periodic.txt\")\n",
    "\n",
    "# Tim and my catalogue:\n",
    "tdmra = pd.read_csv(\"koi_periods_0712.csv\")"
   ]
  },
  {
   "cell_type": "markdown",
   "metadata": {},
   "source": [
    "What's the overlap between Stephen Kane's catalogue and the CKS sample?"
   ]
  },
  {
   "cell_type": "code",
   "execution_count": 44,
   "metadata": {},
   "outputs": [
    {
     "name": "stdout",
     "output_type": "stream",
     "text": [
      "Index(['koi_id', 'planet_designation', 'p_orb_days', 'a_AU', 'r_pl_earth',\n",
      "       'teff', 'r_star_rsol', 'insolation_flux_F_E', 'KOI'],\n",
      "      dtype='object') \n",
      "\n",
      "Index(['id_starname', 'id_kic', 'id_koicand', 'id_kepler_name',\n",
      "       'koi_disposition', 'koi_period', 'koi_period_err1', 'koi_period_err2',\n",
      "       'koi_time0', 'koi_time0_err1',\n",
      "       ...\n",
      "       'iso_sma', 'iso_sma_err1', 'iso_sma_err2', 'iso_insol',\n",
      "       'iso_insol_err1', 'iso_insol_err2', 'iso_teq', 'iso_teq_err1',\n",
      "       'iso_teq_err2', 'koi_id'],\n",
      "      dtype='object', length=121)\n",
      "(1162, 9) (2025, 121) (617, 129)\n"
     ]
    }
   ],
   "source": [
    "# Format the CKS catalogue and Kane catalogue column headers.\n",
    "koi_ids = []\n",
    "for i in cks.id_koicand:\n",
    "    koi_ids.append(\"Kepler-{}\".format(int(float(i[1:]))))\n",
    "cks[\"koi_id\"] = koi_ids\n",
    "\n",
    "KOIs = np.zeros(np.shape(kane)[0], dtype=int)\n",
    "for j, i in enumerate(kane.koi_id):\n",
    "    if i[:7] == \"Kepler-\":\n",
    "        KOIs[j] = int((float(i[7:])))\n",
    "\n",
    "kane[\"KOI\"] = KOIs\n",
    "print(kane.keys(), \"\\n\")\n",
    "print(cks.keys())\n",
    "kane_cks = pd.merge(kane, cks, on=\"koi_id\", how=\"inner\")\n",
    "print(np.shape(kane), np.shape(cks), np.shape(kane_cks))"
   ]
  },
  {
   "cell_type": "code",
   "execution_count": 35,
   "metadata": {},
   "outputs": [
    {
     "name": "stdout",
     "output_type": "stream",
     "text": [
      "K2-5\n"
     ]
    }
   ],
   "source": [
    "print(i)"
   ]
  },
  {
   "cell_type": "markdown",
   "metadata": {},
   "source": [
    "How many of these stars have rotation periods measured by Amy?"
   ]
  },
  {
   "cell_type": "code",
   "execution_count": 59,
   "metadata": {},
   "outputs": [
    {
     "name": "stdout",
     "output_type": "stream",
     "text": [
      "[ 757450 1865042 2162635 2306756 2438264 2438264 2446113 2446113 2571238\n",
      " 2692377]\n",
      "[ 892376 1026146 1026474 1162635 1164102 1292688 1297303 1429921 1430349\n",
      " 1430893 1431060 1431116 1432700 1432745 1435229 1569682 1569863 1570915\n",
      " 1571364 1572802 1573478 1577265 1718071 1721911 1722506 1849590 1865663\n",
      " 1866535 1866924 1866986 1867358 1868579 1870952 1871120 1872885 1873523\n",
      " 1873543 1996574 2010738 2012731 2013627 2013754 2014203 2015703 2015767\n",
      " 2016979 2017692 2018383 2020185 2020638 2140909 2142372 2142451 2156061\n",
      " 2156718 2157356 2160105 2161569 2162907 2163101 2163610 2163634 2167693\n",
      " 2282712 2282944 2285598 2300039 2300440 2301872 2302851 2302997 2305760\n",
      " 2309152 2311842 2423549 2424688 2435893 2436635 2437270 2437317 2438151\n",
      " 2441409 2441562 2441891 2441989 2442004 2442866 2443037 2443364 2443935\n",
      " 2444406 2445782 2446934 2448311 2448958 2554730 2555523 2557350 2557669\n",
      " 2558314 2568503 2570277 2570846 2572352 2574013 2574427 2575433 2576013\n",
      " 2576328 2577210 2577743 2581298 2581444 2583553 2584692 2692704 2692708\n",
      " 2692772 2693993 2694414 2695622 2695885 2708172 2708787 2713086 2713304\n",
      " 2714000 2714077 2716857 2718397 2718781 2718935 2831983 2832175 2832398\n",
      " 2832720 2832741 2834075 2834564 2834612 2834637 2834754 2834778 2835051\n",
      " 2835274 2835393 2836098 2837126 2845689 2847357 2852669 2859045 2859114\n",
      " 2860547 2861126 2861880 2865225 2969839 2971272 2971717 2973297 2973361\n",
      " 2973500 2973800 2982913 2984144 2985366 2987754 2988084 2988458 2989438\n",
      " 2992347 2992668 2994087 2994746 2995880 2997195 2998208 3096944 3099491\n",
      " 3099533 3099900 3100994 3101007 3101129 3101830 3102749 3102763 3103752\n",
      " 3109825 3109945 3110319 3110684 3111995 3112017 3112821 3112828 3112866\n",
      " 3112890 3115879]\n"
     ]
    },
    {
     "data": {
      "text/plain": [
       "(0, 140)"
      ]
     },
     "execution_count": 59,
     "metadata": {},
     "output_type": "execute_result"
    }
   ],
   "source": [
    "print(np.sort(kane_cks.id_kic.values)[:10])\n",
    "print(np.sort(mc.kepid.values[:200]))\n",
    "kane_cks_mc = pd.merge(kane_cks, mc, left_on=\"id_kic\", right_on=\"kepid\", how=\"inner\")\n",
    "np.shape(kane_cks_mc)"
   ]
  },
  {
   "cell_type": "markdown",
   "metadata": {},
   "source": [
    "None... How about in Tim and my catalogue?"
   ]
  },
  {
   "cell_type": "code",
   "execution_count": 64,
   "metadata": {},
   "outputs": [
    {
     "data": {
      "text/plain": [
       "(552, 142)"
      ]
     },
     "execution_count": 64,
     "metadata": {},
     "output_type": "execute_result"
    }
   ],
   "source": [
    "kane_cks_tdmra = pd.merge(kane_cks, tdmra, on=\"KOI\", how=\"inner\")\n",
    "np.shape(kane_cks_tdmra)"
   ]
  },
  {
   "cell_type": "markdown",
   "metadata": {},
   "source": [
    "So there are 552 stars with spectroscopic properties AND rotation periods. The next thing to do is to combine all this information using isochrones and a gyrochronology model. See the ipython notebook called age_inference.ip"
   ]
  },
  {
   "cell_type": "code",
   "execution_count": null,
   "metadata": {},
   "outputs": [],
   "source": []
  }
 ],
 "metadata": {
  "anaconda-cloud": {},
  "kernelspec": {
   "display_name": "Python [conda root]",
   "language": "python",
   "name": "conda-root-py"
  },
  "language_info": {
   "codemirror_mode": {
    "name": "ipython",
    "version": 3
   },
   "file_extension": ".py",
   "mimetype": "text/x-python",
   "name": "python",
   "nbconvert_exporter": "python",
   "pygments_lexer": "ipython3",
   "version": "3.5.2"
  }
 },
 "nbformat": 4,
 "nbformat_minor": 1
}
